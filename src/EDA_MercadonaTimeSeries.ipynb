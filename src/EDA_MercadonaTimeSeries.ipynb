{
 "cells": [
  {
   "cell_type": "markdown",
   "source": [
    "# Sales volume time series with ARIMA\n",
    "\n",
    "Guess Mercadona wants to know the Sales volume for the next 30 days, and also wants to compare the sales with two competitor supermarkets.\n",
    "\n",
    "Dates: From March 6th, 2021 to November 30th,2022.\n",
    "website: https://datamarket.es/dashboards?slug=productos-de-supermercados\n",
    "\n",
    "Dataset information:\n",
    "3 online supermarkets in Spain: Dia, Carrefour, Mercadona\n",
    "\n",
    "\n",
    "Features:\n",
    "category: Categoría del producto.\n",
    "description: Información adicional del producto (formato de empaquetado, etc.).\n",
    "insert_date: Fecha de extracción de la información.\n",
    "name: Nombre del producto.\n",
    "price: Precio absoluto del producto en €. En caso de existir algún tipo de descuento aparecerá el menor precio disponible.\n",
    "reference_price: Precio unitario (por unidad de medida del producto, €/Kg, €/L, etc.).\n",
    "reference_unit: Unidad de referencia del producto (Kg, L, etc.).\n",
    "supermarket: Supermercado al que pertenece el producto."
   ],
   "metadata": {
    "collapsed": false
   }
  },
  {
   "cell_type": "markdown",
   "source": [
    "# 1. Import libraries and understand the data"
   ],
   "metadata": {
    "collapsed": false
   }
  },
  {
   "cell_type": "code",
   "execution_count": 58,
   "metadata": {
    "collapsed": true
   },
   "outputs": [],
   "source": [
    "#Exploring data\n",
    "import pandas as pd\n",
    "import numpy as np\n",
    "from datetime import timedelta\n",
    "from collections import Counter\n",
    "\n",
    "#Visualization\n",
    "import seaborn as sns\n",
    "import matplotlib.pyplot as plt\n",
    "import plotly.express as px\n",
    "%matplotlib inline\n"
   ]
  },
  {
   "cell_type": "code",
   "execution_count": 59,
   "outputs": [
    {
     "data": {
      "text/plain": "                                                       url   supermarket  \\\n9067728  https://www.dia.es/compra-online/cuidado-perso...        dia-es   \n9067729  https://www.dia.es/compra-online/bebidas/aguas...        dia-es   \n9067730  https://www.dia.es/compra-online/bebidas/aguas...        dia-es   \n9067731  https://tienda.mercadona.es/product/3267/pera-...  mercadona-es   \n9067732  https://www.dia.es/compra-online/bebidas/aguas...        dia-es   \n\n                                                 category  \\\n9067728  cuidado_personal_bano_e_higiene_personal_champus   \n9067729                                     bebidas_aguas   \n9067730                                     bebidas_aguas   \n9067731                             fruta_y_verdura_fruta   \n9067732                                     bebidas_aguas   \n\n                                                  name description  price  \\\n9067728  HS champú anticaspa menthol fresh bote 230 ml         NaN   3.19   \n9067729      AQUAREL agua mineral natural botella 5 lt         NaN   1.49   \n9067730        FONT VELLA Levite limón botella 1.25 lt         NaN   1.65   \n9067731                                     Pera Rocha       Pieza   0.28   \n9067732     AQUABONA agua mineral natural botella 5 lt         NaN   1.29   \n\n         reference_price reference_unit          insert_date  \\\n9067728            13.87              l  2022-11-17 00:00:00   \n9067729             0.30              l  2022-11-17 00:00:00   \n9067730             1.32              l  2022-11-17 00:00:00   \n9067731             2.19             kg  2022-11-17 00:00:00   \n9067732             0.26              l  2022-11-17 00:00:00   \n\n                               product_id  \n9067728  6b283350affe823c96c3af9d18953251  \n9067729  bd1ac576497a39f69cdf2462b015314f  \n9067730  0ecdc59cb9677f54e1e1f28b0c8e0a7f  \n9067731  3816000deedf53985ade236da2e878df  \n9067732  4070e21a09c737626f0ef259d57e2680  ",
      "text/html": "<div>\n<style scoped>\n    .dataframe tbody tr th:only-of-type {\n        vertical-align: middle;\n    }\n\n    .dataframe tbody tr th {\n        vertical-align: top;\n    }\n\n    .dataframe thead th {\n        text-align: right;\n    }\n</style>\n<table border=\"1\" class=\"dataframe\">\n  <thead>\n    <tr style=\"text-align: right;\">\n      <th></th>\n      <th>url</th>\n      <th>supermarket</th>\n      <th>category</th>\n      <th>name</th>\n      <th>description</th>\n      <th>price</th>\n      <th>reference_price</th>\n      <th>reference_unit</th>\n      <th>insert_date</th>\n      <th>product_id</th>\n    </tr>\n  </thead>\n  <tbody>\n    <tr>\n      <th>9067728</th>\n      <td>https://www.dia.es/compra-online/cuidado-perso...</td>\n      <td>dia-es</td>\n      <td>cuidado_personal_bano_e_higiene_personal_champus</td>\n      <td>HS champú anticaspa menthol fresh bote 230 ml</td>\n      <td>NaN</td>\n      <td>3.19</td>\n      <td>13.87</td>\n      <td>l</td>\n      <td>2022-11-17 00:00:00</td>\n      <td>6b283350affe823c96c3af9d18953251</td>\n    </tr>\n    <tr>\n      <th>9067729</th>\n      <td>https://www.dia.es/compra-online/bebidas/aguas...</td>\n      <td>dia-es</td>\n      <td>bebidas_aguas</td>\n      <td>AQUAREL agua mineral natural botella 5 lt</td>\n      <td>NaN</td>\n      <td>1.49</td>\n      <td>0.30</td>\n      <td>l</td>\n      <td>2022-11-17 00:00:00</td>\n      <td>bd1ac576497a39f69cdf2462b015314f</td>\n    </tr>\n    <tr>\n      <th>9067730</th>\n      <td>https://www.dia.es/compra-online/bebidas/aguas...</td>\n      <td>dia-es</td>\n      <td>bebidas_aguas</td>\n      <td>FONT VELLA Levite limón botella 1.25 lt</td>\n      <td>NaN</td>\n      <td>1.65</td>\n      <td>1.32</td>\n      <td>l</td>\n      <td>2022-11-17 00:00:00</td>\n      <td>0ecdc59cb9677f54e1e1f28b0c8e0a7f</td>\n    </tr>\n    <tr>\n      <th>9067731</th>\n      <td>https://tienda.mercadona.es/product/3267/pera-...</td>\n      <td>mercadona-es</td>\n      <td>fruta_y_verdura_fruta</td>\n      <td>Pera Rocha</td>\n      <td>Pieza</td>\n      <td>0.28</td>\n      <td>2.19</td>\n      <td>kg</td>\n      <td>2022-11-17 00:00:00</td>\n      <td>3816000deedf53985ade236da2e878df</td>\n    </tr>\n    <tr>\n      <th>9067732</th>\n      <td>https://www.dia.es/compra-online/bebidas/aguas...</td>\n      <td>dia-es</td>\n      <td>bebidas_aguas</td>\n      <td>AQUABONA agua mineral natural botella 5 lt</td>\n      <td>NaN</td>\n      <td>1.29</td>\n      <td>0.26</td>\n      <td>l</td>\n      <td>2022-11-17 00:00:00</td>\n      <td>4070e21a09c737626f0ef259d57e2680</td>\n    </tr>\n  </tbody>\n</table>\n</div>"
     },
     "execution_count": 59,
     "metadata": {},
     "output_type": "execute_result"
    }
   ],
   "source": [
    "raw_data = pd.read_csv(r\"/Users/liss/Documents/GitHub/Sales-volume-forecast-ARIMA/datamarket_productos_de_supermercados.csv\", encoding=\"UTF8\")\n",
    "raw_data.tail()"
   ],
   "metadata": {
    "collapsed": false
   }
  },
  {
   "cell_type": "code",
   "execution_count": 60,
   "outputs": [
    {
     "name": "stdout",
     "output_type": "stream",
     "text": [
      "<class 'pandas.core.frame.DataFrame'>\n",
      "RangeIndex: 9067733 entries, 0 to 9067732\n",
      "Data columns (total 10 columns):\n",
      " #   Column           Dtype  \n",
      "---  ------           -----  \n",
      " 0   url              object \n",
      " 1   supermarket      object \n",
      " 2   category         object \n",
      " 3   name             object \n",
      " 4   description      object \n",
      " 5   price            float64\n",
      " 6   reference_price  float64\n",
      " 7   reference_unit   object \n",
      " 8   insert_date      object \n",
      " 9   product_id       object \n",
      "dtypes: float64(2), object(8)\n",
      "memory usage: 691.8+ MB\n"
     ]
    }
   ],
   "source": [
    "raw_data.info()"
   ],
   "metadata": {
    "collapsed": false
   }
  },
  {
   "cell_type": "markdown",
   "source": [
    "### Digging into the data\n",
    "\n",
    "This model only needs price and number of products, some features or columns will be removed"
   ],
   "metadata": {
    "collapsed": false
   }
  },
  {
   "cell_type": "code",
   "execution_count": 61,
   "outputs": [
    {
     "data": {
      "text/plain": "url                      0\nsupermarket              0\ncategory                 0\nname                   231\ndescription        5744317\nprice                   18\nreference_price          6\nreference_unit        5480\ninsert_date              0\nproduct_id               0\ndtype: int64"
     },
     "execution_count": 61,
     "metadata": {},
     "output_type": "execute_result"
    }
   ],
   "source": [
    "#nan on price will be filled consequently if needed\n",
    "raw_data.isnull().sum()"
   ],
   "metadata": {
    "collapsed": false
   }
  },
  {
   "cell_type": "code",
   "execution_count": 62,
   "outputs": [
    {
     "data": {
      "text/plain": "                                                       url   supermarket  \\\n6358138  https://www.carrefour.es/supermercado/limon-a-...  carrefour-es   \n7106312  https://www.dia.es/compra-online/despensa/past...        dia-es   \n7108434  https://www.dia.es/compra-online/despensa/lact...        dia-es   \n7108873  https://www.dia.es/compra-online/despensa/desa...        dia-es   \n7114222  https://www.dia.es/compra-online/despensa/lact...        dia-es   \n7114662  https://www.dia.es/compra-online/despensa/past...        dia-es   \n7121216  https://www.dia.es/compra-online/despensa/desa...        dia-es   \n7280479  https://www.carrefour.es/supermercado/ginebra-...  carrefour-es   \n7388015  https://www.carrefour.es/supermercado/whisky-j...  carrefour-es   \n7399970  https://www.carrefour.es/supermercado/whisky-j...  carrefour-es   \n7418105  https://www.carrefour.es/supermercado/whisky-j...  carrefour-es   \n7438312  https://www.carrefour.es/supermercado/whisky-j...  carrefour-es   \n7450819  https://www.carrefour.es/supermercado/whisky-j...  carrefour-es   \n7456434  https://www.carrefour.es/supermercado/whisky-j...  carrefour-es   \n7480777  https://www.carrefour.es/supermercado/whisky-j...  carrefour-es   \n7488633  https://www.carrefour.es/supermercado/whisky-j...  carrefour-es   \n7503213  https://www.carrefour.es/supermercado/whisky-j...  carrefour-es   \n7523340  https://www.carrefour.es/supermercado/whisky-j...  carrefour-es   \n\n                                                  category  \\\n6358138  productos_frescos_frutas_naranjas_y_otros_citr...   \n7106312             despensa_pastas_harinas_y_masas_pastas   \n7108434  despensa_lacteos_y_huevos_mantequilla_y_margarina   \n7108873               despensa_desayunos_y_dulces_bolleria   \n7114222  despensa_lacteos_y_huevos_mantequilla_y_margarina   \n7114662             despensa_pastas_harinas_y_masas_pastas   \n7121216               despensa_desayunos_y_dulces_bolleria   \n7280479                          bebidas_alcoholes_ginebra   \n7388015              bebidas_alcoholes_todos_los_alcoholes   \n7399970              bebidas_alcoholes_todos_los_alcoholes   \n7418105              bebidas_alcoholes_todos_los_alcoholes   \n7438312              bebidas_alcoholes_todos_los_alcoholes   \n7450819              bebidas_alcoholes_todos_los_alcoholes   \n7456434              bebidas_alcoholes_todos_los_alcoholes   \n7480777              bebidas_alcoholes_todos_los_alcoholes   \n7488633              bebidas_alcoholes_todos_los_alcoholes   \n7503213              bebidas_alcoholes_todos_los_alcoholes   \n7523340              bebidas_alcoholes_todos_los_alcoholes   \n\n                                                      name description  price  \\\n6358138                          Limón a granel 1 Kg aprox         NaN    NaN   \n7106312   DIA SELECCIÓN MUNDIAL tortiglioni paquete 500 gr         NaN    NaN   \n7108434               DIA margarina ligera barqueta 500 gr         NaN    NaN   \n7108873  BISCUITS GALICIA mini magdalenas con mantequil...         NaN    NaN   \n7114222               DIA margarina ligera barqueta 500 gr         NaN    NaN   \n7114662   DIA SELECCIÓN MUNDIAL tortiglioni paquete 500 gr         NaN    NaN   \n7121216  BISCUITS GALICIA mini magdalenas con mantequil...         NaN    NaN   \n7280479                              Ginebra Gordon's 1 l.         NaN    NaN   \n7388015                     Whisky Jameson irlandés 70 cl.         NaN    NaN   \n7399970                     Whisky Jameson irlandés 70 cl.         NaN    NaN   \n7418105                     Whisky Jameson irlandés 70 cl.         NaN    NaN   \n7438312                     Whisky Jameson irlandés 70 cl.         NaN    NaN   \n7450819                     Whisky Jameson irlandés 70 cl.         NaN    NaN   \n7456434                     Whisky Jameson irlandés 70 cl.         NaN    NaN   \n7480777                     Whisky Jameson irlandés 70 cl.         NaN    NaN   \n7488633                     Whisky Jameson irlandés 70 cl.         NaN    NaN   \n7503213                     Whisky Jameson irlandés 70 cl.         NaN    NaN   \n7523340                     Whisky Jameson irlandés 70 cl.         NaN    NaN   \n\n         reference_price reference_unit          insert_date  \\\n6358138             2.29             kg  2022-05-06 00:00:00   \n7106312              NaN            NaN  2022-06-27 00:00:00   \n7108434              NaN            NaN  2022-06-27 00:00:00   \n7108873              NaN            NaN  2022-06-27 00:00:00   \n7114222              NaN            NaN  2022-06-28 00:00:00   \n7114662              NaN            NaN  2022-06-28 00:00:00   \n7121216              NaN            NaN  2022-06-28 00:00:00   \n7280479            13.49              l  2022-07-09 00:00:00   \n7388015            25.99              l  2022-07-17 00:00:00   \n7399970            25.99              l  2022-07-18 00:00:00   \n7418105            25.99              l  2022-07-19 00:00:00   \n7438312            25.99              l  2022-07-20 00:00:00   \n7450819            25.99              l  2022-07-21 00:00:00   \n7456434            25.99              l  2022-07-22 00:00:00   \n7480777            25.99              l  2022-07-23 00:00:00   \n7488633            25.99              l  2022-07-24 00:00:00   \n7503213            25.99              l  2022-07-25 00:00:00   \n7523340            25.99              l  2022-07-26 00:00:00   \n\n                               product_id  \n6358138  21db945fe921f68bc2fc6940a7372d19  \n7106312  61a283804a2289fbe661250c83c1a717  \n7108434  65f083cea3dd8750f4738e187ec0dbc4  \n7108873  d522a411cc1cc234dd353d4f14380733  \n7114222  65f083cea3dd8750f4738e187ec0dbc4  \n7114662  61a283804a2289fbe661250c83c1a717  \n7121216  d522a411cc1cc234dd353d4f14380733  \n7280479  4dfc046c75551b4d2324070e00ae2a49  \n7388015  c09040febafa3b18253fa796df590548  \n7399970  c09040febafa3b18253fa796df590548  \n7418105  c09040febafa3b18253fa796df590548  \n7438312  c09040febafa3b18253fa796df590548  \n7450819  c09040febafa3b18253fa796df590548  \n7456434  c09040febafa3b18253fa796df590548  \n7480777  c09040febafa3b18253fa796df590548  \n7488633  c09040febafa3b18253fa796df590548  \n7503213  c09040febafa3b18253fa796df590548  \n7523340  c09040febafa3b18253fa796df590548  ",
      "text/html": "<div>\n<style scoped>\n    .dataframe tbody tr th:only-of-type {\n        vertical-align: middle;\n    }\n\n    .dataframe tbody tr th {\n        vertical-align: top;\n    }\n\n    .dataframe thead th {\n        text-align: right;\n    }\n</style>\n<table border=\"1\" class=\"dataframe\">\n  <thead>\n    <tr style=\"text-align: right;\">\n      <th></th>\n      <th>url</th>\n      <th>supermarket</th>\n      <th>category</th>\n      <th>name</th>\n      <th>description</th>\n      <th>price</th>\n      <th>reference_price</th>\n      <th>reference_unit</th>\n      <th>insert_date</th>\n      <th>product_id</th>\n    </tr>\n  </thead>\n  <tbody>\n    <tr>\n      <th>6358138</th>\n      <td>https://www.carrefour.es/supermercado/limon-a-...</td>\n      <td>carrefour-es</td>\n      <td>productos_frescos_frutas_naranjas_y_otros_citr...</td>\n      <td>Limón a granel 1 Kg aprox</td>\n      <td>NaN</td>\n      <td>NaN</td>\n      <td>2.29</td>\n      <td>kg</td>\n      <td>2022-05-06 00:00:00</td>\n      <td>21db945fe921f68bc2fc6940a7372d19</td>\n    </tr>\n    <tr>\n      <th>7106312</th>\n      <td>https://www.dia.es/compra-online/despensa/past...</td>\n      <td>dia-es</td>\n      <td>despensa_pastas_harinas_y_masas_pastas</td>\n      <td>DIA SELECCIÓN MUNDIAL tortiglioni paquete 500 gr</td>\n      <td>NaN</td>\n      <td>NaN</td>\n      <td>NaN</td>\n      <td>NaN</td>\n      <td>2022-06-27 00:00:00</td>\n      <td>61a283804a2289fbe661250c83c1a717</td>\n    </tr>\n    <tr>\n      <th>7108434</th>\n      <td>https://www.dia.es/compra-online/despensa/lact...</td>\n      <td>dia-es</td>\n      <td>despensa_lacteos_y_huevos_mantequilla_y_margarina</td>\n      <td>DIA margarina ligera barqueta 500 gr</td>\n      <td>NaN</td>\n      <td>NaN</td>\n      <td>NaN</td>\n      <td>NaN</td>\n      <td>2022-06-27 00:00:00</td>\n      <td>65f083cea3dd8750f4738e187ec0dbc4</td>\n    </tr>\n    <tr>\n      <th>7108873</th>\n      <td>https://www.dia.es/compra-online/despensa/desa...</td>\n      <td>dia-es</td>\n      <td>despensa_desayunos_y_dulces_bolleria</td>\n      <td>BISCUITS GALICIA mini magdalenas con mantequil...</td>\n      <td>NaN</td>\n      <td>NaN</td>\n      <td>NaN</td>\n      <td>NaN</td>\n      <td>2022-06-27 00:00:00</td>\n      <td>d522a411cc1cc234dd353d4f14380733</td>\n    </tr>\n    <tr>\n      <th>7114222</th>\n      <td>https://www.dia.es/compra-online/despensa/lact...</td>\n      <td>dia-es</td>\n      <td>despensa_lacteos_y_huevos_mantequilla_y_margarina</td>\n      <td>DIA margarina ligera barqueta 500 gr</td>\n      <td>NaN</td>\n      <td>NaN</td>\n      <td>NaN</td>\n      <td>NaN</td>\n      <td>2022-06-28 00:00:00</td>\n      <td>65f083cea3dd8750f4738e187ec0dbc4</td>\n    </tr>\n    <tr>\n      <th>7114662</th>\n      <td>https://www.dia.es/compra-online/despensa/past...</td>\n      <td>dia-es</td>\n      <td>despensa_pastas_harinas_y_masas_pastas</td>\n      <td>DIA SELECCIÓN MUNDIAL tortiglioni paquete 500 gr</td>\n      <td>NaN</td>\n      <td>NaN</td>\n      <td>NaN</td>\n      <td>NaN</td>\n      <td>2022-06-28 00:00:00</td>\n      <td>61a283804a2289fbe661250c83c1a717</td>\n    </tr>\n    <tr>\n      <th>7121216</th>\n      <td>https://www.dia.es/compra-online/despensa/desa...</td>\n      <td>dia-es</td>\n      <td>despensa_desayunos_y_dulces_bolleria</td>\n      <td>BISCUITS GALICIA mini magdalenas con mantequil...</td>\n      <td>NaN</td>\n      <td>NaN</td>\n      <td>NaN</td>\n      <td>NaN</td>\n      <td>2022-06-28 00:00:00</td>\n      <td>d522a411cc1cc234dd353d4f14380733</td>\n    </tr>\n    <tr>\n      <th>7280479</th>\n      <td>https://www.carrefour.es/supermercado/ginebra-...</td>\n      <td>carrefour-es</td>\n      <td>bebidas_alcoholes_ginebra</td>\n      <td>Ginebra Gordon's 1 l.</td>\n      <td>NaN</td>\n      <td>NaN</td>\n      <td>13.49</td>\n      <td>l</td>\n      <td>2022-07-09 00:00:00</td>\n      <td>4dfc046c75551b4d2324070e00ae2a49</td>\n    </tr>\n    <tr>\n      <th>7388015</th>\n      <td>https://www.carrefour.es/supermercado/whisky-j...</td>\n      <td>carrefour-es</td>\n      <td>bebidas_alcoholes_todos_los_alcoholes</td>\n      <td>Whisky Jameson irlandés 70 cl.</td>\n      <td>NaN</td>\n      <td>NaN</td>\n      <td>25.99</td>\n      <td>l</td>\n      <td>2022-07-17 00:00:00</td>\n      <td>c09040febafa3b18253fa796df590548</td>\n    </tr>\n    <tr>\n      <th>7399970</th>\n      <td>https://www.carrefour.es/supermercado/whisky-j...</td>\n      <td>carrefour-es</td>\n      <td>bebidas_alcoholes_todos_los_alcoholes</td>\n      <td>Whisky Jameson irlandés 70 cl.</td>\n      <td>NaN</td>\n      <td>NaN</td>\n      <td>25.99</td>\n      <td>l</td>\n      <td>2022-07-18 00:00:00</td>\n      <td>c09040febafa3b18253fa796df590548</td>\n    </tr>\n    <tr>\n      <th>7418105</th>\n      <td>https://www.carrefour.es/supermercado/whisky-j...</td>\n      <td>carrefour-es</td>\n      <td>bebidas_alcoholes_todos_los_alcoholes</td>\n      <td>Whisky Jameson irlandés 70 cl.</td>\n      <td>NaN</td>\n      <td>NaN</td>\n      <td>25.99</td>\n      <td>l</td>\n      <td>2022-07-19 00:00:00</td>\n      <td>c09040febafa3b18253fa796df590548</td>\n    </tr>\n    <tr>\n      <th>7438312</th>\n      <td>https://www.carrefour.es/supermercado/whisky-j...</td>\n      <td>carrefour-es</td>\n      <td>bebidas_alcoholes_todos_los_alcoholes</td>\n      <td>Whisky Jameson irlandés 70 cl.</td>\n      <td>NaN</td>\n      <td>NaN</td>\n      <td>25.99</td>\n      <td>l</td>\n      <td>2022-07-20 00:00:00</td>\n      <td>c09040febafa3b18253fa796df590548</td>\n    </tr>\n    <tr>\n      <th>7450819</th>\n      <td>https://www.carrefour.es/supermercado/whisky-j...</td>\n      <td>carrefour-es</td>\n      <td>bebidas_alcoholes_todos_los_alcoholes</td>\n      <td>Whisky Jameson irlandés 70 cl.</td>\n      <td>NaN</td>\n      <td>NaN</td>\n      <td>25.99</td>\n      <td>l</td>\n      <td>2022-07-21 00:00:00</td>\n      <td>c09040febafa3b18253fa796df590548</td>\n    </tr>\n    <tr>\n      <th>7456434</th>\n      <td>https://www.carrefour.es/supermercado/whisky-j...</td>\n      <td>carrefour-es</td>\n      <td>bebidas_alcoholes_todos_los_alcoholes</td>\n      <td>Whisky Jameson irlandés 70 cl.</td>\n      <td>NaN</td>\n      <td>NaN</td>\n      <td>25.99</td>\n      <td>l</td>\n      <td>2022-07-22 00:00:00</td>\n      <td>c09040febafa3b18253fa796df590548</td>\n    </tr>\n    <tr>\n      <th>7480777</th>\n      <td>https://www.carrefour.es/supermercado/whisky-j...</td>\n      <td>carrefour-es</td>\n      <td>bebidas_alcoholes_todos_los_alcoholes</td>\n      <td>Whisky Jameson irlandés 70 cl.</td>\n      <td>NaN</td>\n      <td>NaN</td>\n      <td>25.99</td>\n      <td>l</td>\n      <td>2022-07-23 00:00:00</td>\n      <td>c09040febafa3b18253fa796df590548</td>\n    </tr>\n    <tr>\n      <th>7488633</th>\n      <td>https://www.carrefour.es/supermercado/whisky-j...</td>\n      <td>carrefour-es</td>\n      <td>bebidas_alcoholes_todos_los_alcoholes</td>\n      <td>Whisky Jameson irlandés 70 cl.</td>\n      <td>NaN</td>\n      <td>NaN</td>\n      <td>25.99</td>\n      <td>l</td>\n      <td>2022-07-24 00:00:00</td>\n      <td>c09040febafa3b18253fa796df590548</td>\n    </tr>\n    <tr>\n      <th>7503213</th>\n      <td>https://www.carrefour.es/supermercado/whisky-j...</td>\n      <td>carrefour-es</td>\n      <td>bebidas_alcoholes_todos_los_alcoholes</td>\n      <td>Whisky Jameson irlandés 70 cl.</td>\n      <td>NaN</td>\n      <td>NaN</td>\n      <td>25.99</td>\n      <td>l</td>\n      <td>2022-07-25 00:00:00</td>\n      <td>c09040febafa3b18253fa796df590548</td>\n    </tr>\n    <tr>\n      <th>7523340</th>\n      <td>https://www.carrefour.es/supermercado/whisky-j...</td>\n      <td>carrefour-es</td>\n      <td>bebidas_alcoholes_todos_los_alcoholes</td>\n      <td>Whisky Jameson irlandés 70 cl.</td>\n      <td>NaN</td>\n      <td>NaN</td>\n      <td>25.99</td>\n      <td>l</td>\n      <td>2022-07-26 00:00:00</td>\n      <td>c09040febafa3b18253fa796df590548</td>\n    </tr>\n  </tbody>\n</table>\n</div>"
     },
     "execution_count": 62,
     "metadata": {},
     "output_type": "execute_result"
    }
   ],
   "source": [
    "raw_data[raw_data['price'].isnull()]"
   ],
   "metadata": {
    "collapsed": false
   }
  },
  {
   "cell_type": "code",
   "execution_count": 63,
   "outputs": [
    {
     "data": {
      "text/plain": "              price  reference_price\ncount  9.067715e+06     9.067727e+06\nmean   4.764327e+00     1.886243e+01\nstd    4.832522e+01     6.013926e+02\nmin    8.000000e-02     3.000000e-03\n25%    1.390000e+00     1.830000e+00\n50%    2.250000e+00     4.590000e+00\n75%    3.990000e+00     9.940000e+00\nmax    7.915050e+03     1.633333e+05",
      "text/html": "<div>\n<style scoped>\n    .dataframe tbody tr th:only-of-type {\n        vertical-align: middle;\n    }\n\n    .dataframe tbody tr th {\n        vertical-align: top;\n    }\n\n    .dataframe thead th {\n        text-align: right;\n    }\n</style>\n<table border=\"1\" class=\"dataframe\">\n  <thead>\n    <tr style=\"text-align: right;\">\n      <th></th>\n      <th>price</th>\n      <th>reference_price</th>\n    </tr>\n  </thead>\n  <tbody>\n    <tr>\n      <th>count</th>\n      <td>9.067715e+06</td>\n      <td>9.067727e+06</td>\n    </tr>\n    <tr>\n      <th>mean</th>\n      <td>4.764327e+00</td>\n      <td>1.886243e+01</td>\n    </tr>\n    <tr>\n      <th>std</th>\n      <td>4.832522e+01</td>\n      <td>6.013926e+02</td>\n    </tr>\n    <tr>\n      <th>min</th>\n      <td>8.000000e-02</td>\n      <td>3.000000e-03</td>\n    </tr>\n    <tr>\n      <th>25%</th>\n      <td>1.390000e+00</td>\n      <td>1.830000e+00</td>\n    </tr>\n    <tr>\n      <th>50%</th>\n      <td>2.250000e+00</td>\n      <td>4.590000e+00</td>\n    </tr>\n    <tr>\n      <th>75%</th>\n      <td>3.990000e+00</td>\n      <td>9.940000e+00</td>\n    </tr>\n    <tr>\n      <th>max</th>\n      <td>7.915050e+03</td>\n      <td>1.633333e+05</td>\n    </tr>\n  </tbody>\n</table>\n</div>"
     },
     "execution_count": 63,
     "metadata": {},
     "output_type": "execute_result"
    }
   ],
   "source": [
    "#outliers? , it seems max is 7999, check it, it may be an error or an outlier\n",
    "raw_data.describe()"
   ],
   "metadata": {
    "collapsed": false
   }
  },
  {
   "cell_type": "markdown",
   "source": [
    "Deal with outliers"
   ],
   "metadata": {
    "collapsed": false
   }
  },
  {
   "cell_type": "code",
   "execution_count": 64,
   "outputs": [],
   "source": [
    "# the most expensive fruit or veggie cost 7€, just in case, it is set in 8. It seems everything is multiplied by 100!! and only in mercadona supermarket!.\n",
    "raw_data['price'] = np.where((raw_data['price'] >= 490.05) &\n",
    "                             (raw_data['supermarket']=='mercadona-es') |\n",
    "                             ((raw_data['category'] == 'fruta_y_verdura_verdura') & (raw_data['price']>= 8.0)) |\n",
    "                             ((raw_data['category'] == 'fruta_y_verdura_fruta') & (raw_data['price']>= 8.0)),\n",
    "                             round(raw_data['price']/100,2), raw_data['price'].values)\n",
    "\n",
    "#raw_data.sort_values(by='price')"
   ],
   "metadata": {
    "collapsed": false
   }
  },
  {
   "cell_type": "code",
   "execution_count": 65,
   "outputs": [],
   "source": [
    "raw_data['insert_date'] = pd.to_datetime(raw_data['insert_date']).dt.normalize()\n",
    "\n",
    "#insert_date is the date of the day after the sale\n",
    "raw_data['daily_sales'] = raw_data['insert_date']- timedelta(days=1)\n",
    "\n",
    "raw_data['unit']= int(1)"
   ],
   "metadata": {
    "collapsed": false
   }
  },
  {
   "cell_type": "code",
   "execution_count": 66,
   "outputs": [
    {
     "name": "stdout",
     "output_type": "stream",
     "text": [
      "<class 'pandas.core.frame.DataFrame'>\n",
      "RangeIndex: 9067733 entries, 0 to 9067732\n",
      "Data columns (total 5 columns):\n",
      " #   Column       Dtype         \n",
      "---  ------       -----         \n",
      " 0   supermarket  object        \n",
      " 1   name         object        \n",
      " 2   price        float64       \n",
      " 3   daily_sales  datetime64[ns]\n",
      " 4   unit         int64         \n",
      "dtypes: datetime64[ns](1), float64(1), int64(1), object(2)\n",
      "memory usage: 345.9+ MB\n"
     ]
    }
   ],
   "source": [
    "raw_data = raw_data.drop(['url', 'category', 'description', 'reference_price', 'reference_unit', 'insert_date', 'product_id'], axis=1)\n",
    "raw_data.info()"
   ],
   "metadata": {
    "collapsed": false
   }
  },
  {
   "cell_type": "markdown",
   "source": [
    "# 2. Compare sales among the supermarkets\n",
    "\n",
    "Split data of the different supermarkets"
   ],
   "metadata": {
    "collapsed": false
   }
  },
  {
   "cell_type": "code",
   "execution_count": 67,
   "outputs": [],
   "source": [
    "raw_data_carre = raw_data[raw_data['supermarket']=='carrefour-es']\n",
    "raw_data_dia = raw_data[raw_data['supermarket']=='dia-es']\n",
    "raw_data_merca = raw_data[raw_data['supermarket']=='mercadona-es']"
   ],
   "metadata": {
    "collapsed": false
   }
  },
  {
   "cell_type": "code",
   "execution_count": 68,
   "outputs": [],
   "source": [
    "raw_data_carre = raw_data_carre.drop(['supermarket'], axis=1)\n",
    "raw_data_dia = raw_data_dia.drop(['supermarket'], axis=1)\n",
    "raw_data_merca = raw_data_merca.drop(['supermarket'], axis=1)\n"
   ],
   "metadata": {
    "collapsed": false
   }
  },
  {
   "cell_type": "code",
   "execution_count": 69,
   "outputs": [],
   "source": [
    "# Make copies for the modeling\n",
    "rmodelCarre= raw_data_carre.copy()\n",
    "rmodelDia = raw_data_dia.copy()\n",
    "rmodelMerca = raw_data_merca.copy()"
   ],
   "metadata": {
    "collapsed": false
   }
  },
  {
   "cell_type": "code",
   "execution_count": 70,
   "outputs": [
    {
     "name": "stdout",
     "output_type": "stream",
     "text": [
      "Carrefour's number of products sold:  1870589 , total sales(€):   9465631.31\n",
      "Dia's number of products sold:  3532982 , \ttotal sales(€):  12033125.56\n",
      "Mercadona's number of products sold:  3664162 , total sales(€):  11900226.84\n",
      "\n",
      "Difference on number of products between Mercadona and Carrefour:  1793573\n",
      "Difference on number of products between Mercadona and Dia:  131180\n",
      "Difference on total sales between Mercadona and Carrefour(€):  2434595.53\n",
      "Difference on total sales between Mercadona and Dia(€):  -132898.72\n"
     ]
    }
   ],
   "source": [
    "# Number of products and total sales\n",
    "print(\"Carrefour's number of products sold: \", raw_data_carre.shape[0], \", total sales(€): \",\"\",round(raw_data_carre['price'].sum(),2))\n",
    "print(\"Dia's number of products sold: \", raw_data_dia.shape[0], \", \\ttotal sales(€): \",round(raw_data_dia['price'].sum(),2))\n",
    "print(\"Mercadona's number of products sold: \", raw_data_merca.shape[0], \", total sales(€): \",round(raw_data_merca['price'].sum(),2))\n",
    "\n",
    "#Carrefour vs Mercadona vs Dia volumen\n",
    "print(\"\\nDifference on number of products between Mercadona and Carrefour: \", raw_data_merca.shape[0] - raw_data_carre.shape[0])\n",
    "print(\"Difference on number of products between Mercadona and Dia: \", raw_data_merca.shape[0] - raw_data_dia.shape[0])\n",
    "print(\"Difference on total sales between Mercadona and Carrefour(€): \", round(raw_data_merca['price'].sum() - raw_data_carre['price'].sum(),2))\n",
    "print(\"Difference on total sales between Mercadona and Dia(€): \", round(raw_data_merca['price'].sum() - raw_data_dia['price'].sum(),2))\n",
    "#Dia earns more than Mercadona"
   ],
   "metadata": {
    "collapsed": false
   }
  },
  {
   "cell_type": "markdown",
   "source": [
    "### Check out the most expensive products by supermarket"
   ],
   "metadata": {
    "collapsed": false
   }
  },
  {
   "cell_type": "code",
   "execution_count": 71,
   "outputs": [
    {
     "name": "stdout",
     "output_type": "stream",
     "text": [
      "Carrefour most expensive products: \n",
      "                                                       price  unit\n",
      "name                                                             \n",
      "Jamón de cebo ibérico 50% raza ibérica Legado I...  69129.0   525\n",
      "Jamón de bellota ibérico 100% raza ibérica piez...  54032.0   148\n",
      "Jamón curado reserva 4 estaciones Navidul pieza...  37072.0   566\n",
      "Paleta de bellota ibérica 100% raza ibérica pie...  36232.0   178\n",
      "Jamón de cebo ibérico 50% raza ibérica pieza de...  32755.0   286\n",
      "\n",
      "\n",
      "Dia most expensive products: \n",
      "                                                       price  unit\n",
      "name                                                             \n",
      "NOBLEZA EXTREMEÑA jamón de bellota 100% ibérico...  65025.0   225\n",
      "LEGADO jamón de cebo Ibérico 50% raza ibérica p...  63608.0   528\n",
      "SÁNCHEZ ALCARAZ jamón de cebo Ibérico 50% pieza...  60900.8   542\n",
      "CANPIPORK jamón de cebo Ibérico 50% raza ibéric...  43079.0   397\n",
      "MANUEL DE MONTEJO jamón de cebo Ibérico 50% pie...  40593.0   367\n",
      "\n",
      "\n",
      "Mercadona most expensive products: \n",
      "                                                         price  unit\n",
      "name                                                               \n",
      "Jamón de bellota ibérico 100% Campo Extremadura     290101.50   622\n",
      "Jamón de bellota ibérico La Hacienda del ibérico    151632.00   432\n",
      "Jamón de cebo ibérico La Hacienda del ibérico        78854.00   622\n",
      "Jamón de bellota ibérico 50% La Hacienda del ib...   69534.00   190\n",
      "Paleta de bellota ibérica La Hacienda del ibérico    68849.25   457\n"
     ]
    }
   ],
   "source": [
    "raw_data_carre_expensive= raw_data_carre.groupby('name').sum()\n",
    "rd_carre_expensive = raw_data_carre_expensive.sort_values('price', ascending=False)[:5]\n",
    "\n",
    "raw_data_dia_expensive= raw_data_dia.groupby('name').sum()\n",
    "rd_dia_expensive = raw_data_dia_expensive.sort_values('price', ascending=False)[:5]\n",
    "\n",
    "raw_data_merca_expensive= raw_data_merca.groupby('name').sum()\n",
    "rd_merca_expensive = raw_data_merca_expensive.sort_values('price', ascending=False)[:5]\n",
    "\n",
    "print(\"Carrefour most expensive products: \\n\", rd_carre_expensive, end=\"\\n\\n\")\n",
    "print(\"\\nDia most expensive products: \\n\", rd_dia_expensive, end=\"\\n\\n\")\n",
    "print(\"\\nMercadona most expensive products: \\n\", rd_merca_expensive)"
   ],
   "metadata": {
    "collapsed": false
   }
  },
  {
   "cell_type": "code",
   "execution_count": 72,
   "outputs": [
    {
     "data": {
      "text/plain": "<Figure size 640x480 with 1 Axes>",
      "image/png": "[encoded data removed]"
     },
     "metadata": {},
     "output_type": "display_data"
    }
   ],
   "source": [
    "#Top 5 most expensive items\n",
    "los5ExCarre= list(rd_carre_expensive.index)\n",
    "Carre5Ex = pd.DataFrame(raw_data_carre[raw_data_carre.name.isin(los5ExCarre)])\n",
    "Carre5Ex['price'].dropna()\n",
    "Carre5Ex=Carre5Ex.loc[:,['daily_sales', 'name', 'price', 'unit']]\n",
    "\n",
    "#Visualization\n",
    "sns.set_style('whitegrid')\n",
    "ax = sns.lineplot(data= Carre5Ex, x='daily_sales',\n",
    "             y ='price', hue='name', err_style=None)\n",
    "legend = plt.legend(fontsize = '9')\n",
    "sns.move_legend(ax, \"upper left\", bbox_to_anchor=(1, 1))\n",
    "plt.title(\"Dia's top 5 most expensive products\")\n",
    "plt.xticks(rotation=45)\n",
    "plt.show();"
   ],
   "metadata": {
    "collapsed": false
   }
  },
  {
   "cell_type": "code",
   "execution_count": 73,
   "outputs": [
    {
     "data": {
      "text/plain": "<Figure size 640x480 with 1 Axes>",
      "image/png": "[encoded data removed]"
     },
     "metadata": {},
     "output_type": "display_data"
    }
   ],
   "source": [
    "los5ExDia= list(rd_dia_expensive.index)\n",
    "Dia5Ex = pd.DataFrame(raw_data_dia[raw_data_dia.name.isin(los5ExDia)])\n",
    "Dia5Ex['price'].dropna()\n",
    "Dia5Ex=Dia5Ex.loc[:,['daily_sales', 'name', 'price', 'unit']]\n",
    "\n",
    "#Visualization\n",
    "sns.set_style('whitegrid')\n",
    "ax = sns.lineplot(data= Dia5Ex, x='daily_sales',\n",
    "             y ='price', hue='name', err_style=None)\n",
    "plt.title(\"Dia's top 5 most expensive products\")\n",
    "plt.xticks(rotation=45)\n",
    "legend = plt.legend(fontsize = '9')\n",
    "sns.move_legend(ax, \"upper left\", bbox_to_anchor=(1, 1))\n",
    "plt.show();"
   ],
   "metadata": {
    "collapsed": false
   }
  },
  {
   "cell_type": "code",
   "execution_count": 74,
   "outputs": [
    {
     "data": {
      "text/plain": "<Figure size 640x480 with 1 Axes>",
      "image/png": "[encoded data removed]"
     },
     "metadata": {},
     "output_type": "display_data"
    }
   ],
   "source": [
    "los5ExMerca= list(rd_merca_expensive.index)\n",
    "Merca5Ex = pd.DataFrame(raw_data_merca[raw_data_merca.name.isin(los5ExMerca)])\n",
    "Merca5Ex=Merca5Ex.loc[:,['daily_sales', 'name', 'price', 'unit']]\n",
    "\n",
    "#Visualization\n",
    "sns.set_style('whitegrid')\n",
    "ax = sns.lineplot(data= Merca5Ex, x='daily_sales',\n",
    "             y ='price', hue='name', err_style=None)\n",
    "legend = plt.legend(fontsize = '9')\n",
    "sns.move_legend(ax, \"upper left\", bbox_to_anchor=(1, 1))\n",
    "plt.title(\"Mercadona's top 5 most expensive products\")\n",
    "plt.xticks(rotation=45)\n",
    "plt.show();"
   ],
   "metadata": {
    "collapsed": false
   }
  },
  {
   "cell_type": "markdown",
   "source": [
    "### Check out the most sold products"
   ],
   "metadata": {
    "collapsed": false
   }
  },
  {
   "cell_type": "code",
   "execution_count": 75,
   "outputs": [
    {
     "name": "stdout",
     "output_type": "stream",
     "text": [
      "                                 Carrefour most sold  Units\n",
      "0                              Vodka Vikoroff 70 cl.   1000\n",
      "1            Conos con helado de nata Cornetto 6 ud.    898\n",
      "2              Bombilla Led Estándar Philips 60W E27    779\n",
      "3  Crema fijadora para prótesis dentales Corega 7...    724\n",
      "4             Bálsamo labial hidratante Carmex 1 ud.    701\n",
      "\n",
      "                                       Dia most sold  Units\n",
      "0  INSTITUTO ESPAÑOL agua de colonia gotas fresca...   1234\n",
      "1      SANEX desodorante natur protect roll on 50 ml   1121\n",
      "2       SANEX desodorante natur protect spray 200 ml   1019\n",
      "3             DIA cocktail frutos secos bolsa 500 gr    809\n",
      "4          BONTE desodorante attraction spray 150 ml    761\n",
      "\n",
      "              Mercadona Most sold  Units\n",
      "0       Cerveza Clásica Steinburg   5565\n",
      "1              Refresco Coca-Cola   4354\n",
      "2  Refresco Coca-Cola Zero azúcar   4217\n",
      "3      Cerveza Especial Steinburg   4067\n",
      "4         Refresco cola Hacendado   3110\n"
     ]
    }
   ],
   "source": [
    "#count the 5 products most bought among all supermarkets\n",
    "prod_most_commonCarre5 = Counter(raw_data_carre['name']).most_common(5)\n",
    "prod_most_commonDia5 = Counter(raw_data_dia['name']).most_common(5)\n",
    "prod_most_commonMerca5 = Counter(raw_data_merca['name']).most_common(5)\n",
    "\n",
    "most_commonCarre5 = pd.DataFrame(prod_most_commonCarre5, columns= ['Carrefour most sold', 'Units'])\n",
    "most_commonDia5 = pd.DataFrame(prod_most_commonDia5, columns= ['Dia most sold', 'Units'])\n",
    "most_commonMerca5 = pd.DataFrame(prod_most_commonMerca5, columns= ['Mercadona Most sold', 'Units'])\n",
    "print(most_commonCarre5, most_commonDia5, most_commonMerca5, sep='\\n\\n')"
   ],
   "metadata": {
    "collapsed": false
   }
  },
  {
   "cell_type": "code",
   "execution_count": 76,
   "outputs": [
    {
     "data": {
      "text/plain": "<Figure size 640x480 with 1 Axes>",
      "image/png": "[encoded data removed]"
     },
     "metadata": {},
     "output_type": "display_data"
    }
   ],
   "source": [
    "#Top 5 best selling items\n",
    "los5C= list(most_commonCarre5.iloc[:,0])\n",
    "Carre5 = pd.DataFrame(raw_data_carre[raw_data_carre.name.isin(los5C)])\n",
    "Carre5['price'].dropna()\n",
    "Carre5=Carre5.loc[:,['daily_sales', 'name', 'price', 'unit']]\n",
    "\n",
    "#Visualization\n",
    "sns.set_style('whitegrid')\n",
    "ax = sns.lineplot(data= Carre5, x='daily_sales',\n",
    "             y ='price', hue='name', err_style=None)\n",
    "legend = plt.legend(fontsize = '9')\n",
    "sns.move_legend(ax, \"upper left\", bbox_to_anchor=(1, 1))\n",
    "plt.title(\"Carrefour's top 5 best selling items price\")\n",
    "plt.xticks(rotation=45)\n",
    "plt.show();"
   ],
   "metadata": {
    "collapsed": false
   }
  },
  {
   "cell_type": "code",
   "execution_count": 77,
   "outputs": [
    {
     "data": {
      "text/plain": "<Figure size 640x480 with 1 Axes>",
      "image/png": "[encoded data removed]"
     },
     "metadata": {},
     "output_type": "display_data"
    }
   ],
   "source": [
    "#Top 5 best selling items\n",
    "los5D= list(most_commonDia5.iloc[:,0])\n",
    "Dia5 = pd.DataFrame(raw_data_dia[raw_data_dia.name.isin(los5D)])\n",
    "Dia5['price'].dropna()\n",
    "Dia5=Dia5.loc[:,['daily_sales', 'name', 'price', 'unit']]\n",
    "\n",
    "#Visualization\n",
    "sns.set_style('whitegrid')\n",
    "ax = sns.lineplot(data= Dia5, x='daily_sales',\n",
    "             y ='price', hue='name', err_style=None)\n",
    "legend = plt.legend(fontsize = '9')\n",
    "sns.move_legend(ax, \"upper left\", bbox_to_anchor=(1, 1))\n",
    "plt.title(\"Dia's top 5 best selling items price\")\n",
    "plt.xticks(rotation=45)\n",
    "plt.show();"
   ],
   "metadata": {
    "collapsed": false
   }
  },
  {
   "cell_type": "code",
   "execution_count": 78,
   "outputs": [
    {
     "data": {
      "text/plain": "<Figure size 640x480 with 1 Axes>",
      "image/png": "[encoded data removed]"
     },
     "metadata": {},
     "output_type": "display_data"
    }
   ],
   "source": [
    "los5M= list(most_commonMerca5.iloc[:,0])\n",
    "Merca5 = pd.DataFrame(raw_data_merca[raw_data_merca.name.isin(los5M)])\n",
    "Merca5['price'].dropna()\n",
    "Merca5=Merca5.loc[:,['daily_sales','name', 'price', 'unit']]\n",
    "#Visualization\n",
    "sns.set_style('whitegrid')\n",
    "ax = sns.lineplot(data= Merca5, x='daily_sales',\n",
    "             y ='price', hue='name', err_style=None)\n",
    "legend = plt.legend(fontsize = '9')\n",
    "sns.move_legend(ax, \"upper left\", bbox_to_anchor=(1, 1))\n",
    "plt.title(\"Mercadona's top 5 best selling items\")\n",
    "plt.xticks(rotation=45)\n",
    "plt.show();"
   ],
   "metadata": {
    "collapsed": false
   }
  },
  {
   "cell_type": "markdown",
   "source": [
    "### Check out monthly sales evolution of the supermarkets"
   ],
   "metadata": {
    "collapsed": false
   }
  },
  {
   "cell_type": "markdown",
   "source": [
    "Carrefour monthly sales evolution"
   ],
   "metadata": {
    "collapsed": false
   }
  },
  {
   "cell_type": "code",
   "execution_count": 79,
   "outputs": [],
   "source": [
    "Carre5_oct = Carre5.set_index(\"daily_sales\")\n",
    "Carre5_oct= Carre5_oct.rename_axis(\"monthly_sales\")"
   ],
   "metadata": {
    "collapsed": false
   }
  },
  {
   "cell_type": "code",
   "execution_count": 80,
   "outputs": [
    {
     "data": {
      "text/plain": "                                                                   sales  unit\nmonthly_sales name                                                            \n2021-03-31    Bálsamo labial hidratante Carmex 1 ud.              222.95    49\n              Conos con helado de nata Cornetto 6 ud.             187.78    47\n              Crema fijadora para prótesis dentales Corega 70 g.  343.27    27\n              Vodka Vikoroff 70 cl.                               356.40    54\n2021-04-30    Bálsamo labial hidratante Carmex 1 ud.               18.20     4\n...                                                                  ...   ...\n2022-11-30    Bombilla Led Estándar Philips 60W E27                72.21    29\n              Bálsamo labial hidratante Carmex 1 ud.              128.90    30\n              Conos con helado de nata Cornetto 6 ud.              37.52     8\n              Crema fijadora para prótesis dentales Corega 70 g.  355.14    26\n              Vodka Vikoroff 70 cl.                                65.85    15\n\n[96 rows x 2 columns]",
      "text/html": "<div>\n<style scoped>\n    .dataframe tbody tr th:only-of-type {\n        vertical-align: middle;\n    }\n\n    .dataframe tbody tr th {\n        vertical-align: top;\n    }\n\n    .dataframe thead th {\n        text-align: right;\n    }\n</style>\n<table border=\"1\" class=\"dataframe\">\n  <thead>\n    <tr style=\"text-align: right;\">\n      <th></th>\n      <th></th>\n      <th>sales</th>\n      <th>unit</th>\n    </tr>\n    <tr>\n      <th>monthly_sales</th>\n      <th>name</th>\n      <th></th>\n      <th></th>\n    </tr>\n  </thead>\n  <tbody>\n    <tr>\n      <th rowspan=\"4\" valign=\"top\">2021-03-31</th>\n      <th>Bálsamo labial hidratante Carmex 1 ud.</th>\n      <td>222.95</td>\n      <td>49</td>\n    </tr>\n    <tr>\n      <th>Conos con helado de nata Cornetto 6 ud.</th>\n      <td>187.78</td>\n      <td>47</td>\n    </tr>\n    <tr>\n      <th>Crema fijadora para prótesis dentales Corega 70 g.</th>\n      <td>343.27</td>\n      <td>27</td>\n    </tr>\n    <tr>\n      <th>Vodka Vikoroff 70 cl.</th>\n      <td>356.40</td>\n      <td>54</td>\n    </tr>\n    <tr>\n      <th>2021-04-30</th>\n      <th>Bálsamo labial hidratante Carmex 1 ud.</th>\n      <td>18.20</td>\n      <td>4</td>\n    </tr>\n    <tr>\n      <th>...</th>\n      <th>...</th>\n      <td>...</td>\n      <td>...</td>\n    </tr>\n    <tr>\n      <th rowspan=\"5\" valign=\"top\">2022-11-30</th>\n      <th>Bombilla Led Estándar Philips 60W E27</th>\n      <td>72.21</td>\n      <td>29</td>\n    </tr>\n    <tr>\n      <th>Bálsamo labial hidratante Carmex 1 ud.</th>\n      <td>128.90</td>\n      <td>30</td>\n    </tr>\n    <tr>\n      <th>Conos con helado de nata Cornetto 6 ud.</th>\n      <td>37.52</td>\n      <td>8</td>\n    </tr>\n    <tr>\n      <th>Crema fijadora para prótesis dentales Corega 70 g.</th>\n      <td>355.14</td>\n      <td>26</td>\n    </tr>\n    <tr>\n      <th>Vodka Vikoroff 70 cl.</th>\n      <td>65.85</td>\n      <td>15</td>\n    </tr>\n  </tbody>\n</table>\n<p>96 rows × 2 columns</p>\n</div>"
     },
     "execution_count": 80,
     "metadata": {},
     "output_type": "execute_result"
    }
   ],
   "source": [
    "Carre5_oct1= Carre5_oct.groupby([pd.Grouper(freq='M'),'name']).sum()\n",
    "Carre5_oct1 =Carre5_oct1.rename(columns={'price':'sales'})\n",
    "Carre5_oct1"
   ],
   "metadata": {
    "collapsed": false
   }
  },
  {
   "cell_type": "code",
   "execution_count": 81,
   "outputs": [
    {
     "data": {
      "application/vnd.plotly.v1+json": {
       "data": [
        {
         "hovertemplate": "color=Bálsamo labial hidratante Carmex 1 ud.<br>x=%{x}<br>sales=%{y}<extra></extra>",
         "legendgroup": "Bálsamo labial hidratante Carmex 1 ud.",
         "line": {
          "color": "#636efa",
          "dash": "solid"
         },
         "marker": {
          "symbol": "circle"
         },
         "mode": "lines",
         "name": "Bálsamo labial hidratante Carmex 1 ud.",
         "orientation": "v",
         "showlegend": true,
         "x": [
          "2021-03-31T00:00:00",
          "2021-04-30T00:00:00",
          "2021-10-31T00:00:00",
          "2021-11-30T00:00:00",
          "2021-12-31T00:00:00",
          "2022-01-31T00:00:00",
          "2022-02-28T00:00:00",
          "2022-03-31T00:00:00",
          "2022-04-30T00:00:00",
          "2022-05-31T00:00:00",
          "2022-06-30T00:00:00",
          "2022-07-31T00:00:00",
          "2022-08-31T00:00:00",
          "2022-09-30T00:00:00",
          "2022-10-31T00:00:00",
          "2022-11-30T00:00:00"
         ],
         "xaxis": "x",
         "y": [
          222.95,
          18.2,
          87.8,
          237.05999999999997,
          263.4,
          259.01,
          223.89,
          188.76999999999998,
          254.61999999999998,
          241.45,
          250.23,
          184.38,
          57.06999999999999,
          198.32,
          244.58,
          128.9
         ],
         "yaxis": "y",
         "type": "scatter"
        },
        {
         "hovertemplate": "color=Conos con helado de nata Cornetto 6 ud.<br>x=%{x}<br>sales=%{y}<extra></extra>",
         "legendgroup": "Conos con helado de nata Cornetto 6 ud.",
         "line": {
          "color": "#EF553B",
          "dash": "solid"
         },
         "marker": {
          "symbol": "circle"
         },
         "mode": "lines",
         "name": "Conos con helado de nata Cornetto 6 ud.",
         "orientation": "v",
         "showlegend": true,
         "x": [
          "2021-03-31T00:00:00",
          "2021-04-30T00:00:00",
          "2021-05-31T00:00:00",
          "2021-06-30T00:00:00",
          "2021-07-31T00:00:00",
          "2021-08-31T00:00:00",
          "2021-09-30T00:00:00",
          "2021-10-31T00:00:00",
          "2021-11-30T00:00:00",
          "2021-12-31T00:00:00",
          "2022-01-31T00:00:00",
          "2022-02-28T00:00:00",
          "2022-03-31T00:00:00",
          "2022-04-30T00:00:00",
          "2022-05-31T00:00:00",
          "2022-06-30T00:00:00",
          "2022-07-31T00:00:00",
          "2022-08-31T00:00:00",
          "2022-09-30T00:00:00",
          "2022-10-31T00:00:00",
          "2022-11-30T00:00:00"
         ],
         "xaxis": "x",
         "y": [
          187.78,
          216.37,
          158.15,
          134.48000000000002,
          173.56,
          218.04,
          188.98000000000002,
          202.75,
          194.68,
          205.9,
          212.5,
          194.4,
          232.54000000000002,
          219.16000000000003,
          126.29,
          114.75,
          70.75,
          125.03,
          53.160000000000004,
          114.86,
          37.52
         ],
         "yaxis": "y",
         "type": "scatter"
        },
        {
         "hovertemplate": "color=Crema fijadora para prótesis dentales Corega 70 g.<br>x=%{x}<br>sales=%{y}<extra></extra>",
         "legendgroup": "Crema fijadora para prótesis dentales Corega 70 g.",
         "line": {
          "color": "#00cc96",
          "dash": "solid"
         },
         "marker": {
          "symbol": "circle"
         },
         "mode": "lines",
         "name": "Crema fijadora para prótesis dentales Corega 70 g.",
         "orientation": "v",
         "showlegend": true,
         "x": [
          "2021-03-31T00:00:00",
          "2021-04-30T00:00:00",
          "2021-05-31T00:00:00",
          "2021-06-30T00:00:00",
          "2021-07-31T00:00:00",
          "2021-08-31T00:00:00",
          "2021-09-30T00:00:00",
          "2021-10-31T00:00:00",
          "2021-11-30T00:00:00",
          "2021-12-31T00:00:00",
          "2022-01-31T00:00:00",
          "2022-02-28T00:00:00",
          "2022-03-31T00:00:00",
          "2022-04-30T00:00:00",
          "2022-05-31T00:00:00",
          "2022-06-30T00:00:00",
          "2022-07-31T00:00:00",
          "2022-08-31T00:00:00",
          "2022-09-30T00:00:00",
          "2022-10-31T00:00:00",
          "2022-11-30T00:00:00"
         ],
         "xaxis": "x",
         "y": [
          343.27,
          331.1,
          367.34999999999997,
          355.5,
          367.34999999999997,
          387.33,
          377.7,
          520.6,
          292.28,
          428.38,
          452.55,
          401.68,
          728.74,
          447.06,
          417.05,
          742.36,
          528.5799999999999,
          405.78,
          321.57,
          626.81,
          355.14
         ],
         "yaxis": "y",
         "type": "scatter"
        },
        {
         "hovertemplate": "color=Vodka Vikoroff 70 cl.<br>x=%{x}<br>sales=%{y}<extra></extra>",
         "legendgroup": "Vodka Vikoroff 70 cl.",
         "line": {
          "color": "#ab63fa",
          "dash": "solid"
         },
         "marker": {
          "symbol": "circle"
         },
         "mode": "lines",
         "name": "Vodka Vikoroff 70 cl.",
         "orientation": "v",
         "showlegend": true,
         "x": [
          "2021-03-31T00:00:00",
          "2021-04-30T00:00:00",
          "2021-05-31T00:00:00",
          "2021-06-30T00:00:00",
          "2021-07-31T00:00:00",
          "2021-08-31T00:00:00",
          "2021-09-30T00:00:00",
          "2021-10-31T00:00:00",
          "2021-11-30T00:00:00",
          "2021-12-31T00:00:00",
          "2022-01-31T00:00:00",
          "2022-02-28T00:00:00",
          "2022-03-31T00:00:00",
          "2022-04-30T00:00:00",
          "2022-05-31T00:00:00",
          "2022-06-30T00:00:00",
          "2022-07-31T00:00:00",
          "2022-08-31T00:00:00",
          "2022-09-30T00:00:00",
          "2022-10-31T00:00:00",
          "2022-11-30T00:00:00"
         ],
         "xaxis": "x",
         "y": [
          356.4,
          387.25,
          412.0,
          320.46999999999997,
          335.28,
          144.29,
          376.45,
          398.04,
          385.2,
          367.7,
          266.79,
          150.82,
          191.46,
          340.5,
          270.5,
          377.09999999999997,
          420.04999999999995,
          204.94,
          133.02,
          127.61,
          65.85
         ],
         "yaxis": "y",
         "type": "scatter"
        },
        {
         "hovertemplate": "color=Bombilla Led Estándar Philips 60W E27<br>x=%{x}<br>sales=%{y}<extra></extra>",
         "legendgroup": "Bombilla Led Estándar Philips 60W E27",
         "line": {
          "color": "#FFA15A",
          "dash": "solid"
         },
         "marker": {
          "symbol": "circle"
         },
         "mode": "lines",
         "name": "Bombilla Led Estándar Philips 60W E27",
         "orientation": "v",
         "showlegend": true,
         "x": [
          "2021-07-31T00:00:00",
          "2021-08-31T00:00:00",
          "2021-09-30T00:00:00",
          "2021-10-31T00:00:00",
          "2021-11-30T00:00:00",
          "2021-12-31T00:00:00",
          "2022-01-31T00:00:00",
          "2022-02-28T00:00:00",
          "2022-03-31T00:00:00",
          "2022-04-30T00:00:00",
          "2022-05-31T00:00:00",
          "2022-06-30T00:00:00",
          "2022-07-31T00:00:00",
          "2022-08-31T00:00:00",
          "2022-09-30T00:00:00",
          "2022-10-31T00:00:00",
          "2022-11-30T00:00:00"
         ],
         "xaxis": "x",
         "y": [
          38.870000000000005,
          125.58000000000001,
          124.51,
          149.4,
          149.4,
          144.42000000000002,
          112.05000000000001,
          87.15,
          87.15,
          52.290000000000006,
          89.64000000000001,
          146.91000000000003,
          154.38000000000002,
          149.4,
          132.77,
          149.4,
          72.21000000000001
         ],
         "yaxis": "y",
         "type": "scatter"
        }
       ],
       "layout": {
        "template": {
         "data": {
          "histogram2dcontour": [
           {
            "type": "histogram2dcontour",
            "colorbar": {
             "outlinewidth": 0,
             "ticks": ""
            },
            "colorscale": [
             [
              0.0,
              "#0d0887"
             ],
             [
              0.1111111111111111,
              "#46039f"
             ],
             [
              0.2222222222222222,
              "#7201a8"
             ],
             [
              0.3333333333333333,
              "#9c179e"
             ],
             [
              0.4444444444444444,
              "#bd3786"
             ],
             [
              0.5555555555555556,
              "#d8576b"
             ],
             [
              0.6666666666666666,
              "#ed7953"
             ],
             [
              0.7777777777777778,
              "#fb9f3a"
             ],
             [
              0.8888888888888888,
              "#fdca26"
             ],
             [
              1.0,
              "#f0f921"
             ]
            ]
           }
          ],
          "choropleth": [
           {
            "type": "choropleth",
            "colorbar": {
             "outlinewidth": 0,
             "ticks": ""
            }
           }
          ],
          "histogram2d": [
           {
            "type": "histogram2d",
            "colorbar": {
             "outlinewidth": 0,
             "ticks": ""
            },
            "colorscale": [
             [
              0.0,
              "#0d0887"
             ],
             [
              0.1111111111111111,
              "#46039f"
             ],
             [
              0.2222222222222222,
              "#7201a8"
             ],
             [
              0.3333333333333333,
              "#9c179e"
             ],
             [
              0.4444444444444444,
              "#bd3786"
             ],
             [
              0.5555555555555556,
              "#d8576b"
             ],
             [
              0.6666666666666666,
              "#ed7953"
             ],
             [
              0.7777777777777778,
              "#fb9f3a"
             ],
             [
              0.8888888888888888,
              "#fdca26"
             ],
             [
              1.0,
              "#f0f921"
             ]
            ]
           }
          ],
          "heatmap": [
           {
            "type": "heatmap",
            "colorbar": {
             "outlinewidth": 0,
             "ticks": ""
            },
            "colorscale": [
             [
              0.0,
              "#0d0887"
             ],
             [
              0.1111111111111111,
              "#46039f"
             ],
             [
              0.2222222222222222,
              "#7201a8"
             ],
             [
              0.3333333333333333,
              "#9c179e"
             ],
             [
              0.4444444444444444,
              "#bd3786"
             ],
             [
              0.5555555555555556,
              "#d8576b"
             ],
             [
              0.6666666666666666,
              "#ed7953"
             ],
             [
              0.7777777777777778,
              "#fb9f3a"
             ],
             [
              0.8888888888888888,
              "#fdca26"
             ],
             [
              1.0,
              "#f0f921"
             ]
            ]
           }
          ],
          "heatmapgl": [
           {
            "type": "heatmapgl",
            "colorbar": {
             "outlinewidth": 0,
             "ticks": ""
            },
            "colorscale": [
             [
              0.0,
              "#0d0887"
             ],
             [
              0.1111111111111111,
              "#46039f"
             ],
             [
              0.2222222222222222,
              "#7201a8"
             ],
             [
              0.3333333333333333,
              "#9c179e"
             ],
             [
              0.4444444444444444,
              "#bd3786"
             ],
             [
              0.5555555555555556,
              "#d8576b"
             ],
             [
              0.6666666666666666,
              "#ed7953"
             ],
             [
              0.7777777777777778,
              "#fb9f3a"
             ],
             [
              0.8888888888888888,
              "#fdca26"
             ],
             [
              1.0,
              "#f0f921"
             ]
            ]
           }
          ],
          "contourcarpet": [
           {
            "type": "contourcarpet",
            "colorbar": {
             "outlinewidth": 0,
             "ticks": ""
            }
           }
          ],
          "contour": [
           {
            "type": "contour",
            "colorbar": {
             "outlinewidth": 0,
             "ticks": ""
            },
            "colorscale": [
             [
              0.0,
              "#0d0887"
             ],
             [
              0.1111111111111111,
              "#46039f"
             ],
             [
              0.2222222222222222,
              "#7201a8"
             ],
             [
              0.3333333333333333,
              "#9c179e"
             ],
             [
              0.4444444444444444,
              "#bd3786"
             ],
             [
              0.5555555555555556,
              "#d8576b"
             ],
             [
              0.6666666666666666,
              "#ed7953"
             ],
             [
              0.7777777777777778,
              "#fb9f3a"
             ],
             [
              0.8888888888888888,
              "#fdca26"
             ],
             [
              1.0,
              "#f0f921"
             ]
            ]
           }
          ],
          "surface": [
           {
            "type": "surface",
            "colorbar": {
             "outlinewidth": 0,
             "ticks": ""
            },
            "colorscale": [
             [
              0.0,
              "#0d0887"
             ],
             [
              0.1111111111111111,
              "#46039f"
             ],
             [
              0.2222222222222222,
              "#7201a8"
             ],
             [
              0.3333333333333333,
              "#9c179e"
             ],
             [
              0.4444444444444444,
              "#bd3786"
             ],
             [
              0.5555555555555556,
              "#d8576b"
             ],
             [
              0.6666666666666666,
              "#ed7953"
             ],
             [
              0.7777777777777778,
              "#fb9f3a"
             ],
             [
              0.8888888888888888,
              "#fdca26"
             ],
             [
              1.0,
              "#f0f921"
             ]
            ]
           }
          ],
          "mesh3d": [
           {
            "type": "mesh3d",
            "colorbar": {
             "outlinewidth": 0,
             "ticks": ""
            }
           }
          ],
          "scatter": [
           {
            "marker": {
             "line": {
              "color": "#283442"
             }
            },
            "type": "scatter"
           }
          ],
          "parcoords": [
           {
            "type": "parcoords",
            "line": {
             "colorbar": {
              "outlinewidth": 0,
              "ticks": ""
             }
            }
           }
          ],
          "scatterpolargl": [
           {
            "type": "scatterpolargl",
            "marker": {
             "colorbar": {
              "outlinewidth": 0,
              "ticks": ""
             }
            }
           }
          ],
          "bar": [
           {
            "error_x": {
             "color": "#f2f5fa"
            },
            "error_y": {
             "color": "#f2f5fa"
            },
            "marker": {
             "line": {
              "color": "rgb(17,17,17)",
              "width": 0.5
             },
             "pattern": {
              "fillmode": "overlay",
              "size": 10,
              "solidity": 0.2
             }
            },
            "type": "bar"
           }
          ],
          "scattergeo": [
           {
            "type": "scattergeo",
            "marker": {
             "colorbar": {
              "outlinewidth": 0,
              "ticks": ""
             }
            }
           }
          ],
          "scatterpolar": [
           {
            "type": "scatterpolar",
            "marker": {
             "colorbar": {
              "outlinewidth": 0,
              "ticks": ""
             }
            }
           }
          ],
          "histogram": [
           {
            "marker": {
             "pattern": {
              "fillmode": "overlay",
              "size": 10,
              "solidity": 0.2
             }
            },
            "type": "histogram"
           }
          ],
          "scattergl": [
           {
            "marker": {
             "line": {
              "color": "#283442"
             }
            },
            "type": "scattergl"
           }
          ],
          "scatter3d": [
           {
            "type": "scatter3d",
            "line": {
             "colorbar": {
              "outlinewidth": 0,
              "ticks": ""
             }
            },
            "marker": {
             "colorbar": {
              "outlinewidth": 0,
              "ticks": ""
             }
            }
           }
          ],
          "scattermapbox": [
           {
            "type": "scattermapbox",
            "marker": {
             "colorbar": {
              "outlinewidth": 0,
              "ticks": ""
             }
            }
           }
          ],
          "scatterternary": [
           {
            "type": "scatterternary",
            "marker": {
             "colorbar": {
              "outlinewidth": 0,
              "ticks": ""
             }
            }
           }
          ],
          "scattercarpet": [
           {
            "type": "scattercarpet",
            "marker": {
             "colorbar": {
              "outlinewidth": 0,
              "ticks": ""
             }
            }
           }
          ],
          "carpet": [
           {
            "aaxis": {
             "endlinecolor": "#A2B1C6",
             "gridcolor": "#506784",
             "linecolor": "#506784",
             "minorgridcolor": "#506784",
             "startlinecolor": "#A2B1C6"
            },
            "baxis": {
             "endlinecolor": "#A2B1C6",
             "gridcolor": "#506784",
             "linecolor": "#506784",
             "minorgridcolor": "#506784",
             "startlinecolor": "#A2B1C6"
            },
            "type": "carpet"
           }
          ],
          "table": [
           {
            "cells": {
             "fill": {
              "color": "#506784"
             },
             "line": {
              "color": "rgb(17,17,17)"
             }
            },
            "header": {
             "fill": {
              "color": "#2a3f5f"
             },
             "line": {
              "color": "rgb(17,17,17)"
             }
            },
            "type": "table"
           }
          ],
          "barpolar": [
           {
            "marker": {
             "line": {
              "color": "rgb(17,17,17)",
              "width": 0.5
             },
             "pattern": {
              "fillmode": "overlay",
              "size": 10,
              "solidity": 0.2
             }
            },
            "type": "barpolar"
           }
          ],
          "pie": [
           {
            "automargin": true,
            "type": "pie"
           }
          ]
         },
         "layout": {
          "autotypenumbers": "strict",
          "colorway": [
           "#636efa",
           "#EF553B",
           "#00cc96",
           "#ab63fa",
           "#FFA15A",
           "#19d3f3",
           "#FF6692",
           "#B6E880",
           "#FF97FF",
           "#FECB52"
          ],
          "font": {
           "color": "#f2f5fa"
          },
          "hovermode": "closest",
          "hoverlabel": {
           "align": "left"
          },
          "paper_bgcolor": "rgb(17,17,17)",
          "plot_bgcolor": "rgb(17,17,17)",
          "polar": {
           "bgcolor": "rgb(17,17,17)",
           "angularaxis": {
            "gridcolor": "#506784",
            "linecolor": "#506784",
            "ticks": ""
           },
           "radialaxis": {
            "gridcolor": "#506784",
            "linecolor": "#506784",
            "ticks": ""
           }
          },
          "ternary": {
           "bgcolor": "rgb(17,17,17)",
           "aaxis": {
            "gridcolor": "#506784",
            "linecolor": "#506784",
            "ticks": ""
           },
           "baxis": {
            "gridcolor": "#506784",
            "linecolor": "#506784",
            "ticks": ""
           },
           "caxis": {
            "gridcolor": "#506784",
            "linecolor": "#506784",
            "ticks": ""
           }
          },
          "coloraxis": {
           "colorbar": {
            "outlinewidth": 0,
            "ticks": ""
           }
          },
          "colorscale": {
           "sequential": [
            [
             0.0,
             "#0d0887"
            ],
            [
             0.1111111111111111,
             "#46039f"
            ],
            [
             0.2222222222222222,
             "#7201a8"
            ],
            [
             0.3333333333333333,
             "#9c179e"
            ],
            [
             0.4444444444444444,
             "#bd3786"
            ],
            [
             0.5555555555555556,
             "#d8576b"
            ],
            [
             0.6666666666666666,
             "#ed7953"
            ],
            [
             0.7777777777777778,
             "#fb9f3a"
            ],
            [
             0.8888888888888888,
             "#fdca26"
            ],
            [
             1.0,
             "#f0f921"
            ]
           ],
           "sequentialminus": [
            [
             0.0,
             "#0d0887"
            ],
            [
             0.1111111111111111,
             "#46039f"
            ],
            [
             0.2222222222222222,
             "#7201a8"
            ],
            [
             0.3333333333333333,
             "#9c179e"
            ],
            [
             0.4444444444444444,
             "#bd3786"
            ],
            [
             0.5555555555555556,
             "#d8576b"
            ],
            [
             0.6666666666666666,
             "#ed7953"
            ],
            [
             0.7777777777777778,
             "#fb9f3a"
            ],
            [
             0.8888888888888888,
             "#fdca26"
            ],
            [
             1.0,
             "#f0f921"
            ]
           ],
           "diverging": [
            [
             0,
             "#8e0152"
            ],
            [
             0.1,
             "#c51b7d"
            ],
            [
             0.2,
             "#de77ae"
            ],
            [
             0.3,
             "#f1b6da"
            ],
            [
             0.4,
             "#fde0ef"
            ],
            [
             0.5,
             "#f7f7f7"
            ],
            [
             0.6,
             "#e6f5d0"
            ],
            [
             0.7,
             "#b8e186"
            ],
            [
             0.8,
             "#7fbc41"
            ],
            [
             0.9,
             "#4d9221"
            ],
            [
             1,
             "#276419"
            ]
           ]
          },
          "xaxis": {
           "gridcolor": "#283442",
           "linecolor": "#506784",
           "ticks": "",
           "title": {
            "standoff": 15
           },
           "zerolinecolor": "#283442",
           "automargin": true,
           "zerolinewidth": 2
          },
          "yaxis": {
           "gridcolor": "#283442",
           "linecolor": "#506784",
           "ticks": "",
           "title": {
            "standoff": 15
           },
           "zerolinecolor": "#283442",
           "automargin": true,
           "zerolinewidth": 2
          },
          "scene": {
           "xaxis": {
            "backgroundcolor": "rgb(17,17,17)",
            "gridcolor": "#506784",
            "linecolor": "#506784",
            "showbackground": true,
            "ticks": "",
            "zerolinecolor": "#C8D4E3",
            "gridwidth": 2
           },
           "yaxis": {
            "backgroundcolor": "rgb(17,17,17)",
            "gridcolor": "#506784",
            "linecolor": "#506784",
            "showbackground": true,
            "ticks": "",
            "zerolinecolor": "#C8D4E3",
            "gridwidth": 2
           },
           "zaxis": {
            "backgroundcolor": "rgb(17,17,17)",
            "gridcolor": "#506784",
            "linecolor": "#506784",
            "showbackground": true,
            "ticks": "",
            "zerolinecolor": "#C8D4E3",
            "gridwidth": 2
           }
          },
          "shapedefaults": {
           "line": {
            "color": "#f2f5fa"
           }
          },
          "annotationdefaults": {
           "arrowcolor": "#f2f5fa",
           "arrowhead": 0,
           "arrowwidth": 1
          },
          "geo": {
           "bgcolor": "rgb(17,17,17)",
           "landcolor": "rgb(17,17,17)",
           "subunitcolor": "#506784",
           "showland": true,
           "showlakes": true,
           "lakecolor": "rgb(17,17,17)"
          },
          "title": {
           "x": 0.05
          },
          "updatemenudefaults": {
           "bgcolor": "#506784",
           "borderwidth": 0
          },
          "sliderdefaults": {
           "bgcolor": "#C8D4E3",
           "borderwidth": 1,
           "bordercolor": "rgb(17,17,17)",
           "tickwidth": 0
          },
          "mapbox": {
           "style": "dark"
          }
         }
        },
        "xaxis": {
         "anchor": "y",
         "domain": [
          0.0,
          1.0
         ],
         "title": {},
         "dtick": "M1",
         "tickformat": "%b\n%Y"
        },
        "yaxis": {
         "anchor": "x",
         "domain": [
          0.0,
          1.0
         ],
         "title": {
          "text": "Sales (€)"
         }
        },
        "legend": {
         "title": {
          "text": "Items"
         },
         "tracegroupgap": 0,
         "font": {
          "size": 8
         },
         "yanchor": "top",
         "y": 1.35,
         "xanchor": "left",
         "x": 0.01
        },
        "margin": {
         "t": 60
        },
        "title": {
         "text": "Carrefour monthly sales",
         "y": 0.95,
         "x": 0.53,
         "xanchor": "center",
         "yanchor": "top"
        },
        "showlegend": true
       },
       "config": {
        "plotlyServerURL": "https://plot.ly"
       }
      },
      "text/html": "<div>                            <div id=\"2852cec2-fa4e-4250-beeb-bbe4656aebee\" class=\"plotly-graph-div\" style=\"height:525px; width:100%;\"></div>            <script type=\"text/javascript\">                require([\"plotly\"], function(Plotly) {                    window.PLOTLYENV=window.PLOTLYENV || {};                                    if (document.getElementById(\"2852cec2-fa4e-4250-beeb-bbe4656aebee\")) {                    Plotly.newPlot(                        \"2852cec2-fa4e-4250-beeb-bbe4656aebee\",                        [{\"hovertemplate\":\"color=B\\u00e1lsamo labial hidratante Carmex 1 ud.<br>x=%{x}<br>sales=%{y}<extra></extra>\",\"legendgroup\":\"B\\u00e1lsamo labial hidratante Carmex 1 ud.\",\"line\":{\"color\":\"#636efa\",\"dash\":\"solid\"},\"marker\":{\"symbol\":\"circle\"},\"mode\":\"lines\",\"name\":\"B\\u00e1lsamo labial hidratante Carmex 1 ud.\",\"orientation\":\"v\",\"showlegend\":true,\"x\":[\"2021-03-31T00:00:00\",\"2021-04-30T00:00:00\",\"2021-10-31T00:00:00\",\"2021-11-30T00:00:00\",\"2021-12-31T00:00:00\",\"2022-01-31T00:00:00\",\"2022-02-28T00:00:00\",\"2022-03-31T00:00:00\",\"2022-04-30T00:00:00\",\"2022-05-31T00:00:00\",\"2022-06-30T00:00:00\",\"2022-07-31T00:00:00\",\"2022-08-31T00:00:00\",\"2022-09-30T00:00:00\",\"2022-10-31T00:00:00\",\"2022-11-30T00:00:00\"],\"xaxis\":\"x\",\"y\":[222.95,18.2,87.8,237.05999999999997,263.4,259.01,223.89,188.76999999999998,254.61999999999998,241.45,250.23,184.38,57.06999999999999,198.32,244.58,128.9],\"yaxis\":\"y\",\"type\":\"scatter\"},{\"hovertemplate\":\"color=Conos con helado de nata Cornetto 6 ud.<br>x=%{x}<br>sales=%{y}<extra></extra>\",\"legendgroup\":\"Conos con helado de nata Cornetto 6 ud.\",\"line\":{\"color\":\"#EF553B\",\"dash\":\"solid\"},\"marker\":{\"symbol\":\"circle\"},\"mode\":\"lines\",\"name\":\"Conos con helado de nata Cornetto 6 ud.\",\"orientation\":\"v\",\"showlegend\":true,\"x\":[\"2021-03-31T00:00:00\",\"2021-04-30T00:00:00\",\"2021-05-31T00:00:00\",\"2021-06-30T00:00:00\",\"2021-07-31T00:00:00\",\"2021-08-31T00:00:00\",\"2021-09-30T00:00:00\",\"2021-10-31T00:00:00\",\"2021-11-30T00:00:00\",\"2021-12-31T00:00:00\",\"2022-01-31T00:00:00\",\"2022-02-28T00:00:00\",\"2022-03-31T00:00:00\",\"2022-04-30T00:00:00\",\"2022-05-31T00:00:00\",\"2022-06-30T00:00:00\",\"2022-07-31T00:00:00\",\"2022-08-31T00:00:00\",\"2022-09-30T00:00:00\",\"2022-10-31T00:00:00\",\"2022-11-30T00:00:00\"],\"xaxis\":\"x\",\"y\":[187.78,216.37,158.15,134.48000000000002,173.56,218.04,188.98000000000002,202.75,194.68,205.9,212.5,194.4,232.54000000000002,219.16000000000003,126.29,114.75,70.75,125.03,53.160000000000004,114.86,37.52],\"yaxis\":\"y\",\"type\":\"scatter\"},{\"hovertemplate\":\"color=Crema fijadora para pr\\u00f3tesis dentales Corega 70 g.<br>x=%{x}<br>sales=%{y}<extra></extra>\",\"legendgroup\":\"Crema fijadora para pr\\u00f3tesis dentales Corega 70 g.\",\"line\":{\"color\":\"#00cc96\",\"dash\":\"solid\"},\"marker\":{\"symbol\":\"circle\"},\"mode\":\"lines\",\"name\":\"Crema fijadora para pr\\u00f3tesis dentales Corega 70 g.\",\"orientation\":\"v\",\"showlegend\":true,\"x\":[\"2021-03-31T00:00:00\",\"2021-04-30T00:00:00\",\"2021-05-31T00:00:00\",\"2021-06-30T00:00:00\",\"2021-07-31T00:00:00\",\"2021-08-31T00:00:00\",\"2021-09-30T00:00:00\",\"2021-10-31T00:00:00\",\"2021-11-30T00:00:00\",\"2021-12-31T00:00:00\",\"2022-01-31T00:00:00\",\"2022-02-28T00:00:00\",\"2022-03-31T00:00:00\",\"2022-04-30T00:00:00\",\"2022-05-31T00:00:00\",\"2022-06-30T00:00:00\",\"2022-07-31T00:00:00\",\"2022-08-31T00:00:00\",\"2022-09-30T00:00:00\",\"2022-10-31T00:00:00\",\"2022-11-30T00:00:00\"],\"xaxis\":\"x\",\"y\":[343.27,331.1,367.34999999999997,355.5,367.34999999999997,387.33,377.7,520.6,292.28,428.38,452.55,401.68,728.74,447.06,417.05,742.36,528.5799999999999,405.78,321.57,626.81,355.14],\"yaxis\":\"y\",\"type\":\"scatter\"},{\"hovertemplate\":\"color=Vodka Vikoroff 70 cl.<br>x=%{x}<br>sales=%{y}<extra></extra>\",\"legendgroup\":\"Vodka Vikoroff 70 cl.\",\"line\":{\"color\":\"#ab63fa\",\"dash\":\"solid\"},\"marker\":{\"symbol\":\"circle\"},\"mode\":\"lines\",\"name\":\"Vodka Vikoroff 70 cl.\",\"orientation\":\"v\",\"showlegend\":true,\"x\":[\"2021-03-31T00:00:00\",\"2021-04-30T00:00:00\",\"2021-05-31T00:00:00\",\"2021-06-30T00:00:00\",\"2021-07-31T00:00:00\",\"2021-08-31T00:00:00\",\"2021-09-30T00:00:00\",\"2021-10-31T00:00:00\",\"2021-11-30T00:00:00\",\"2021-12-31T00:00:00\",\"2022-01-31T00:00:00\",\"2022-02-28T00:00:00\",\"2022-03-31T00:00:00\",\"2022-04-30T00:00:00\",\"2022-05-31T00:00:00\",\"2022-06-30T00:00:00\",\"2022-07-31T00:00:00\",\"2022-08-31T00:00:00\",\"2022-09-30T00:00:00\",\"2022-10-31T00:00:00\",\"2022-11-30T00:00:00\"],\"xaxis\":\"x\",\"y\":[356.4,387.25,412.0,320.46999999999997,335.28,144.29,376.45,398.04,385.2,367.7,266.79,150.82,191.46,340.5,270.5,377.09999999999997,420.04999999999995,204.94,133.02,127.61,65.85],\"yaxis\":\"y\",\"type\":\"scatter\"},{\"hovertemplate\":\"color=Bombilla Led Est\\u00e1ndar Philips 60W E27<br>x=%{x}<br>sales=%{y}<extra></extra>\",\"legendgroup\":\"Bombilla Led Est\\u00e1ndar Philips 60W E27\",\"line\":{\"color\":\"#FFA15A\",\"dash\":\"solid\"},\"marker\":{\"symbol\":\"circle\"},\"mode\":\"lines\",\"name\":\"Bombilla Led Est\\u00e1ndar Philips 60W E27\",\"orientation\":\"v\",\"showlegend\":true,\"x\":[\"2021-07-31T00:00:00\",\"2021-08-31T00:00:00\",\"2021-09-30T00:00:00\",\"2021-10-31T00:00:00\",\"2021-11-30T00:00:00\",\"2021-12-31T00:00:00\",\"2022-01-31T00:00:00\",\"2022-02-28T00:00:00\",\"2022-03-31T00:00:00\",\"2022-04-30T00:00:00\",\"2022-05-31T00:00:00\",\"2022-06-30T00:00:00\",\"2022-07-31T00:00:00\",\"2022-08-31T00:00:00\",\"2022-09-30T00:00:00\",\"2022-10-31T00:00:00\",\"2022-11-30T00:00:00\"],\"xaxis\":\"x\",\"y\":[38.870000000000005,125.58000000000001,124.51,149.4,149.4,144.42000000000002,112.05000000000001,87.15,87.15,52.290000000000006,89.64000000000001,146.91000000000003,154.38000000000002,149.4,132.77,149.4,72.21000000000001],\"yaxis\":\"y\",\"type\":\"scatter\"}],                        {\"template\":{\"data\":{\"histogram2dcontour\":[{\"type\":\"histogram2dcontour\",\"colorbar\":{\"outlinewidth\":0,\"ticks\":\"\"},\"colorscale\":[[0.0,\"#0d0887\"],[0.1111111111111111,\"#46039f\"],[0.2222222222222222,\"#7201a8\"],[0.3333333333333333,\"#9c179e\"],[0.4444444444444444,\"#bd3786\"],[0.5555555555555556,\"#d8576b\"],[0.6666666666666666,\"#ed7953\"],[0.7777777777777778,\"#fb9f3a\"],[0.8888888888888888,\"#fdca26\"],[1.0,\"#f0f921\"]]}],\"choropleth\":[{\"type\":\"choropleth\",\"colorbar\":{\"outlinewidth\":0,\"ticks\":\"\"}}],\"histogram2d\":[{\"type\":\"histogram2d\",\"colorbar\":{\"outlinewidth\":0,\"ticks\":\"\"},\"colorscale\":[[0.0,\"#0d0887\"],[0.1111111111111111,\"#46039f\"],[0.2222222222222222,\"#7201a8\"],[0.3333333333333333,\"#9c179e\"],[0.4444444444444444,\"#bd3786\"],[0.5555555555555556,\"#d8576b\"],[0.6666666666666666,\"#ed7953\"],[0.7777777777777778,\"#fb9f3a\"],[0.8888888888888888,\"#fdca26\"],[1.0,\"#f0f921\"]]}],\"heatmap\":[{\"type\":\"heatmap\",\"colorbar\":{\"outlinewidth\":0,\"ticks\":\"\"},\"colorscale\":[[0.0,\"#0d0887\"],[0.1111111111111111,\"#46039f\"],[0.2222222222222222,\"#7201a8\"],[0.3333333333333333,\"#9c179e\"],[0.4444444444444444,\"#bd3786\"],[0.5555555555555556,\"#d8576b\"],[0.6666666666666666,\"#ed7953\"],[0.7777777777777778,\"#fb9f3a\"],[0.8888888888888888,\"#fdca26\"],[1.0,\"#f0f921\"]]}],\"heatmapgl\":[{\"type\":\"heatmapgl\",\"colorbar\":{\"outlinewidth\":0,\"ticks\":\"\"},\"colorscale\":[[0.0,\"#0d0887\"],[0.1111111111111111,\"#46039f\"],[0.2222222222222222,\"#7201a8\"],[0.3333333333333333,\"#9c179e\"],[0.4444444444444444,\"#bd3786\"],[0.5555555555555556,\"#d8576b\"],[0.6666666666666666,\"#ed7953\"],[0.7777777777777778,\"#fb9f3a\"],[0.8888888888888888,\"#fdca26\"],[1.0,\"#f0f921\"]]}],\"contourcarpet\":[{\"type\":\"contourcarpet\",\"colorbar\":{\"outlinewidth\":0,\"ticks\":\"\"}}],\"contour\":[{\"type\":\"contour\",\"colorbar\":{\"outlinewidth\":0,\"ticks\":\"\"},\"colorscale\":[[0.0,\"#0d0887\"],[0.1111111111111111,\"#46039f\"],[0.2222222222222222,\"#7201a8\"],[0.3333333333333333,\"#9c179e\"],[0.4444444444444444,\"#bd3786\"],[0.5555555555555556,\"#d8576b\"],[0.6666666666666666,\"#ed7953\"],[0.7777777777777778,\"#fb9f3a\"],[0.8888888888888888,\"#fdca26\"],[1.0,\"#f0f921\"]]}],\"surface\":[{\"type\":\"surface\",\"colorbar\":{\"outlinewidth\":0,\"ticks\":\"\"},\"colorscale\":[[0.0,\"#0d0887\"],[0.1111111111111111,\"#46039f\"],[0.2222222222222222,\"#7201a8\"],[0.3333333333333333,\"#9c179e\"],[0.4444444444444444,\"#bd3786\"],[0.5555555555555556,\"#d8576b\"],[0.6666666666666666,\"#ed7953\"],[0.7777777777777778,\"#fb9f3a\"],[0.8888888888888888,\"#fdca26\"],[1.0,\"#f0f921\"]]}],\"mesh3d\":[{\"type\":\"mesh3d\",\"colorbar\":{\"outlinewidth\":0,\"ticks\":\"\"}}],\"scatter\":[{\"marker\":{\"line\":{\"color\":\"#283442\"}},\"type\":\"scatter\"}],\"parcoords\":[{\"type\":\"parcoords\",\"line\":{\"colorbar\":{\"outlinewidth\":0,\"ticks\":\"\"}}}],\"scatterpolargl\":[{\"type\":\"scatterpolargl\",\"marker\":{\"colorbar\":{\"outlinewidth\":0,\"ticks\":\"\"}}}],\"bar\":[{\"error_x\":{\"color\":\"#f2f5fa\"},\"error_y\":{\"color\":\"#f2f5fa\"},\"marker\":{\"line\":{\"color\":\"rgb(17,17,17)\",\"width\":0.5},\"pattern\":{\"fillmode\":\"overlay\",\"size\":10,\"solidity\":0.2}},\"type\":\"bar\"}],\"scattergeo\":[{\"type\":\"scattergeo\",\"marker\":{\"colorbar\":{\"outlinewidth\":0,\"ticks\":\"\"}}}],\"scatterpolar\":[{\"type\":\"scatterpolar\",\"marker\":{\"colorbar\":{\"outlinewidth\":0,\"ticks\":\"\"}}}],\"histogram\":[{\"marker\":{\"pattern\":{\"fillmode\":\"overlay\",\"size\":10,\"solidity\":0.2}},\"type\":\"histogram\"}],\"scattergl\":[{\"marker\":{\"line\":{\"color\":\"#283442\"}},\"type\":\"scattergl\"}],\"scatter3d\":[{\"type\":\"scatter3d\",\"line\":{\"colorbar\":{\"outlinewidth\":0,\"ticks\":\"\"}},\"marker\":{\"colorbar\":{\"outlinewidth\":0,\"ticks\":\"\"}}}],\"scattermapbox\":[{\"type\":\"scattermapbox\",\"marker\":{\"colorbar\":{\"outlinewidth\":0,\"ticks\":\"\"}}}],\"scatterternary\":[{\"type\":\"scatterternary\",\"marker\":{\"colorbar\":{\"outlinewidth\":0,\"ticks\":\"\"}}}],\"scattercarpet\":[{\"type\":\"scattercarpet\",\"marker\":{\"colorbar\":{\"outlinewidth\":0,\"ticks\":\"\"}}}],\"carpet\":[{\"aaxis\":{\"endlinecolor\":\"#A2B1C6\",\"gridcolor\":\"#506784\",\"linecolor\":\"#506784\",\"minorgridcolor\":\"#506784\",\"startlinecolor\":\"#A2B1C6\"},\"baxis\":{\"endlinecolor\":\"#A2B1C6\",\"gridcolor\":\"#506784\",\"linecolor\":\"#506784\",\"minorgridcolor\":\"#506784\",\"startlinecolor\":\"#A2B1C6\"},\"type\":\"carpet\"}],\"table\":[{\"cells\":{\"fill\":{\"color\":\"#506784\"},\"line\":{\"color\":\"rgb(17,17,17)\"}},\"header\":{\"fill\":{\"color\":\"#2a3f5f\"},\"line\":{\"color\":\"rgb(17,17,17)\"}},\"type\":\"table\"}],\"barpolar\":[{\"marker\":{\"line\":{\"color\":\"rgb(17,17,17)\",\"width\":0.5},\"pattern\":{\"fillmode\":\"overlay\",\"size\":10,\"solidity\":0.2}},\"type\":\"barpolar\"}],\"pie\":[{\"automargin\":true,\"type\":\"pie\"}]},\"layout\":{\"autotypenumbers\":\"strict\",\"colorway\":[\"#636efa\",\"#EF553B\",\"#00cc96\",\"#ab63fa\",\"#FFA15A\",\"#19d3f3\",\"#FF6692\",\"#B6E880\",\"#FF97FF\",\"#FECB52\"],\"font\":{\"color\":\"#f2f5fa\"},\"hovermode\":\"closest\",\"hoverlabel\":{\"align\":\"left\"},\"paper_bgcolor\":\"rgb(17,17,17)\",\"plot_bgcolor\":\"rgb(17,17,17)\",\"polar\":{\"bgcolor\":\"rgb(17,17,17)\",\"angularaxis\":{\"gridcolor\":\"#506784\",\"linecolor\":\"#506784\",\"ticks\":\"\"},\"radialaxis\":{\"gridcolor\":\"#506784\",\"linecolor\":\"#506784\",\"ticks\":\"\"}},\"ternary\":{\"bgcolor\":\"rgb(17,17,17)\",\"aaxis\":{\"gridcolor\":\"#506784\",\"linecolor\":\"#506784\",\"ticks\":\"\"},\"baxis\":{\"gridcolor\":\"#506784\",\"linecolor\":\"#506784\",\"ticks\":\"\"},\"caxis\":{\"gridcolor\":\"#506784\",\"linecolor\":\"#506784\",\"ticks\":\"\"}},\"coloraxis\":{\"colorbar\":{\"outlinewidth\":0,\"ticks\":\"\"}},\"colorscale\":{\"sequential\":[[0.0,\"#0d0887\"],[0.1111111111111111,\"#46039f\"],[0.2222222222222222,\"#7201a8\"],[0.3333333333333333,\"#9c179e\"],[0.4444444444444444,\"#bd3786\"],[0.5555555555555556,\"#d8576b\"],[0.6666666666666666,\"#ed7953\"],[0.7777777777777778,\"#fb9f3a\"],[0.8888888888888888,\"#fdca26\"],[1.0,\"#f0f921\"]],\"sequentialminus\":[[0.0,\"#0d0887\"],[0.1111111111111111,\"#46039f\"],[0.2222222222222222,\"#7201a8\"],[0.3333333333333333,\"#9c179e\"],[0.4444444444444444,\"#bd3786\"],[0.5555555555555556,\"#d8576b\"],[0.6666666666666666,\"#ed7953\"],[0.7777777777777778,\"#fb9f3a\"],[0.8888888888888888,\"#fdca26\"],[1.0,\"#f0f921\"]],\"diverging\":[[0,\"#8e0152\"],[0.1,\"#c51b7d\"],[0.2,\"#de77ae\"],[0.3,\"#f1b6da\"],[0.4,\"#fde0ef\"],[0.5,\"#f7f7f7\"],[0.6,\"#e6f5d0\"],[0.7,\"#b8e186\"],[0.8,\"#7fbc41\"],[0.9,\"#4d9221\"],[1,\"#276419\"]]},\"xaxis\":{\"gridcolor\":\"#283442\",\"linecolor\":\"#506784\",\"ticks\":\"\",\"title\":{\"standoff\":15},\"zerolinecolor\":\"#283442\",\"automargin\":true,\"zerolinewidth\":2},\"yaxis\":{\"gridcolor\":\"#283442\",\"linecolor\":\"#506784\",\"ticks\":\"\",\"title\":{\"standoff\":15},\"zerolinecolor\":\"#283442\",\"automargin\":true,\"zerolinewidth\":2},\"scene\":{\"xaxis\":{\"backgroundcolor\":\"rgb(17,17,17)\",\"gridcolor\":\"#506784\",\"linecolor\":\"#506784\",\"showbackground\":true,\"ticks\":\"\",\"zerolinecolor\":\"#C8D4E3\",\"gridwidth\":2},\"yaxis\":{\"backgroundcolor\":\"rgb(17,17,17)\",\"gridcolor\":\"#506784\",\"linecolor\":\"#506784\",\"showbackground\":true,\"ticks\":\"\",\"zerolinecolor\":\"#C8D4E3\",\"gridwidth\":2},\"zaxis\":{\"backgroundcolor\":\"rgb(17,17,17)\",\"gridcolor\":\"#506784\",\"linecolor\":\"#506784\",\"showbackground\":true,\"ticks\":\"\",\"zerolinecolor\":\"#C8D4E3\",\"gridwidth\":2}},\"shapedefaults\":{\"line\":{\"color\":\"#f2f5fa\"}},\"annotationdefaults\":{\"arrowcolor\":\"#f2f5fa\",\"arrowhead\":0,\"arrowwidth\":1},\"geo\":{\"bgcolor\":\"rgb(17,17,17)\",\"landcolor\":\"rgb(17,17,17)\",\"subunitcolor\":\"#506784\",\"showland\":true,\"showlakes\":true,\"lakecolor\":\"rgb(17,17,17)\"},\"title\":{\"x\":0.05},\"updatemenudefaults\":{\"bgcolor\":\"#506784\",\"borderwidth\":0},\"sliderdefaults\":{\"bgcolor\":\"#C8D4E3\",\"borderwidth\":1,\"bordercolor\":\"rgb(17,17,17)\",\"tickwidth\":0},\"mapbox\":{\"style\":\"dark\"}}},\"xaxis\":{\"anchor\":\"y\",\"domain\":[0.0,1.0],\"title\":{},\"dtick\":\"M1\",\"tickformat\":\"%b\\n%Y\"},\"yaxis\":{\"anchor\":\"x\",\"domain\":[0.0,1.0],\"title\":{\"text\":\"Sales (\\u20ac)\"}},\"legend\":{\"title\":{\"text\":\"Items\"},\"tracegroupgap\":0,\"font\":{\"size\":8},\"yanchor\":\"top\",\"y\":1.35,\"xanchor\":\"left\",\"x\":0.01},\"margin\":{\"t\":60},\"title\":{\"text\":\"Carrefour monthly sales\",\"y\":0.95,\"x\":0.53,\"xanchor\":\"center\",\"yanchor\":\"top\"},\"showlegend\":true},                        {\"responsive\": true}                    ).then(function(){\n                            \nvar gd = document.getElementById('2852cec2-fa4e-4250-beeb-bbe4656aebee');\nvar x = new MutationObserver(function (mutations, observer) {{\n        var display = window.getComputedStyle(gd).display;\n        if (!display || display === 'none') {{\n            console.log([gd, 'removed!']);\n            Plotly.purge(gd);\n            observer.disconnect();\n        }}\n}});\n\n// Listen for the removal of the full notebook cells\nvar notebookContainer = gd.closest('#notebook-container');\nif (notebookContainer) {{\n    x.observe(notebookContainer, {childList: true});\n}}\n\n// Listen for the clearing of the current output cell\nvar outputEl = gd.closest('.output');\nif (outputEl) {{\n    x.observe(outputEl, {childList: true});\n}}\n\n                        })                };                });            </script>        </div>"
     },
     "metadata": {},
     "output_type": "display_data"
    }
   ],
   "source": [
    "#M1 one month\n",
    "df = px.data.stocks()\n",
    "fig= px.line(Carre5_oct1, x=Carre5_oct1.index.get_level_values(0), y='sales', color=Carre5_oct1.index.get_level_values(1))\n",
    "fig.update_xaxes(dtick='M1', tickformat = '%b\\n%Y')\n",
    "fig.update_layout(showlegend= True, xaxis_title= None, yaxis_title=\"Sales (€)\",\n",
    "                  title={\n",
    "        'text': 'Carrefour monthly sales',\n",
    "        'y':0.95,\n",
    "        'x':0.53,\n",
    "        'xanchor': 'center',\n",
    "        'yanchor': 'top'},\n",
    "    legend=dict(\n",
    "    yanchor=\"top\", y=1.35,\n",
    "    xanchor=\"left\", x=0.01,\n",
    "    title = 'Items',\n",
    "    font=dict(size=8)\n",
    "))\n",
    "fig.show()\n",
    "#fig.write_html(\"data/Carre_month_sales.html\")"
   ],
   "metadata": {
    "collapsed": false
   }
  },
  {
   "cell_type": "markdown",
   "source": [
    "Dia monthly sales evolution"
   ],
   "metadata": {
    "collapsed": false
   }
  },
  {
   "cell_type": "code",
   "execution_count": 82,
   "outputs": [
    {
     "data": {
      "text/plain": "                                                                   sales  unit\nmonthly_sales name                                                            \n2021-03-31    BONTE desodorante attraction spray 150 ml            76.32    48\n              DIA cocktail frutos secos bolsa 500 gr              112.48    54\n              INSTITUTO ESPAÑOL agua de colonia gotas frescas...  439.93    54\n              SANEX desodorante natur protect roll on 50 ml       169.58    74\n              SANEX desodorante natur protect spray 200 ml        185.12    54\n...                                                                  ...   ...\n2022-10-31    SANEX desodorante natur protect spray 200 ml        222.58    62\n2022-11-30    DIA cocktail frutos secos bolsa 500 gr               45.43    17\n              INSTITUTO ESPAÑOL agua de colonia gotas frescas...  274.24    32\n              SANEX desodorante natur protect roll on 50 ml        75.20    32\n              SANEX desodorante natur protect spray 200 ml        114.88    32\n\n[104 rows x 2 columns]",
      "text/html": "<div>\n<style scoped>\n    .dataframe tbody tr th:only-of-type {\n        vertical-align: middle;\n    }\n\n    .dataframe tbody tr th {\n        vertical-align: top;\n    }\n\n    .dataframe thead th {\n        text-align: right;\n    }\n</style>\n<table border=\"1\" class=\"dataframe\">\n  <thead>\n    <tr style=\"text-align: right;\">\n      <th></th>\n      <th></th>\n      <th>sales</th>\n      <th>unit</th>\n    </tr>\n    <tr>\n      <th>monthly_sales</th>\n      <th>name</th>\n      <th></th>\n      <th></th>\n    </tr>\n  </thead>\n  <tbody>\n    <tr>\n      <th rowspan=\"5\" valign=\"top\">2021-03-31</th>\n      <th>BONTE desodorante attraction spray 150 ml</th>\n      <td>76.32</td>\n      <td>48</td>\n    </tr>\n    <tr>\n      <th>DIA cocktail frutos secos bolsa 500 gr</th>\n      <td>112.48</td>\n      <td>54</td>\n    </tr>\n    <tr>\n      <th>INSTITUTO ESPAÑOL agua de colonia gotas frescas bote 750 ml</th>\n      <td>439.93</td>\n      <td>54</td>\n    </tr>\n    <tr>\n      <th>SANEX desodorante natur protect roll on 50 ml</th>\n      <td>169.58</td>\n      <td>74</td>\n    </tr>\n    <tr>\n      <th>SANEX desodorante natur protect spray 200 ml</th>\n      <td>185.12</td>\n      <td>54</td>\n    </tr>\n    <tr>\n      <th>...</th>\n      <th>...</th>\n      <td>...</td>\n      <td>...</td>\n    </tr>\n    <tr>\n      <th>2022-10-31</th>\n      <th>SANEX desodorante natur protect spray 200 ml</th>\n      <td>222.58</td>\n      <td>62</td>\n    </tr>\n    <tr>\n      <th rowspan=\"4\" valign=\"top\">2022-11-30</th>\n      <th>DIA cocktail frutos secos bolsa 500 gr</th>\n      <td>45.43</td>\n      <td>17</td>\n    </tr>\n    <tr>\n      <th>INSTITUTO ESPAÑOL agua de colonia gotas frescas bote 750 ml</th>\n      <td>274.24</td>\n      <td>32</td>\n    </tr>\n    <tr>\n      <th>SANEX desodorante natur protect roll on 50 ml</th>\n      <td>75.20</td>\n      <td>32</td>\n    </tr>\n    <tr>\n      <th>SANEX desodorante natur protect spray 200 ml</th>\n      <td>114.88</td>\n      <td>32</td>\n    </tr>\n  </tbody>\n</table>\n<p>104 rows × 2 columns</p>\n</div>"
     },
     "execution_count": 82,
     "metadata": {},
     "output_type": "execute_result"
    }
   ],
   "source": [
    "Dia5_oct = Dia5.copy()\n",
    "Dia5_oct = Dia5_oct.set_index(\"daily_sales\")\n",
    "Dia5_oct = Dia5_oct.rename_axis(\"monthly_sales\")\n",
    "\n",
    "Dia5_oct1 = Dia5_oct.groupby([pd.Grouper(freq='M'), 'name']).sum()\n",
    "Dia5_oct1 = Dia5_oct1.rename(columns={'price': 'sales'})\n",
    "Dia5_oct1"
   ],
   "metadata": {
    "collapsed": false
   }
  },
  {
   "cell_type": "code",
   "execution_count": 83,
   "outputs": [
    {
     "data": {
      "application/vnd.plotly.v1+json": {
       "data": [
        {
         "hovertemplate": "color=BONTE desodorante attraction spray 150 ml<br>x=%{x}<br>sales=%{y}<extra></extra>",
         "legendgroup": "BONTE desodorante attraction spray 150 ml",
         "line": {
          "color": "#636efa",
          "dash": "solid"
         },
         "marker": {
          "symbol": "circle"
         },
         "mode": "lines",
         "name": "BONTE desodorante attraction spray 150 ml",
         "orientation": "v",
         "showlegend": true,
         "x": [
          "2021-03-31T00:00:00",
          "2021-04-30T00:00:00",
          "2021-05-31T00:00:00",
          "2021-06-30T00:00:00",
          "2021-07-31T00:00:00",
          "2021-08-31T00:00:00",
          "2021-09-30T00:00:00",
          "2021-10-31T00:00:00",
          "2021-11-30T00:00:00",
          "2021-12-31T00:00:00",
          "2022-01-31T00:00:00",
          "2022-02-28T00:00:00",
          "2022-03-31T00:00:00",
          "2022-04-30T00:00:00",
          "2022-05-31T00:00:00",
          "2022-06-30T00:00:00",
          "2022-07-31T00:00:00",
          "2022-08-31T00:00:00",
          "2022-09-30T00:00:00",
          "2022-10-31T00:00:00"
         ],
         "xaxis": "x",
         "y": [
          76.32,
          66.78,
          12.72,
          6.36,
          7.95,
          77.91000000000001,
          82.68,
          84.27000000000001,
          27.03,
          57.24,
          41.34,
          77.91000000000001,
          79.5,
          90.63000000000001,
          90.63000000000001,
          79.5,
          81.09,
          93.81,
          69.96000000000001,
          6.36
         ],
         "yaxis": "y",
         "type": "scatter"
        },
        {
         "hovertemplate": "color=DIA cocktail frutos secos bolsa 500 gr<br>x=%{x}<br>sales=%{y}<extra></extra>",
         "legendgroup": "DIA cocktail frutos secos bolsa 500 gr",
         "line": {
          "color": "#EF553B",
          "dash": "solid"
         },
         "marker": {
          "symbol": "circle"
         },
         "mode": "lines",
         "name": "DIA cocktail frutos secos bolsa 500 gr",
         "orientation": "v",
         "showlegend": true,
         "x": [
          "2021-03-31T00:00:00",
          "2021-04-30T00:00:00",
          "2021-05-31T00:00:00",
          "2021-06-30T00:00:00",
          "2021-07-31T00:00:00",
          "2021-08-31T00:00:00",
          "2021-09-30T00:00:00",
          "2021-10-31T00:00:00",
          "2021-11-30T00:00:00",
          "2021-12-31T00:00:00",
          "2022-01-31T00:00:00",
          "2022-02-28T00:00:00",
          "2022-03-31T00:00:00",
          "2022-04-30T00:00:00",
          "2022-05-31T00:00:00",
          "2022-06-30T00:00:00",
          "2022-07-31T00:00:00",
          "2022-08-31T00:00:00",
          "2022-09-30T00:00:00",
          "2022-10-31T00:00:00",
          "2022-11-30T00:00:00"
         ],
         "xaxis": "x",
         "y": [
          112.47999999999999,
          81.91999999999999,
          67.25999999999999,
          63.66,
          70.85,
          62.38999999999999,
          79.86999999999999,
          91.39,
          112.06,
          105.0,
          105.17,
          87.12,
          102.38,
          85.64,
          91.96,
          80.8,
          120.42999999999999,
          107.96,
          126.00999999999999,
          108.45,
          45.43
         ],
         "yaxis": "y",
         "type": "scatter"
        },
        {
         "hovertemplate": "color=INSTITUTO ESPAÑOL agua de colonia gotas frescas bote 750 ml<br>x=%{x}<br>sales=%{y}<extra></extra>",
         "legendgroup": "INSTITUTO ESPAÑOL agua de colonia gotas frescas bote 750 ml",
         "line": {
          "color": "#00cc96",
          "dash": "solid"
         },
         "marker": {
          "symbol": "circle"
         },
         "mode": "lines",
         "name": "INSTITUTO ESPAÑOL agua de colonia gotas frescas bote 750 ml",
         "orientation": "v",
         "showlegend": true,
         "x": [
          "2021-03-31T00:00:00",
          "2021-04-30T00:00:00",
          "2021-05-31T00:00:00",
          "2021-06-30T00:00:00",
          "2021-07-31T00:00:00",
          "2021-08-31T00:00:00",
          "2021-09-30T00:00:00",
          "2021-10-31T00:00:00",
          "2021-11-30T00:00:00",
          "2021-12-31T00:00:00",
          "2022-01-31T00:00:00",
          "2022-02-28T00:00:00",
          "2022-03-31T00:00:00",
          "2022-04-30T00:00:00",
          "2022-05-31T00:00:00",
          "2022-06-30T00:00:00",
          "2022-07-31T00:00:00",
          "2022-08-31T00:00:00",
          "2022-09-30T00:00:00",
          "2022-10-31T00:00:00",
          "2022-11-30T00:00:00"
         ],
         "xaxis": "x",
         "y": [
          439.93,
          502.5,
          502.5,
          505.8,
          522.66,
          522.66,
          505.8,
          505.28,
          505.2,
          522.04,
          522.04,
          473.62,
          531.34,
          514.2,
          531.34,
          479.92,
          531.34,
          531.34,
          514.2,
          514.2,
          274.24
         ],
         "yaxis": "y",
         "type": "scatter"
        },
        {
         "hovertemplate": "color=SANEX desodorante natur protect roll on 50 ml<br>x=%{x}<br>sales=%{y}<extra></extra>",
         "legendgroup": "SANEX desodorante natur protect roll on 50 ml",
         "line": {
          "color": "#ab63fa",
          "dash": "solid"
         },
         "marker": {
          "symbol": "circle"
         },
         "mode": "lines",
         "name": "SANEX desodorante natur protect roll on 50 ml",
         "orientation": "v",
         "showlegend": true,
         "x": [
          "2021-03-31T00:00:00",
          "2021-04-30T00:00:00",
          "2021-05-31T00:00:00",
          "2021-06-30T00:00:00",
          "2021-07-31T00:00:00",
          "2021-08-31T00:00:00",
          "2021-09-30T00:00:00",
          "2021-10-31T00:00:00",
          "2021-11-30T00:00:00",
          "2021-12-31T00:00:00",
          "2022-01-31T00:00:00",
          "2022-02-28T00:00:00",
          "2022-03-31T00:00:00",
          "2022-04-30T00:00:00",
          "2022-05-31T00:00:00",
          "2022-06-30T00:00:00",
          "2022-07-31T00:00:00",
          "2022-08-31T00:00:00",
          "2022-09-30T00:00:00",
          "2022-10-31T00:00:00",
          "2022-11-30T00:00:00"
         ],
         "xaxis": "x",
         "y": [
          169.58,
          113.88,
          74.46,
          74.46,
          91.98,
          113.88,
          131.4,
          131.4,
          113.88,
          127.02,
          120.45,
          109.66,
          124.55000000000001,
          133.95000000000002,
          133.95000000000002,
          129.25,
          141.0,
          145.70000000000002,
          141.0,
          145.70000000000002,
          75.2
         ],
         "yaxis": "y",
         "type": "scatter"
        },
        {
         "hovertemplate": "color=SANEX desodorante natur protect spray 200 ml<br>x=%{x}<br>sales=%{y}<extra></extra>",
         "legendgroup": "SANEX desodorante natur protect spray 200 ml",
         "line": {
          "color": "#FFA15A",
          "dash": "solid"
         },
         "marker": {
          "symbol": "circle"
         },
         "mode": "lines",
         "name": "SANEX desodorante natur protect spray 200 ml",
         "orientation": "v",
         "showlegend": true,
         "x": [
          "2021-03-31T00:00:00",
          "2021-04-30T00:00:00",
          "2021-05-31T00:00:00",
          "2021-06-30T00:00:00",
          "2021-07-31T00:00:00",
          "2021-08-31T00:00:00",
          "2021-09-30T00:00:00",
          "2021-10-31T00:00:00",
          "2021-11-30T00:00:00",
          "2021-12-31T00:00:00",
          "2022-01-31T00:00:00",
          "2022-02-28T00:00:00",
          "2022-03-31T00:00:00",
          "2022-04-30T00:00:00",
          "2022-05-31T00:00:00",
          "2022-06-30T00:00:00",
          "2022-07-31T00:00:00",
          "2022-08-31T00:00:00",
          "2022-09-30T00:00:00",
          "2022-10-31T00:00:00",
          "2022-11-30T00:00:00"
         ],
         "xaxis": "x",
         "y": [
          185.12,
          165.72,
          111.38000000000001,
          111.28,
          115.17,
          188.46,
          209.4,
          202.42000000000002,
          125.64000000000001,
          143.09,
          160.54000000000002,
          143.29000000000002,
          147.19,
          186.68,
          211.81,
          193.85999999999999,
          222.57999999999998,
          222.57999999999998,
          215.39999999999998,
          222.57999999999998,
          114.88
         ],
         "yaxis": "y",
         "type": "scatter"
        }
       ],
       "layout": {
        "template": {
         "data": {
          "histogram2dcontour": [
           {
            "type": "histogram2dcontour",
            "colorbar": {
             "outlinewidth": 0,
             "ticks": ""
            },
            "colorscale": [
             [
              0.0,
              "#0d0887"
             ],
             [
              0.1111111111111111,
              "#46039f"
             ],
             [
              0.2222222222222222,
              "#7201a8"
             ],
             [
              0.3333333333333333,
              "#9c179e"
             ],
             [
              0.4444444444444444,
              "#bd3786"
             ],
             [
              0.5555555555555556,
              "#d8576b"
             ],
             [
              0.6666666666666666,
              "#ed7953"
             ],
             [
              0.7777777777777778,
              "#fb9f3a"
             ],
             [
              0.8888888888888888,
              "#fdca26"
             ],
             [
              1.0,
              "#f0f921"
             ]
            ]
           }
          ],
          "choropleth": [
           {
            "type": "choropleth",
            "colorbar": {
             "outlinewidth": 0,
             "ticks": ""
            }
           }
          ],
          "histogram2d": [
           {
            "type": "histogram2d",
            "colorbar": {
             "outlinewidth": 0,
             "ticks": ""
            },
            "colorscale": [
             [
              0.0,
              "#0d0887"
             ],
             [
              0.1111111111111111,
              "#46039f"
             ],
             [
              0.2222222222222222,
              "#7201a8"
             ],
             [
              0.3333333333333333,
              "#9c179e"
             ],
             [
              0.4444444444444444,
              "#bd3786"
             ],
             [
              0.5555555555555556,
              "#d8576b"
             ],
             [
              0.6666666666666666,
              "#ed7953"
             ],
             [
              0.7777777777777778,
              "#fb9f3a"
             ],
             [
              0.8888888888888888,
              "#fdca26"
             ],
             [
              1.0,
              "#f0f921"
             ]
            ]
           }
          ],
          "heatmap": [
           {
            "type": "heatmap",
            "colorbar": {
             "outlinewidth": 0,
             "ticks": ""
            },
            "colorscale": [
             [
              0.0,
              "#0d0887"
             ],
             [
              0.1111111111111111,
              "#46039f"
             ],
             [
              0.2222222222222222,
              "#7201a8"
             ],
             [
              0.3333333333333333,
              "#9c179e"
             ],
             [
              0.4444444444444444,
              "#bd3786"
             ],
             [
              0.5555555555555556,
              "#d8576b"
             ],
             [
              0.6666666666666666,
              "#ed7953"
             ],
             [
              0.7777777777777778,
              "#fb9f3a"
             ],
             [
              0.8888888888888888,
              "#fdca26"
             ],
             [
              1.0,
              "#f0f921"
             ]
            ]
           }
          ],
          "heatmapgl": [
           {
            "type": "heatmapgl",
            "colorbar": {
             "outlinewidth": 0,
             "ticks": ""
            },
            "colorscale": [
             [
              0.0,
              "#0d0887"
             ],
             [
              0.1111111111111111,
              "#46039f"
             ],
             [
              0.2222222222222222,
              "#7201a8"
             ],
             [
              0.3333333333333333,
              "#9c179e"
             ],
             [
              0.4444444444444444,
              "#bd3786"
             ],
             [
              0.5555555555555556,
              "#d8576b"
             ],
             [
              0.6666666666666666,
              "#ed7953"
             ],
             [
              0.7777777777777778,
              "#fb9f3a"
             ],
             [
              0.8888888888888888,
              "#fdca26"
             ],
             [
              1.0,
              "#f0f921"
             ]
            ]
           }
          ],
          "contourcarpet": [
           {
            "type": "contourcarpet",
            "colorbar": {
             "outlinewidth": 0,
             "ticks": ""
            }
           }
          ],
          "contour": [
           {
            "type": "contour",
            "colorbar": {
             "outlinewidth": 0,
             "ticks": ""
            },
            "colorscale": [
             [
              0.0,
              "#0d0887"
             ],
             [
              0.1111111111111111,
              "#46039f"
             ],
             [
              0.2222222222222222,
              "#7201a8"
             ],
             [
              0.3333333333333333,
              "#9c179e"
             ],
             [
              0.4444444444444444,
              "#bd3786"
             ],
             [
              0.5555555555555556,
              "#d8576b"
             ],
             [
              0.6666666666666666,
              "#ed7953"
             ],
             [
              0.7777777777777778,
              "#fb9f3a"
             ],
             [
              0.8888888888888888,
              "#fdca26"
             ],
             [
              1.0,
              "#f0f921"
             ]
            ]
           }
          ],
          "surface": [
           {
            "type": "surface",
            "colorbar": {
             "outlinewidth": 0,
             "ticks": ""
            },
            "colorscale": [
             [
              0.0,
              "#0d0887"
             ],
             [
              0.1111111111111111,
              "#46039f"
             ],
             [
              0.2222222222222222,
              "#7201a8"
             ],
             [
              0.3333333333333333,
              "#9c179e"
             ],
             [
              0.4444444444444444,
              "#bd3786"
             ],
             [
              0.5555555555555556,
              "#d8576b"
             ],
             [
              0.6666666666666666,
              "#ed7953"
             ],
             [
              0.7777777777777778,
              "#fb9f3a"
             ],
             [
              0.8888888888888888,
              "#fdca26"
             ],
             [
              1.0,
              "#f0f921"
             ]
            ]
           }
          ],
          "mesh3d": [
           {
            "type": "mesh3d",
            "colorbar": {
             "outlinewidth": 0,
             "ticks": ""
            }
           }
          ],
          "scatter": [
           {
            "marker": {
             "line": {
              "color": "#283442"
             }
            },
            "type": "scatter"
           }
          ],
          "parcoords": [
           {
            "type": "parcoords",
            "line": {
             "colorbar": {
              "outlinewidth": 0,
              "ticks": ""
             }
            }
           }
          ],
          "scatterpolargl": [
           {
            "type": "scatterpolargl",
            "marker": {
             "colorbar": {
              "outlinewidth": 0,
              "ticks": ""
             }
            }
           }
          ],
          "bar": [
           {
            "error_x": {
             "color": "#f2f5fa"
            },
            "error_y": {
             "color": "#f2f5fa"
            },
            "marker": {
             "line": {
              "color": "rgb(17,17,17)",
              "width": 0.5
             },
             "pattern": {
              "fillmode": "overlay",
              "size": 10,
              "solidity": 0.2
             }
            },
            "type": "bar"
           }
          ],
          "scattergeo": [
           {
            "type": "scattergeo",
            "marker": {
             "colorbar": {
              "outlinewidth": 0,
              "ticks": ""
             }
            }
           }
          ],
          "scatterpolar": [
           {
            "type": "scatterpolar",
            "marker": {
             "colorbar": {
              "outlinewidth": 0,
              "ticks": ""
             }
            }
           }
          ],
          "histogram": [
           {
            "marker": {
             "pattern": {
              "fillmode": "overlay",
              "size": 10,
              "solidity": 0.2
             }
            },
            "type": "histogram"
           }
          ],
          "scattergl": [
           {
            "marker": {
             "line": {
              "color": "#283442"
             }
            },
            "type": "scattergl"
           }
          ],
          "scatter3d": [
           {
            "type": "scatter3d",
            "line": {
             "colorbar": {
              "outlinewidth": 0,
              "ticks": ""
             }
            },
            "marker": {
             "colorbar": {
              "outlinewidth": 0,
              "ticks": ""
             }
            }
           }
          ],
          "scattermapbox": [
           {
            "type": "scattermapbox",
            "marker": {
             "colorbar": {
              "outlinewidth": 0,
              "ticks": ""
             }
            }
           }
          ],
          "scatterternary": [
           {
            "type": "scatterternary",
            "marker": {
             "colorbar": {
              "outlinewidth": 0,
              "ticks": ""
             }
            }
           }
          ],
          "scattercarpet": [
           {
            "type": "scattercarpet",
            "marker": {
             "colorbar": {
              "outlinewidth": 0,
              "ticks": ""
             }
            }
           }
          ],
          "carpet": [
           {
            "aaxis": {
             "endlinecolor": "#A2B1C6",
             "gridcolor": "#506784",
             "linecolor": "#506784",
             "minorgridcolor": "#506784",
             "startlinecolor": "#A2B1C6"
            },
            "baxis": {
             "endlinecolor": "#A2B1C6",
             "gridcolor": "#506784",
             "linecolor": "#506784",
             "minorgridcolor": "#506784",
             "startlinecolor": "#A2B1C6"
            },
            "type": "carpet"
           }
          ],
          "table": [
           {
            "cells": {
             "fill": {
              "color": "#506784"
             },
             "line": {
              "color": "rgb(17,17,17)"
             }
            },
            "header": {
             "fill": {
              "color": "#2a3f5f"
             },
             "line": {
              "color": "rgb(17,17,17)"
             }
            },
            "type": "table"
           }
          ],
          "barpolar": [
           {
            "marker": {
             "line": {
              "color": "rgb(17,17,17)",
              "width": 0.5
             },
             "pattern": {
              "fillmode": "overlay",
              "size": 10,
              "solidity": 0.2
             }
            },
            "type": "barpolar"
           }
          ],
          "pie": [
           {
            "automargin": true,
            "type": "pie"
           }
          ]
         },
         "layout": {
          "autotypenumbers": "strict",
          "colorway": [
           "#636efa",
           "#EF553B",
           "#00cc96",
           "#ab63fa",
           "#FFA15A",
           "#19d3f3",
           "#FF6692",
           "#B6E880",
           "#FF97FF",
           "#FECB52"
          ],
          "font": {
           "color": "#f2f5fa"
          },
          "hovermode": "closest",
          "hoverlabel": {
           "align": "left"
          },
          "paper_bgcolor": "rgb(17,17,17)",
          "plot_bgcolor": "rgb(17,17,17)",
          "polar": {
           "bgcolor": "rgb(17,17,17)",
           "angularaxis": {
            "gridcolor": "#506784",
            "linecolor": "#506784",
            "ticks": ""
           },
           "radialaxis": {
            "gridcolor": "#506784",
            "linecolor": "#506784",
            "ticks": ""
           }
          },
          "ternary": {
           "bgcolor": "rgb(17,17,17)",
           "aaxis": {
            "gridcolor": "#506784",
            "linecolor": "#506784",
            "ticks": ""
           },
           "baxis": {
            "gridcolor": "#506784",
            "linecolor": "#506784",
            "ticks": ""
           },
           "caxis": {
            "gridcolor": "#506784",
            "linecolor": "#506784",
            "ticks": ""
           }
          },
          "coloraxis": {
           "colorbar": {
            "outlinewidth": 0,
            "ticks": ""
           }
          },
          "colorscale": {
           "sequential": [
            [
             0.0,
             "#0d0887"
            ],
            [
             0.1111111111111111,
             "#46039f"
            ],
            [
             0.2222222222222222,
             "#7201a8"
            ],
            [
             0.3333333333333333,
             "#9c179e"
            ],
            [
             0.4444444444444444,
             "#bd3786"
            ],
            [
             0.5555555555555556,
             "#d8576b"
            ],
            [
             0.6666666666666666,
             "#ed7953"
            ],
            [
             0.7777777777777778,
             "#fb9f3a"
            ],
            [
             0.8888888888888888,
             "#fdca26"
            ],
            [
             1.0,
             "#f0f921"
            ]
           ],
           "sequentialminus": [
            [
             0.0,
             "#0d0887"
            ],
            [
             0.1111111111111111,
             "#46039f"
            ],
            [
             0.2222222222222222,
             "#7201a8"
            ],
            [
             0.3333333333333333,
             "#9c179e"
            ],
            [
             0.4444444444444444,
             "#bd3786"
            ],
            [
             0.5555555555555556,
             "#d8576b"
            ],
            [
             0.6666666666666666,
             "#ed7953"
            ],
            [
             0.7777777777777778,
             "#fb9f3a"
            ],
            [
             0.8888888888888888,
             "#fdca26"
            ],
            [
             1.0,
             "#f0f921"
            ]
           ],
           "diverging": [
            [
             0,
             "#8e0152"
            ],
            [
             0.1,
             "#c51b7d"
            ],
            [
             0.2,
             "#de77ae"
            ],
            [
             0.3,
             "#f1b6da"
            ],
            [
             0.4,
             "#fde0ef"
            ],
            [
             0.5,
             "#f7f7f7"
            ],
            [
             0.6,
             "#e6f5d0"
            ],
            [
             0.7,
             "#b8e186"
            ],
            [
             0.8,
             "#7fbc41"
            ],
            [
             0.9,
             "#4d9221"
            ],
            [
             1,
             "#276419"
            ]
           ]
          },
          "xaxis": {
           "gridcolor": "#283442",
           "linecolor": "#506784",
           "ticks": "",
           "title": {
            "standoff": 15
           },
           "zerolinecolor": "#283442",
           "automargin": true,
           "zerolinewidth": 2
          },
          "yaxis": {
           "gridcolor": "#283442",
           "linecolor": "#506784",
           "ticks": "",
           "title": {
            "standoff": 15
           },
           "zerolinecolor": "#283442",
           "automargin": true,
           "zerolinewidth": 2
          },
          "scene": {
           "xaxis": {
            "backgroundcolor": "rgb(17,17,17)",
            "gridcolor": "#506784",
            "linecolor": "#506784",
            "showbackground": true,
            "ticks": "",
            "zerolinecolor": "#C8D4E3",
            "gridwidth": 2
           },
           "yaxis": {
            "backgroundcolor": "rgb(17,17,17)",
            "gridcolor": "#506784",
            "linecolor": "#506784",
            "showbackground": true,
            "ticks": "",
            "zerolinecolor": "#C8D4E3",
            "gridwidth": 2
           },
           "zaxis": {
            "backgroundcolor": "rgb(17,17,17)",
            "gridcolor": "#506784",
            "linecolor": "#506784",
            "showbackground": true,
            "ticks": "",
            "zerolinecolor": "#C8D4E3",
            "gridwidth": 2
           }
          },
          "shapedefaults": {
           "line": {
            "color": "#f2f5fa"
           }
          },
          "annotationdefaults": {
           "arrowcolor": "#f2f5fa",
           "arrowhead": 0,
           "arrowwidth": 1
          },
          "geo": {
           "bgcolor": "rgb(17,17,17)",
           "landcolor": "rgb(17,17,17)",
           "subunitcolor": "#506784",
           "showland": true,
           "showlakes": true,
           "lakecolor": "rgb(17,17,17)"
          },
          "title": {
           "x": 0.05
          },
          "updatemenudefaults": {
           "bgcolor": "#506784",
           "borderwidth": 0
          },
          "sliderdefaults": {
           "bgcolor": "#C8D4E3",
           "borderwidth": 1,
           "bordercolor": "rgb(17,17,17)",
           "tickwidth": 0
          },
          "mapbox": {
           "style": "dark"
          }
         }
        },
        "xaxis": {
         "anchor": "y",
         "domain": [
          0.0,
          1.0
         ],
         "title": {},
         "dtick": "M1",
         "tickformat": "%b\n%Y"
        },
        "yaxis": {
         "anchor": "x",
         "domain": [
          0.0,
          1.0
         ],
         "title": {
          "text": "Sales (€)"
         }
        },
        "legend": {
         "title": {
          "text": "Items"
         },
         "tracegroupgap": 0,
         "font": {
          "size": 8
         },
         "yanchor": "top",
         "y": 1.55,
         "xanchor": "left",
         "x": 0.01
        },
        "margin": {
         "t": 60
        },
        "title": {
         "text": "Dia monthly sales",
         "y": 0.95,
         "x": 0.53,
         "xanchor": "center",
         "yanchor": "top"
        },
        "showlegend": true
       },
       "config": {
        "plotlyServerURL": "https://plot.ly"
       }
      },
      "text/html": "<div>                            <div id=\"c265b619-370b-47f7-8e63-4bf79691f927\" class=\"plotly-graph-div\" style=\"height:525px; width:100%;\"></div>            <script type=\"text/javascript\">                require([\"plotly\"], function(Plotly) {                    window.PLOTLYENV=window.PLOTLYENV || {};                                    if (document.getElementById(\"c265b619-370b-47f7-8e63-4bf79691f927\")) {                    Plotly.newPlot(                        \"c265b619-370b-47f7-8e63-4bf79691f927\",                        [{\"hovertemplate\":\"color=BONTE desodorante attraction spray 150 ml<br>x=%{x}<br>sales=%{y}<extra></extra>\",\"legendgroup\":\"BONTE desodorante attraction spray 150 ml\",\"line\":{\"color\":\"#636efa\",\"dash\":\"solid\"},\"marker\":{\"symbol\":\"circle\"},\"mode\":\"lines\",\"name\":\"BONTE desodorante attraction spray 150 ml\",\"orientation\":\"v\",\"showlegend\":true,\"x\":[\"2021-03-31T00:00:00\",\"2021-04-30T00:00:00\",\"2021-05-31T00:00:00\",\"2021-06-30T00:00:00\",\"2021-07-31T00:00:00\",\"2021-08-31T00:00:00\",\"2021-09-30T00:00:00\",\"2021-10-31T00:00:00\",\"2021-11-30T00:00:00\",\"2021-12-31T00:00:00\",\"2022-01-31T00:00:00\",\"2022-02-28T00:00:00\",\"2022-03-31T00:00:00\",\"2022-04-30T00:00:00\",\"2022-05-31T00:00:00\",\"2022-06-30T00:00:00\",\"2022-07-31T00:00:00\",\"2022-08-31T00:00:00\",\"2022-09-30T00:00:00\",\"2022-10-31T00:00:00\"],\"xaxis\":\"x\",\"y\":[76.32,66.78,12.72,6.36,7.95,77.91000000000001,82.68,84.27000000000001,27.03,57.24,41.34,77.91000000000001,79.5,90.63000000000001,90.63000000000001,79.5,81.09,93.81,69.96000000000001,6.36],\"yaxis\":\"y\",\"type\":\"scatter\"},{\"hovertemplate\":\"color=DIA cocktail frutos secos bolsa 500 gr<br>x=%{x}<br>sales=%{y}<extra></extra>\",\"legendgroup\":\"DIA cocktail frutos secos bolsa 500 gr\",\"line\":{\"color\":\"#EF553B\",\"dash\":\"solid\"},\"marker\":{\"symbol\":\"circle\"},\"mode\":\"lines\",\"name\":\"DIA cocktail frutos secos bolsa 500 gr\",\"orientation\":\"v\",\"showlegend\":true,\"x\":[\"2021-03-31T00:00:00\",\"2021-04-30T00:00:00\",\"2021-05-31T00:00:00\",\"2021-06-30T00:00:00\",\"2021-07-31T00:00:00\",\"2021-08-31T00:00:00\",\"2021-09-30T00:00:00\",\"2021-10-31T00:00:00\",\"2021-11-30T00:00:00\",\"2021-12-31T00:00:00\",\"2022-01-31T00:00:00\",\"2022-02-28T00:00:00\",\"2022-03-31T00:00:00\",\"2022-04-30T00:00:00\",\"2022-05-31T00:00:00\",\"2022-06-30T00:00:00\",\"2022-07-31T00:00:00\",\"2022-08-31T00:00:00\",\"2022-09-30T00:00:00\",\"2022-10-31T00:00:00\",\"2022-11-30T00:00:00\"],\"xaxis\":\"x\",\"y\":[112.47999999999999,81.91999999999999,67.25999999999999,63.66,70.85,62.38999999999999,79.86999999999999,91.39,112.06,105.0,105.17,87.12,102.38,85.64,91.96,80.8,120.42999999999999,107.96,126.00999999999999,108.45,45.43],\"yaxis\":\"y\",\"type\":\"scatter\"},{\"hovertemplate\":\"color=INSTITUTO ESPA\\u00d1OL agua de colonia gotas frescas bote 750 ml<br>x=%{x}<br>sales=%{y}<extra></extra>\",\"legendgroup\":\"INSTITUTO ESPA\\u00d1OL agua de colonia gotas frescas bote 750 ml\",\"line\":{\"color\":\"#00cc96\",\"dash\":\"solid\"},\"marker\":{\"symbol\":\"circle\"},\"mode\":\"lines\",\"name\":\"INSTITUTO ESPA\\u00d1OL agua de colonia gotas frescas bote 750 ml\",\"orientation\":\"v\",\"showlegend\":true,\"x\":[\"2021-03-31T00:00:00\",\"2021-04-30T00:00:00\",\"2021-05-31T00:00:00\",\"2021-06-30T00:00:00\",\"2021-07-31T00:00:00\",\"2021-08-31T00:00:00\",\"2021-09-30T00:00:00\",\"2021-10-31T00:00:00\",\"2021-11-30T00:00:00\",\"2021-12-31T00:00:00\",\"2022-01-31T00:00:00\",\"2022-02-28T00:00:00\",\"2022-03-31T00:00:00\",\"2022-04-30T00:00:00\",\"2022-05-31T00:00:00\",\"2022-06-30T00:00:00\",\"2022-07-31T00:00:00\",\"2022-08-31T00:00:00\",\"2022-09-30T00:00:00\",\"2022-10-31T00:00:00\",\"2022-11-30T00:00:00\"],\"xaxis\":\"x\",\"y\":[439.93,502.5,502.5,505.8,522.66,522.66,505.8,505.28,505.2,522.04,522.04,473.62,531.34,514.2,531.34,479.92,531.34,531.34,514.2,514.2,274.24],\"yaxis\":\"y\",\"type\":\"scatter\"},{\"hovertemplate\":\"color=SANEX desodorante natur protect roll on 50 ml<br>x=%{x}<br>sales=%{y}<extra></extra>\",\"legendgroup\":\"SANEX desodorante natur protect roll on 50 ml\",\"line\":{\"color\":\"#ab63fa\",\"dash\":\"solid\"},\"marker\":{\"symbol\":\"circle\"},\"mode\":\"lines\",\"name\":\"SANEX desodorante natur protect roll on 50 ml\",\"orientation\":\"v\",\"showlegend\":true,\"x\":[\"2021-03-31T00:00:00\",\"2021-04-30T00:00:00\",\"2021-05-31T00:00:00\",\"2021-06-30T00:00:00\",\"2021-07-31T00:00:00\",\"2021-08-31T00:00:00\",\"2021-09-30T00:00:00\",\"2021-10-31T00:00:00\",\"2021-11-30T00:00:00\",\"2021-12-31T00:00:00\",\"2022-01-31T00:00:00\",\"2022-02-28T00:00:00\",\"2022-03-31T00:00:00\",\"2022-04-30T00:00:00\",\"2022-05-31T00:00:00\",\"2022-06-30T00:00:00\",\"2022-07-31T00:00:00\",\"2022-08-31T00:00:00\",\"2022-09-30T00:00:00\",\"2022-10-31T00:00:00\",\"2022-11-30T00:00:00\"],\"xaxis\":\"x\",\"y\":[169.58,113.88,74.46,74.46,91.98,113.88,131.4,131.4,113.88,127.02,120.45,109.66,124.55000000000001,133.95000000000002,133.95000000000002,129.25,141.0,145.70000000000002,141.0,145.70000000000002,75.2],\"yaxis\":\"y\",\"type\":\"scatter\"},{\"hovertemplate\":\"color=SANEX desodorante natur protect spray 200 ml<br>x=%{x}<br>sales=%{y}<extra></extra>\",\"legendgroup\":\"SANEX desodorante natur protect spray 200 ml\",\"line\":{\"color\":\"#FFA15A\",\"dash\":\"solid\"},\"marker\":{\"symbol\":\"circle\"},\"mode\":\"lines\",\"name\":\"SANEX desodorante natur protect spray 200 ml\",\"orientation\":\"v\",\"showlegend\":true,\"x\":[\"2021-03-31T00:00:00\",\"2021-04-30T00:00:00\",\"2021-05-31T00:00:00\",\"2021-06-30T00:00:00\",\"2021-07-31T00:00:00\",\"2021-08-31T00:00:00\",\"2021-09-30T00:00:00\",\"2021-10-31T00:00:00\",\"2021-11-30T00:00:00\",\"2021-12-31T00:00:00\",\"2022-01-31T00:00:00\",\"2022-02-28T00:00:00\",\"2022-03-31T00:00:00\",\"2022-04-30T00:00:00\",\"2022-05-31T00:00:00\",\"2022-06-30T00:00:00\",\"2022-07-31T00:00:00\",\"2022-08-31T00:00:00\",\"2022-09-30T00:00:00\",\"2022-10-31T00:00:00\",\"2022-11-30T00:00:00\"],\"xaxis\":\"x\",\"y\":[185.12,165.72,111.38000000000001,111.28,115.17,188.46,209.4,202.42000000000002,125.64000000000001,143.09,160.54000000000002,143.29000000000002,147.19,186.68,211.81,193.85999999999999,222.57999999999998,222.57999999999998,215.39999999999998,222.57999999999998,114.88],\"yaxis\":\"y\",\"type\":\"scatter\"}],                        {\"template\":{\"data\":{\"histogram2dcontour\":[{\"type\":\"histogram2dcontour\",\"colorbar\":{\"outlinewidth\":0,\"ticks\":\"\"},\"colorscale\":[[0.0,\"#0d0887\"],[0.1111111111111111,\"#46039f\"],[0.2222222222222222,\"#7201a8\"],[0.3333333333333333,\"#9c179e\"],[0.4444444444444444,\"#bd3786\"],[0.5555555555555556,\"#d8576b\"],[0.6666666666666666,\"#ed7953\"],[0.7777777777777778,\"#fb9f3a\"],[0.8888888888888888,\"#fdca26\"],[1.0,\"#f0f921\"]]}],\"choropleth\":[{\"type\":\"choropleth\",\"colorbar\":{\"outlinewidth\":0,\"ticks\":\"\"}}],\"histogram2d\":[{\"type\":\"histogram2d\",\"colorbar\":{\"outlinewidth\":0,\"ticks\":\"\"},\"colorscale\":[[0.0,\"#0d0887\"],[0.1111111111111111,\"#46039f\"],[0.2222222222222222,\"#7201a8\"],[0.3333333333333333,\"#9c179e\"],[0.4444444444444444,\"#bd3786\"],[0.5555555555555556,\"#d8576b\"],[0.6666666666666666,\"#ed7953\"],[0.7777777777777778,\"#fb9f3a\"],[0.8888888888888888,\"#fdca26\"],[1.0,\"#f0f921\"]]}],\"heatmap\":[{\"type\":\"heatmap\",\"colorbar\":{\"outlinewidth\":0,\"ticks\":\"\"},\"colorscale\":[[0.0,\"#0d0887\"],[0.1111111111111111,\"#46039f\"],[0.2222222222222222,\"#7201a8\"],[0.3333333333333333,\"#9c179e\"],[0.4444444444444444,\"#bd3786\"],[0.5555555555555556,\"#d8576b\"],[0.6666666666666666,\"#ed7953\"],[0.7777777777777778,\"#fb9f3a\"],[0.8888888888888888,\"#fdca26\"],[1.0,\"#f0f921\"]]}],\"heatmapgl\":[{\"type\":\"heatmapgl\",\"colorbar\":{\"outlinewidth\":0,\"ticks\":\"\"},\"colorscale\":[[0.0,\"#0d0887\"],[0.1111111111111111,\"#46039f\"],[0.2222222222222222,\"#7201a8\"],[0.3333333333333333,\"#9c179e\"],[0.4444444444444444,\"#bd3786\"],[0.5555555555555556,\"#d8576b\"],[0.6666666666666666,\"#ed7953\"],[0.7777777777777778,\"#fb9f3a\"],[0.8888888888888888,\"#fdca26\"],[1.0,\"#f0f921\"]]}],\"contourcarpet\":[{\"type\":\"contourcarpet\",\"colorbar\":{\"outlinewidth\":0,\"ticks\":\"\"}}],\"contour\":[{\"type\":\"contour\",\"colorbar\":{\"outlinewidth\":0,\"ticks\":\"\"},\"colorscale\":[[0.0,\"#0d0887\"],[0.1111111111111111,\"#46039f\"],[0.2222222222222222,\"#7201a8\"],[0.3333333333333333,\"#9c179e\"],[0.4444444444444444,\"#bd3786\"],[0.5555555555555556,\"#d8576b\"],[0.6666666666666666,\"#ed7953\"],[0.7777777777777778,\"#fb9f3a\"],[0.8888888888888888,\"#fdca26\"],[1.0,\"#f0f921\"]]}],\"surface\":[{\"type\":\"surface\",\"colorbar\":{\"outlinewidth\":0,\"ticks\":\"\"},\"colorscale\":[[0.0,\"#0d0887\"],[0.1111111111111111,\"#46039f\"],[0.2222222222222222,\"#7201a8\"],[0.3333333333333333,\"#9c179e\"],[0.4444444444444444,\"#bd3786\"],[0.5555555555555556,\"#d8576b\"],[0.6666666666666666,\"#ed7953\"],[0.7777777777777778,\"#fb9f3a\"],[0.8888888888888888,\"#fdca26\"],[1.0,\"#f0f921\"]]}],\"mesh3d\":[{\"type\":\"mesh3d\",\"colorbar\":{\"outlinewidth\":0,\"ticks\":\"\"}}],\"scatter\":[{\"marker\":{\"line\":{\"color\":\"#283442\"}},\"type\":\"scatter\"}],\"parcoords\":[{\"type\":\"parcoords\",\"line\":{\"colorbar\":{\"outlinewidth\":0,\"ticks\":\"\"}}}],\"scatterpolargl\":[{\"type\":\"scatterpolargl\",\"marker\":{\"colorbar\":{\"outlinewidth\":0,\"ticks\":\"\"}}}],\"bar\":[{\"error_x\":{\"color\":\"#f2f5fa\"},\"error_y\":{\"color\":\"#f2f5fa\"},\"marker\":{\"line\":{\"color\":\"rgb(17,17,17)\",\"width\":0.5},\"pattern\":{\"fillmode\":\"overlay\",\"size\":10,\"solidity\":0.2}},\"type\":\"bar\"}],\"scattergeo\":[{\"type\":\"scattergeo\",\"marker\":{\"colorbar\":{\"outlinewidth\":0,\"ticks\":\"\"}}}],\"scatterpolar\":[{\"type\":\"scatterpolar\",\"marker\":{\"colorbar\":{\"outlinewidth\":0,\"ticks\":\"\"}}}],\"histogram\":[{\"marker\":{\"pattern\":{\"fillmode\":\"overlay\",\"size\":10,\"solidity\":0.2}},\"type\":\"histogram\"}],\"scattergl\":[{\"marker\":{\"line\":{\"color\":\"#283442\"}},\"type\":\"scattergl\"}],\"scatter3d\":[{\"type\":\"scatter3d\",\"line\":{\"colorbar\":{\"outlinewidth\":0,\"ticks\":\"\"}},\"marker\":{\"colorbar\":{\"outlinewidth\":0,\"ticks\":\"\"}}}],\"scattermapbox\":[{\"type\":\"scattermapbox\",\"marker\":{\"colorbar\":{\"outlinewidth\":0,\"ticks\":\"\"}}}],\"scatterternary\":[{\"type\":\"scatterternary\",\"marker\":{\"colorbar\":{\"outlinewidth\":0,\"ticks\":\"\"}}}],\"scattercarpet\":[{\"type\":\"scattercarpet\",\"marker\":{\"colorbar\":{\"outlinewidth\":0,\"ticks\":\"\"}}}],\"carpet\":[{\"aaxis\":{\"endlinecolor\":\"#A2B1C6\",\"gridcolor\":\"#506784\",\"linecolor\":\"#506784\",\"minorgridcolor\":\"#506784\",\"startlinecolor\":\"#A2B1C6\"},\"baxis\":{\"endlinecolor\":\"#A2B1C6\",\"gridcolor\":\"#506784\",\"linecolor\":\"#506784\",\"minorgridcolor\":\"#506784\",\"startlinecolor\":\"#A2B1C6\"},\"type\":\"carpet\"}],\"table\":[{\"cells\":{\"fill\":{\"color\":\"#506784\"},\"line\":{\"color\":\"rgb(17,17,17)\"}},\"header\":{\"fill\":{\"color\":\"#2a3f5f\"},\"line\":{\"color\":\"rgb(17,17,17)\"}},\"type\":\"table\"}],\"barpolar\":[{\"marker\":{\"line\":{\"color\":\"rgb(17,17,17)\",\"width\":0.5},\"pattern\":{\"fillmode\":\"overlay\",\"size\":10,\"solidity\":0.2}},\"type\":\"barpolar\"}],\"pie\":[{\"automargin\":true,\"type\":\"pie\"}]},\"layout\":{\"autotypenumbers\":\"strict\",\"colorway\":[\"#636efa\",\"#EF553B\",\"#00cc96\",\"#ab63fa\",\"#FFA15A\",\"#19d3f3\",\"#FF6692\",\"#B6E880\",\"#FF97FF\",\"#FECB52\"],\"font\":{\"color\":\"#f2f5fa\"},\"hovermode\":\"closest\",\"hoverlabel\":{\"align\":\"left\"},\"paper_bgcolor\":\"rgb(17,17,17)\",\"plot_bgcolor\":\"rgb(17,17,17)\",\"polar\":{\"bgcolor\":\"rgb(17,17,17)\",\"angularaxis\":{\"gridcolor\":\"#506784\",\"linecolor\":\"#506784\",\"ticks\":\"\"},\"radialaxis\":{\"gridcolor\":\"#506784\",\"linecolor\":\"#506784\",\"ticks\":\"\"}},\"ternary\":{\"bgcolor\":\"rgb(17,17,17)\",\"aaxis\":{\"gridcolor\":\"#506784\",\"linecolor\":\"#506784\",\"ticks\":\"\"},\"baxis\":{\"gridcolor\":\"#506784\",\"linecolor\":\"#506784\",\"ticks\":\"\"},\"caxis\":{\"gridcolor\":\"#506784\",\"linecolor\":\"#506784\",\"ticks\":\"\"}},\"coloraxis\":{\"colorbar\":{\"outlinewidth\":0,\"ticks\":\"\"}},\"colorscale\":{\"sequential\":[[0.0,\"#0d0887\"],[0.1111111111111111,\"#46039f\"],[0.2222222222222222,\"#7201a8\"],[0.3333333333333333,\"#9c179e\"],[0.4444444444444444,\"#bd3786\"],[0.5555555555555556,\"#d8576b\"],[0.6666666666666666,\"#ed7953\"],[0.7777777777777778,\"#fb9f3a\"],[0.8888888888888888,\"#fdca26\"],[1.0,\"#f0f921\"]],\"sequentialminus\":[[0.0,\"#0d0887\"],[0.1111111111111111,\"#46039f\"],[0.2222222222222222,\"#7201a8\"],[0.3333333333333333,\"#9c179e\"],[0.4444444444444444,\"#bd3786\"],[0.5555555555555556,\"#d8576b\"],[0.6666666666666666,\"#ed7953\"],[0.7777777777777778,\"#fb9f3a\"],[0.8888888888888888,\"#fdca26\"],[1.0,\"#f0f921\"]],\"diverging\":[[0,\"#8e0152\"],[0.1,\"#c51b7d\"],[0.2,\"#de77ae\"],[0.3,\"#f1b6da\"],[0.4,\"#fde0ef\"],[0.5,\"#f7f7f7\"],[0.6,\"#e6f5d0\"],[0.7,\"#b8e186\"],[0.8,\"#7fbc41\"],[0.9,\"#4d9221\"],[1,\"#276419\"]]},\"xaxis\":{\"gridcolor\":\"#283442\",\"linecolor\":\"#506784\",\"ticks\":\"\",\"title\":{\"standoff\":15},\"zerolinecolor\":\"#283442\",\"automargin\":true,\"zerolinewidth\":2},\"yaxis\":{\"gridcolor\":\"#283442\",\"linecolor\":\"#506784\",\"ticks\":\"\",\"title\":{\"standoff\":15},\"zerolinecolor\":\"#283442\",\"automargin\":true,\"zerolinewidth\":2},\"scene\":{\"xaxis\":{\"backgroundcolor\":\"rgb(17,17,17)\",\"gridcolor\":\"#506784\",\"linecolor\":\"#506784\",\"showbackground\":true,\"ticks\":\"\",\"zerolinecolor\":\"#C8D4E3\",\"gridwidth\":2},\"yaxis\":{\"backgroundcolor\":\"rgb(17,17,17)\",\"gridcolor\":\"#506784\",\"linecolor\":\"#506784\",\"showbackground\":true,\"ticks\":\"\",\"zerolinecolor\":\"#C8D4E3\",\"gridwidth\":2},\"zaxis\":{\"backgroundcolor\":\"rgb(17,17,17)\",\"gridcolor\":\"#506784\",\"linecolor\":\"#506784\",\"showbackground\":true,\"ticks\":\"\",\"zerolinecolor\":\"#C8D4E3\",\"gridwidth\":2}},\"shapedefaults\":{\"line\":{\"color\":\"#f2f5fa\"}},\"annotationdefaults\":{\"arrowcolor\":\"#f2f5fa\",\"arrowhead\":0,\"arrowwidth\":1},\"geo\":{\"bgcolor\":\"rgb(17,17,17)\",\"landcolor\":\"rgb(17,17,17)\",\"subunitcolor\":\"#506784\",\"showland\":true,\"showlakes\":true,\"lakecolor\":\"rgb(17,17,17)\"},\"title\":{\"x\":0.05},\"updatemenudefaults\":{\"bgcolor\":\"#506784\",\"borderwidth\":0},\"sliderdefaults\":{\"bgcolor\":\"#C8D4E3\",\"borderwidth\":1,\"bordercolor\":\"rgb(17,17,17)\",\"tickwidth\":0},\"mapbox\":{\"style\":\"dark\"}}},\"xaxis\":{\"anchor\":\"y\",\"domain\":[0.0,1.0],\"title\":{},\"dtick\":\"M1\",\"tickformat\":\"%b\\n%Y\"},\"yaxis\":{\"anchor\":\"x\",\"domain\":[0.0,1.0],\"title\":{\"text\":\"Sales (\\u20ac)\"}},\"legend\":{\"title\":{\"text\":\"Items\"},\"tracegroupgap\":0,\"font\":{\"size\":8},\"yanchor\":\"top\",\"y\":1.55,\"xanchor\":\"left\",\"x\":0.01},\"margin\":{\"t\":60},\"title\":{\"text\":\"Dia monthly sales\",\"y\":0.95,\"x\":0.53,\"xanchor\":\"center\",\"yanchor\":\"top\"},\"showlegend\":true},                        {\"responsive\": true}                    ).then(function(){\n                            \nvar gd = document.getElementById('c265b619-370b-47f7-8e63-4bf79691f927');\nvar x = new MutationObserver(function (mutations, observer) {{\n        var display = window.getComputedStyle(gd).display;\n        if (!display || display === 'none') {{\n            console.log([gd, 'removed!']);\n            Plotly.purge(gd);\n            observer.disconnect();\n        }}\n}});\n\n// Listen for the removal of the full notebook cells\nvar notebookContainer = gd.closest('#notebook-container');\nif (notebookContainer) {{\n    x.observe(notebookContainer, {childList: true});\n}}\n\n// Listen for the clearing of the current output cell\nvar outputEl = gd.closest('.output');\nif (outputEl) {{\n    x.observe(outputEl, {childList: true});\n}}\n\n                        })                };                });            </script>        </div>"
     },
     "metadata": {},
     "output_type": "display_data"
    }
   ],
   "source": [
    "df = px.data.stocks()\n",
    "fig= px.line(Dia5_oct1, x=Dia5_oct1.index.get_level_values(0), y='sales', color=Dia5_oct1.index.get_level_values(1))\n",
    "fig.update_xaxes(dtick='M1', tickformat = '%b\\n%Y')\n",
    "fig.update_layout(showlegend= True,\n",
    "                  xaxis_title= None, yaxis_title=\"Sales (€)\",\n",
    "                  title={\n",
    "        'text': 'Dia monthly sales',\n",
    "        'y':0.95,\n",
    "        'x':0.53,\n",
    "        'xanchor': 'center',\n",
    "        'yanchor': 'top'},\n",
    "    legend=dict(\n",
    "    yanchor=\"top\", y=1.55,\n",
    "    xanchor=\"left\", x=0.01,\n",
    "    title = 'Items',\n",
    "    font=dict(size=8)\n",
    "))\n",
    "fig.show()\n",
    "#fig.write_html(\"data/Dia_month_sales.html\")"
   ],
   "metadata": {
    "collapsed": false
   }
  },
  {
   "cell_type": "markdown",
   "source": [
    "Mercadona monthly sales evolution"
   ],
   "metadata": {
    "collapsed": false
   }
  },
  {
   "cell_type": "code",
   "execution_count": 84,
   "outputs": [
    {
     "data": {
      "text/plain": "                                               sales  unit\nmonthly_sales name                                        \n2021-03-31    Cerveza Clásica Steinburg       422.55   243\n              Cerveza Especial Steinburg      387.18   189\n              Refresco Coca-Cola              539.40   189\n              Refresco Coca-Cola Zero azúcar  503.28   162\n              Refresco cola Hacendado         139.05   135\n...                                              ...   ...\n2022-11-30    Cerveza Clásica Steinburg       288.16   144\n              Cerveza Especial Steinburg      230.88    96\n              Refresco Coca-Cola              349.30   112\n              Refresco Coca-Cola Zero azúcar  349.30   112\n              Refresco cola Hacendado          99.18    80\n\n[105 rows x 2 columns]",
      "text/html": "<div>\n<style scoped>\n    .dataframe tbody tr th:only-of-type {\n        vertical-align: middle;\n    }\n\n    .dataframe tbody tr th {\n        vertical-align: top;\n    }\n\n    .dataframe thead th {\n        text-align: right;\n    }\n</style>\n<table border=\"1\" class=\"dataframe\">\n  <thead>\n    <tr style=\"text-align: right;\">\n      <th></th>\n      <th></th>\n      <th>sales</th>\n      <th>unit</th>\n    </tr>\n    <tr>\n      <th>monthly_sales</th>\n      <th>name</th>\n      <th></th>\n      <th></th>\n    </tr>\n  </thead>\n  <tbody>\n    <tr>\n      <th rowspan=\"5\" valign=\"top\">2021-03-31</th>\n      <th>Cerveza Clásica Steinburg</th>\n      <td>422.55</td>\n      <td>243</td>\n    </tr>\n    <tr>\n      <th>Cerveza Especial Steinburg</th>\n      <td>387.18</td>\n      <td>189</td>\n    </tr>\n    <tr>\n      <th>Refresco Coca-Cola</th>\n      <td>539.40</td>\n      <td>189</td>\n    </tr>\n    <tr>\n      <th>Refresco Coca-Cola Zero azúcar</th>\n      <td>503.28</td>\n      <td>162</td>\n    </tr>\n    <tr>\n      <th>Refresco cola Hacendado</th>\n      <td>139.05</td>\n      <td>135</td>\n    </tr>\n    <tr>\n      <th>...</th>\n      <th>...</th>\n      <td>...</td>\n      <td>...</td>\n    </tr>\n    <tr>\n      <th rowspan=\"5\" valign=\"top\">2022-11-30</th>\n      <th>Cerveza Clásica Steinburg</th>\n      <td>288.16</td>\n      <td>144</td>\n    </tr>\n    <tr>\n      <th>Cerveza Especial Steinburg</th>\n      <td>230.88</td>\n      <td>96</td>\n    </tr>\n    <tr>\n      <th>Refresco Coca-Cola</th>\n      <td>349.30</td>\n      <td>112</td>\n    </tr>\n    <tr>\n      <th>Refresco Coca-Cola Zero azúcar</th>\n      <td>349.30</td>\n      <td>112</td>\n    </tr>\n    <tr>\n      <th>Refresco cola Hacendado</th>\n      <td>99.18</td>\n      <td>80</td>\n    </tr>\n  </tbody>\n</table>\n<p>105 rows × 2 columns</p>\n</div>"
     },
     "execution_count": 84,
     "metadata": {},
     "output_type": "execute_result"
    }
   ],
   "source": [
    "Merca5_oct = Merca5.copy()\n",
    "Merca5_oct = Merca5_oct.set_index(\"daily_sales\")\n",
    "Merca5_oct = Merca5_oct.rename_axis(\"monthly_sales\")\n",
    "Merca5_oct1 = Merca5_oct.groupby([pd.Grouper(freq='M'), 'name']).sum()\n",
    "Merca5_oct1 = Merca5_oct1.rename(columns={'price': 'sales'})\n",
    "Merca5_oct1"
   ],
   "metadata": {
    "collapsed": false
   }
  },
  {
   "cell_type": "code",
   "execution_count": 85,
   "outputs": [
    {
     "data": {
      "application/vnd.plotly.v1+json": {
       "data": [
        {
         "hovertemplate": "color=Cerveza Clásica Steinburg<br>x=%{x}<br>sales=%{y}<extra></extra>",
         "legendgroup": "Cerveza Clásica Steinburg",
         "line": {
          "color": "#636efa",
          "dash": "solid"
         },
         "marker": {
          "symbol": "circle"
         },
         "mode": "lines",
         "name": "Cerveza Clásica Steinburg",
         "orientation": "v",
         "showlegend": true,
         "x": [
          "2021-03-31T00:00:00",
          "2021-04-30T00:00:00",
          "2021-05-31T00:00:00",
          "2021-06-30T00:00:00",
          "2021-07-31T00:00:00",
          "2021-08-31T00:00:00",
          "2021-09-30T00:00:00",
          "2021-10-31T00:00:00",
          "2021-11-30T00:00:00",
          "2021-12-31T00:00:00",
          "2022-01-31T00:00:00",
          "2022-02-28T00:00:00",
          "2022-03-31T00:00:00",
          "2022-04-30T00:00:00",
          "2022-05-31T00:00:00",
          "2022-06-30T00:00:00",
          "2022-07-31T00:00:00",
          "2022-08-31T00:00:00",
          "2022-09-30T00:00:00",
          "2022-10-31T00:00:00",
          "2022-11-30T00:00:00"
         ],
         "xaxis": "x",
         "y": [
          422.55,
          469.5,
          485.15,
          469.5,
          485.15,
          485.15,
          469.5,
          485.15,
          469.5,
          489.65,
          495.49,
          474.87,
          528.55,
          511.5,
          529.72,
          515.4,
          532.58,
          532.58,
          445.0,
          533.62,
          288.15999999999997
         ],
         "yaxis": "y",
         "type": "scatter"
        },
        {
         "hovertemplate": "color=Cerveza Especial Steinburg<br>x=%{x}<br>sales=%{y}<extra></extra>",
         "legendgroup": "Cerveza Especial Steinburg",
         "line": {
          "color": "#EF553B",
          "dash": "solid"
         },
         "marker": {
          "symbol": "circle"
         },
         "mode": "lines",
         "name": "Cerveza Especial Steinburg",
         "orientation": "v",
         "showlegend": true,
         "x": [
          "2021-03-31T00:00:00",
          "2021-04-30T00:00:00",
          "2021-05-31T00:00:00",
          "2021-06-30T00:00:00",
          "2021-07-31T00:00:00",
          "2021-08-31T00:00:00",
          "2021-09-30T00:00:00",
          "2021-10-31T00:00:00",
          "2021-11-30T00:00:00",
          "2021-12-31T00:00:00",
          "2022-01-31T00:00:00",
          "2022-02-28T00:00:00",
          "2022-03-31T00:00:00",
          "2022-04-30T00:00:00",
          "2022-05-31T00:00:00",
          "2022-06-30T00:00:00",
          "2022-07-31T00:00:00",
          "2022-08-31T00:00:00",
          "2022-09-30T00:00:00",
          "2022-10-31T00:00:00",
          "2022-11-30T00:00:00"
         ],
         "xaxis": "x",
         "y": [
          387.18,
          430.2,
          444.54,
          430.2,
          444.54,
          444.53999999999996,
          430.2,
          444.54,
          430.2,
          444.54,
          446.1,
          412.91,
          431.47,
          425.1,
          441.61,
          429.06,
          447.33000000000004,
          443.17,
          411.06,
          447.33000000000004,
          230.88
         ],
         "yaxis": "y",
         "type": "scatter"
        },
        {
         "hovertemplate": "color=Refresco Coca-Cola<br>x=%{x}<br>sales=%{y}<extra></extra>",
         "legendgroup": "Refresco Coca-Cola",
         "line": {
          "color": "#00cc96",
          "dash": "solid"
         },
         "marker": {
          "symbol": "circle"
         },
         "mode": "lines",
         "name": "Refresco Coca-Cola",
         "orientation": "v",
         "showlegend": true,
         "x": [
          "2021-03-31T00:00:00",
          "2021-04-30T00:00:00",
          "2021-05-31T00:00:00",
          "2021-06-30T00:00:00",
          "2021-07-31T00:00:00",
          "2021-08-31T00:00:00",
          "2021-09-30T00:00:00",
          "2021-10-31T00:00:00",
          "2021-11-30T00:00:00",
          "2021-12-31T00:00:00",
          "2022-01-31T00:00:00",
          "2022-02-28T00:00:00",
          "2022-03-31T00:00:00",
          "2022-04-30T00:00:00",
          "2022-05-31T00:00:00",
          "2022-06-30T00:00:00",
          "2022-07-31T00:00:00",
          "2022-08-31T00:00:00",
          "2022-09-30T00:00:00",
          "2022-10-31T00:00:00",
          "2022-11-30T00:00:00"
         ],
         "xaxis": "x",
         "y": [
          539.4,
          594.9,
          614.82,
          611.88,
          620.72,
          628.06,
          620.76,
          650.3,
          626.37,
          623.9399999999999,
          651.83,
          596.78,
          676.11,
          637.3,
          670.37,
          630.15,
          649.38,
          669.54,
          655.68,
          689.47,
          349.3
         ],
         "yaxis": "y",
         "type": "scatter"
        },
        {
         "hovertemplate": "color=Refresco Coca-Cola Zero azúcar<br>x=%{x}<br>sales=%{y}<extra></extra>",
         "legendgroup": "Refresco Coca-Cola Zero azúcar",
         "line": {
          "color": "#ab63fa",
          "dash": "solid"
         },
         "marker": {
          "symbol": "circle"
         },
         "mode": "lines",
         "name": "Refresco Coca-Cola Zero azúcar",
         "orientation": "v",
         "showlegend": true,
         "x": [
          "2021-03-31T00:00:00",
          "2021-04-30T00:00:00",
          "2021-05-31T00:00:00",
          "2021-06-30T00:00:00",
          "2021-07-31T00:00:00",
          "2021-08-31T00:00:00",
          "2021-09-30T00:00:00",
          "2021-10-31T00:00:00",
          "2021-11-30T00:00:00",
          "2021-12-31T00:00:00",
          "2022-01-31T00:00:00",
          "2022-02-28T00:00:00",
          "2022-03-31T00:00:00",
          "2022-04-30T00:00:00",
          "2022-05-31T00:00:00",
          "2022-06-30T00:00:00",
          "2022-07-31T00:00:00",
          "2022-08-31T00:00:00",
          "2022-09-30T00:00:00",
          "2022-10-31T00:00:00",
          "2022-11-30T00:00:00"
         ],
         "xaxis": "x",
         "y": [
          503.28,
          559.2,
          578.12,
          586.64,
          589.84,
          628.06,
          620.76,
          637.7,
          618.81,
          623.9399999999999,
          651.83,
          596.78,
          676.11,
          637.3,
          670.37,
          630.15,
          649.38,
          669.54,
          655.68,
          689.47,
          349.3
         ],
         "yaxis": "y",
         "type": "scatter"
        },
        {
         "hovertemplate": "color=Refresco cola Hacendado<br>x=%{x}<br>sales=%{y}<extra></extra>",
         "legendgroup": "Refresco cola Hacendado",
         "line": {
          "color": "#FFA15A",
          "dash": "solid"
         },
         "marker": {
          "symbol": "circle"
         },
         "mode": "lines",
         "name": "Refresco cola Hacendado",
         "orientation": "v",
         "showlegend": true,
         "x": [
          "2021-03-31T00:00:00",
          "2021-04-30T00:00:00",
          "2021-05-31T00:00:00",
          "2021-06-30T00:00:00",
          "2021-07-31T00:00:00",
          "2021-08-31T00:00:00",
          "2021-09-30T00:00:00",
          "2021-10-31T00:00:00",
          "2021-11-30T00:00:00",
          "2021-12-31T00:00:00",
          "2022-01-31T00:00:00",
          "2022-02-28T00:00:00",
          "2022-03-31T00:00:00",
          "2022-04-30T00:00:00",
          "2022-05-31T00:00:00",
          "2022-06-30T00:00:00",
          "2022-07-31T00:00:00",
          "2022-08-31T00:00:00",
          "2022-09-30T00:00:00",
          "2022-10-31T00:00:00",
          "2022-11-30T00:00:00"
         ],
         "xaxis": "x",
         "y": [
          139.05,
          154.5,
          159.65,
          154.16,
          159.03,
          159.03,
          153.9,
          159.03,
          153.9,
          159.03,
          159.03,
          143.64,
          159.03,
          153.9,
          175.13,
          173.70000000000002,
          179.43,
          177.63,
          171.9,
          180.88,
          99.18
         ],
         "yaxis": "y",
         "type": "scatter"
        }
       ],
       "layout": {
        "template": {
         "data": {
          "histogram2dcontour": [
           {
            "type": "histogram2dcontour",
            "colorbar": {
             "outlinewidth": 0,
             "ticks": ""
            },
            "colorscale": [
             [
              0.0,
              "#0d0887"
             ],
             [
              0.1111111111111111,
              "#46039f"
             ],
             [
              0.2222222222222222,
              "#7201a8"
             ],
             [
              0.3333333333333333,
              "#9c179e"
             ],
             [
              0.4444444444444444,
              "#bd3786"
             ],
             [
              0.5555555555555556,
              "#d8576b"
             ],
             [
              0.6666666666666666,
              "#ed7953"
             ],
             [
              0.7777777777777778,
              "#fb9f3a"
             ],
             [
              0.8888888888888888,
              "#fdca26"
             ],
             [
              1.0,
              "#f0f921"
             ]
            ]
           }
          ],
          "choropleth": [
           {
            "type": "choropleth",
            "colorbar": {
             "outlinewidth": 0,
             "ticks": ""
            }
           }
          ],
          "histogram2d": [
           {
            "type": "histogram2d",
            "colorbar": {
             "outlinewidth": 0,
             "ticks": ""
            },
            "colorscale": [
             [
              0.0,
              "#0d0887"
             ],
             [
              0.1111111111111111,
              "#46039f"
             ],
             [
              0.2222222222222222,
              "#7201a8"
             ],
             [
              0.3333333333333333,
              "#9c179e"
             ],
             [
              0.4444444444444444,
              "#bd3786"
             ],
             [
              0.5555555555555556,
              "#d8576b"
             ],
             [
              0.6666666666666666,
              "#ed7953"
             ],
             [
              0.7777777777777778,
              "#fb9f3a"
             ],
             [
              0.8888888888888888,
              "#fdca26"
             ],
             [
              1.0,
              "#f0f921"
             ]
            ]
           }
          ],
          "heatmap": [
           {
            "type": "heatmap",
            "colorbar": {
             "outlinewidth": 0,
             "ticks": ""
            },
            "colorscale": [
             [
              0.0,
              "#0d0887"
             ],
             [
              0.1111111111111111,
              "#46039f"
             ],
             [
              0.2222222222222222,
              "#7201a8"
             ],
             [
              0.3333333333333333,
              "#9c179e"
             ],
             [
              0.4444444444444444,
              "#bd3786"
             ],
             [
              0.5555555555555556,
              "#d8576b"
             ],
             [
              0.6666666666666666,
              "#ed7953"
             ],
             [
              0.7777777777777778,
              "#fb9f3a"
             ],
             [
              0.8888888888888888,
              "#fdca26"
             ],
             [
              1.0,
              "#f0f921"
             ]
            ]
           }
          ],
          "heatmapgl": [
           {
            "type": "heatmapgl",
            "colorbar": {
             "outlinewidth": 0,
             "ticks": ""
            },
            "colorscale": [
             [
              0.0,
              "#0d0887"
             ],
             [
              0.1111111111111111,
              "#46039f"
             ],
             [
              0.2222222222222222,
              "#7201a8"
             ],
             [
              0.3333333333333333,
              "#9c179e"
             ],
             [
              0.4444444444444444,
              "#bd3786"
             ],
             [
              0.5555555555555556,
              "#d8576b"
             ],
             [
              0.6666666666666666,
              "#ed7953"
             ],
             [
              0.7777777777777778,
              "#fb9f3a"
             ],
             [
              0.8888888888888888,
              "#fdca26"
             ],
             [
              1.0,
              "#f0f921"
             ]
            ]
           }
          ],
          "contourcarpet": [
           {
            "type": "contourcarpet",
            "colorbar": {
             "outlinewidth": 0,
             "ticks": ""
            }
           }
          ],
          "contour": [
           {
            "type": "contour",
            "colorbar": {
             "outlinewidth": 0,
             "ticks": ""
            },
            "colorscale": [
             [
              0.0,
              "#0d0887"
             ],
             [
              0.1111111111111111,
              "#46039f"
             ],
             [
              0.2222222222222222,
              "#7201a8"
             ],
             [
              0.3333333333333333,
              "#9c179e"
             ],
             [
              0.4444444444444444,
              "#bd3786"
             ],
             [
              0.5555555555555556,
              "#d8576b"
             ],
             [
              0.6666666666666666,
              "#ed7953"
             ],
             [
              0.7777777777777778,
              "#fb9f3a"
             ],
             [
              0.8888888888888888,
              "#fdca26"
             ],
             [
              1.0,
              "#f0f921"
             ]
            ]
           }
          ],
          "surface": [
           {
            "type": "surface",
            "colorbar": {
             "outlinewidth": 0,
             "ticks": ""
            },
            "colorscale": [
             [
              0.0,
              "#0d0887"
             ],
             [
              0.1111111111111111,
              "#46039f"
             ],
             [
              0.2222222222222222,
              "#7201a8"
             ],
             [
              0.3333333333333333,
              "#9c179e"
             ],
             [
              0.4444444444444444,
              "#bd3786"
             ],
             [
              0.5555555555555556,
              "#d8576b"
             ],
             [
              0.6666666666666666,
              "#ed7953"
             ],
             [
              0.7777777777777778,
              "#fb9f3a"
             ],
             [
              0.8888888888888888,
              "#fdca26"
             ],
             [
              1.0,
              "#f0f921"
             ]
            ]
           }
          ],
          "mesh3d": [
           {
            "type": "mesh3d",
            "colorbar": {
             "outlinewidth": 0,
             "ticks": ""
            }
           }
          ],
          "scatter": [
           {
            "marker": {
             "line": {
              "color": "#283442"
             }
            },
            "type": "scatter"
           }
          ],
          "parcoords": [
           {
            "type": "parcoords",
            "line": {
             "colorbar": {
              "outlinewidth": 0,
              "ticks": ""
             }
            }
           }
          ],
          "scatterpolargl": [
           {
            "type": "scatterpolargl",
            "marker": {
             "colorbar": {
              "outlinewidth": 0,
              "ticks": ""
             }
            }
           }
          ],
          "bar": [
           {
            "error_x": {
             "color": "#f2f5fa"
            },
            "error_y": {
             "color": "#f2f5fa"
            },
            "marker": {
             "line": {
              "color": "rgb(17,17,17)",
              "width": 0.5
             },
             "pattern": {
              "fillmode": "overlay",
              "size": 10,
              "solidity": 0.2
             }
            },
            "type": "bar"
           }
          ],
          "scattergeo": [
           {
            "type": "scattergeo",
            "marker": {
             "colorbar": {
              "outlinewidth": 0,
              "ticks": ""
             }
            }
           }
          ],
          "scatterpolar": [
           {
            "type": "scatterpolar",
            "marker": {
             "colorbar": {
              "outlinewidth": 0,
              "ticks": ""
             }
            }
           }
          ],
          "histogram": [
           {
            "marker": {
             "pattern": {
              "fillmode": "overlay",
              "size": 10,
              "solidity": 0.2
             }
            },
            "type": "histogram"
           }
          ],
          "scattergl": [
           {
            "marker": {
             "line": {
              "color": "#283442"
             }
            },
            "type": "scattergl"
           }
          ],
          "scatter3d": [
           {
            "type": "scatter3d",
            "line": {
             "colorbar": {
              "outlinewidth": 0,
              "ticks": ""
             }
            },
            "marker": {
             "colorbar": {
              "outlinewidth": 0,
              "ticks": ""
             }
            }
           }
          ],
          "scattermapbox": [
           {
            "type": "scattermapbox",
            "marker": {
             "colorbar": {
              "outlinewidth": 0,
              "ticks": ""
             }
            }
           }
          ],
          "scatterternary": [
           {
            "type": "scatterternary",
            "marker": {
             "colorbar": {
              "outlinewidth": 0,
              "ticks": ""
             }
            }
           }
          ],
          "scattercarpet": [
           {
            "type": "scattercarpet",
            "marker": {
             "colorbar": {
              "outlinewidth": 0,
              "ticks": ""
             }
            }
           }
          ],
          "carpet": [
           {
            "aaxis": {
             "endlinecolor": "#A2B1C6",
             "gridcolor": "#506784",
             "linecolor": "#506784",
             "minorgridcolor": "#506784",
             "startlinecolor": "#A2B1C6"
            },
            "baxis": {
             "endlinecolor": "#A2B1C6",
             "gridcolor": "#506784",
             "linecolor": "#506784",
             "minorgridcolor": "#506784",
             "startlinecolor": "#A2B1C6"
            },
            "type": "carpet"
           }
          ],
          "table": [
           {
            "cells": {
             "fill": {
              "color": "#506784"
             },
             "line": {
              "color": "rgb(17,17,17)"
             }
            },
            "header": {
             "fill": {
              "color": "#2a3f5f"
             },
             "line": {
              "color": "rgb(17,17,17)"
             }
            },
            "type": "table"
           }
          ],
          "barpolar": [
           {
            "marker": {
             "line": {
              "color": "rgb(17,17,17)",
              "width": 0.5
             },
             "pattern": {
              "fillmode": "overlay",
              "size": 10,
              "solidity": 0.2
             }
            },
            "type": "barpolar"
           }
          ],
          "pie": [
           {
            "automargin": true,
            "type": "pie"
           }
          ]
         },
         "layout": {
          "autotypenumbers": "strict",
          "colorway": [
           "#636efa",
           "#EF553B",
           "#00cc96",
           "#ab63fa",
           "#FFA15A",
           "#19d3f3",
           "#FF6692",
           "#B6E880",
           "#FF97FF",
           "#FECB52"
          ],
          "font": {
           "color": "#f2f5fa"
          },
          "hovermode": "closest",
          "hoverlabel": {
           "align": "left"
          },
          "paper_bgcolor": "rgb(17,17,17)",
          "plot_bgcolor": "rgb(17,17,17)",
          "polar": {
           "bgcolor": "rgb(17,17,17)",
           "angularaxis": {
            "gridcolor": "#506784",
            "linecolor": "#506784",
            "ticks": ""
           },
           "radialaxis": {
            "gridcolor": "#506784",
            "linecolor": "#506784",
            "ticks": ""
           }
          },
          "ternary": {
           "bgcolor": "rgb(17,17,17)",
           "aaxis": {
            "gridcolor": "#506784",
            "linecolor": "#506784",
            "ticks": ""
           },
           "baxis": {
            "gridcolor": "#506784",
            "linecolor": "#506784",
            "ticks": ""
           },
           "caxis": {
            "gridcolor": "#506784",
            "linecolor": "#506784",
            "ticks": ""
           }
          },
          "coloraxis": {
           "colorbar": {
            "outlinewidth": 0,
            "ticks": ""
           }
          },
          "colorscale": {
           "sequential": [
            [
             0.0,
             "#0d0887"
            ],
            [
             0.1111111111111111,
             "#46039f"
            ],
            [
             0.2222222222222222,
             "#7201a8"
            ],
            [
             0.3333333333333333,
             "#9c179e"
            ],
            [
             0.4444444444444444,
             "#bd3786"
            ],
            [
             0.5555555555555556,
             "#d8576b"
            ],
            [
             0.6666666666666666,
             "#ed7953"
            ],
            [
             0.7777777777777778,
             "#fb9f3a"
            ],
            [
             0.8888888888888888,
             "#fdca26"
            ],
            [
             1.0,
             "#f0f921"
            ]
           ],
           "sequentialminus": [
            [
             0.0,
             "#0d0887"
            ],
            [
             0.1111111111111111,
             "#46039f"
            ],
            [
             0.2222222222222222,
             "#7201a8"
            ],
            [
             0.3333333333333333,
             "#9c179e"
            ],
            [
             0.4444444444444444,
             "#bd3786"
            ],
            [
             0.5555555555555556,
             "#d8576b"
            ],
            [
             0.6666666666666666,
             "#ed7953"
            ],
            [
             0.7777777777777778,
             "#fb9f3a"
            ],
            [
             0.8888888888888888,
             "#fdca26"
            ],
            [
             1.0,
             "#f0f921"
            ]
           ],
           "diverging": [
            [
             0,
             "#8e0152"
            ],
            [
             0.1,
             "#c51b7d"
            ],
            [
             0.2,
             "#de77ae"
            ],
            [
             0.3,
             "#f1b6da"
            ],
            [
             0.4,
             "#fde0ef"
            ],
            [
             0.5,
             "#f7f7f7"
            ],
            [
             0.6,
             "#e6f5d0"
            ],
            [
             0.7,
             "#b8e186"
            ],
            [
             0.8,
             "#7fbc41"
            ],
            [
             0.9,
             "#4d9221"
            ],
            [
             1,
             "#276419"
            ]
           ]
          },
          "xaxis": {
           "gridcolor": "#283442",
           "linecolor": "#506784",
           "ticks": "",
           "title": {
            "standoff": 15
           },
           "zerolinecolor": "#283442",
           "automargin": true,
           "zerolinewidth": 2
          },
          "yaxis": {
           "gridcolor": "#283442",
           "linecolor": "#506784",
           "ticks": "",
           "title": {
            "standoff": 15
           },
           "zerolinecolor": "#283442",
           "automargin": true,
           "zerolinewidth": 2
          },
          "scene": {
           "xaxis": {
            "backgroundcolor": "rgb(17,17,17)",
            "gridcolor": "#506784",
            "linecolor": "#506784",
            "showbackground": true,
            "ticks": "",
            "zerolinecolor": "#C8D4E3",
            "gridwidth": 2
           },
           "yaxis": {
            "backgroundcolor": "rgb(17,17,17)",
            "gridcolor": "#506784",
            "linecolor": "#506784",
            "showbackground": true,
            "ticks": "",
            "zerolinecolor": "#C8D4E3",
            "gridwidth": 2
           },
           "zaxis": {
            "backgroundcolor": "rgb(17,17,17)",
            "gridcolor": "#506784",
            "linecolor": "#506784",
            "showbackground": true,
            "ticks": "",
            "zerolinecolor": "#C8D4E3",
            "gridwidth": 2
           }
          },
          "shapedefaults": {
           "line": {
            "color": "#f2f5fa"
           }
          },
          "annotationdefaults": {
           "arrowcolor": "#f2f5fa",
           "arrowhead": 0,
           "arrowwidth": 1
          },
          "geo": {
           "bgcolor": "rgb(17,17,17)",
           "landcolor": "rgb(17,17,17)",
           "subunitcolor": "#506784",
           "showland": true,
           "showlakes": true,
           "lakecolor": "rgb(17,17,17)"
          },
          "title": {
           "x": 0.05
          },
          "updatemenudefaults": {
           "bgcolor": "#506784",
           "borderwidth": 0
          },
          "sliderdefaults": {
           "bgcolor": "#C8D4E3",
           "borderwidth": 1,
           "bordercolor": "rgb(17,17,17)",
           "tickwidth": 0
          },
          "mapbox": {
           "style": "dark"
          }
         }
        },
        "xaxis": {
         "anchor": "y",
         "domain": [
          0.0,
          1.0
         ],
         "title": {},
         "dtick": "M1",
         "tickformat": "%b\n%Y"
        },
        "yaxis": {
         "anchor": "x",
         "domain": [
          0.0,
          1.0
         ],
         "title": {
          "text": "Sales (€)"
         }
        },
        "legend": {
         "title": {
          "text": "Items"
         },
         "tracegroupgap": 0,
         "font": {
          "size": 8
         },
         "yanchor": "top",
         "y": 1.55,
         "xanchor": "left",
         "x": 0.01
        },
        "margin": {
         "t": 60
        },
        "title": {
         "text": "Mercadona monthly sales",
         "y": 0.95,
         "x": 0.53,
         "xanchor": "center",
         "yanchor": "top"
        },
        "showlegend": true
       },
       "config": {
        "plotlyServerURL": "https://plot.ly"
       }
      },
      "text/html": "<div>                            <div id=\"4fb5c5f2-9453-4bdc-a4e8-f307940d035c\" class=\"plotly-graph-div\" style=\"height:525px; width:100%;\"></div>            <script type=\"text/javascript\">                require([\"plotly\"], function(Plotly) {                    window.PLOTLYENV=window.PLOTLYENV || {};                                    if (document.getElementById(\"4fb5c5f2-9453-4bdc-a4e8-f307940d035c\")) {                    Plotly.newPlot(                        \"4fb5c5f2-9453-4bdc-a4e8-f307940d035c\",                        [{\"hovertemplate\":\"color=Cerveza Cl\\u00e1sica Steinburg<br>x=%{x}<br>sales=%{y}<extra></extra>\",\"legendgroup\":\"Cerveza Cl\\u00e1sica Steinburg\",\"line\":{\"color\":\"#636efa\",\"dash\":\"solid\"},\"marker\":{\"symbol\":\"circle\"},\"mode\":\"lines\",\"name\":\"Cerveza Cl\\u00e1sica Steinburg\",\"orientation\":\"v\",\"showlegend\":true,\"x\":[\"2021-03-31T00:00:00\",\"2021-04-30T00:00:00\",\"2021-05-31T00:00:00\",\"2021-06-30T00:00:00\",\"2021-07-31T00:00:00\",\"2021-08-31T00:00:00\",\"2021-09-30T00:00:00\",\"2021-10-31T00:00:00\",\"2021-11-30T00:00:00\",\"2021-12-31T00:00:00\",\"2022-01-31T00:00:00\",\"2022-02-28T00:00:00\",\"2022-03-31T00:00:00\",\"2022-04-30T00:00:00\",\"2022-05-31T00:00:00\",\"2022-06-30T00:00:00\",\"2022-07-31T00:00:00\",\"2022-08-31T00:00:00\",\"2022-09-30T00:00:00\",\"2022-10-31T00:00:00\",\"2022-11-30T00:00:00\"],\"xaxis\":\"x\",\"y\":[422.55,469.5,485.15,469.5,485.15,485.15,469.5,485.15,469.5,489.65,495.49,474.87,528.55,511.5,529.72,515.4,532.58,532.58,445.0,533.62,288.15999999999997],\"yaxis\":\"y\",\"type\":\"scatter\"},{\"hovertemplate\":\"color=Cerveza Especial Steinburg<br>x=%{x}<br>sales=%{y}<extra></extra>\",\"legendgroup\":\"Cerveza Especial Steinburg\",\"line\":{\"color\":\"#EF553B\",\"dash\":\"solid\"},\"marker\":{\"symbol\":\"circle\"},\"mode\":\"lines\",\"name\":\"Cerveza Especial Steinburg\",\"orientation\":\"v\",\"showlegend\":true,\"x\":[\"2021-03-31T00:00:00\",\"2021-04-30T00:00:00\",\"2021-05-31T00:00:00\",\"2021-06-30T00:00:00\",\"2021-07-31T00:00:00\",\"2021-08-31T00:00:00\",\"2021-09-30T00:00:00\",\"2021-10-31T00:00:00\",\"2021-11-30T00:00:00\",\"2021-12-31T00:00:00\",\"2022-01-31T00:00:00\",\"2022-02-28T00:00:00\",\"2022-03-31T00:00:00\",\"2022-04-30T00:00:00\",\"2022-05-31T00:00:00\",\"2022-06-30T00:00:00\",\"2022-07-31T00:00:00\",\"2022-08-31T00:00:00\",\"2022-09-30T00:00:00\",\"2022-10-31T00:00:00\",\"2022-11-30T00:00:00\"],\"xaxis\":\"x\",\"y\":[387.18,430.2,444.54,430.2,444.54,444.53999999999996,430.2,444.54,430.2,444.54,446.1,412.91,431.47,425.1,441.61,429.06,447.33000000000004,443.17,411.06,447.33000000000004,230.88],\"yaxis\":\"y\",\"type\":\"scatter\"},{\"hovertemplate\":\"color=Refresco Coca-Cola<br>x=%{x}<br>sales=%{y}<extra></extra>\",\"legendgroup\":\"Refresco Coca-Cola\",\"line\":{\"color\":\"#00cc96\",\"dash\":\"solid\"},\"marker\":{\"symbol\":\"circle\"},\"mode\":\"lines\",\"name\":\"Refresco Coca-Cola\",\"orientation\":\"v\",\"showlegend\":true,\"x\":[\"2021-03-31T00:00:00\",\"2021-04-30T00:00:00\",\"2021-05-31T00:00:00\",\"2021-06-30T00:00:00\",\"2021-07-31T00:00:00\",\"2021-08-31T00:00:00\",\"2021-09-30T00:00:00\",\"2021-10-31T00:00:00\",\"2021-11-30T00:00:00\",\"2021-12-31T00:00:00\",\"2022-01-31T00:00:00\",\"2022-02-28T00:00:00\",\"2022-03-31T00:00:00\",\"2022-04-30T00:00:00\",\"2022-05-31T00:00:00\",\"2022-06-30T00:00:00\",\"2022-07-31T00:00:00\",\"2022-08-31T00:00:00\",\"2022-09-30T00:00:00\",\"2022-10-31T00:00:00\",\"2022-11-30T00:00:00\"],\"xaxis\":\"x\",\"y\":[539.4,594.9,614.82,611.88,620.72,628.06,620.76,650.3,626.37,623.9399999999999,651.83,596.78,676.11,637.3,670.37,630.15,649.38,669.54,655.68,689.47,349.3],\"yaxis\":\"y\",\"type\":\"scatter\"},{\"hovertemplate\":\"color=Refresco Coca-Cola Zero az\\u00facar<br>x=%{x}<br>sales=%{y}<extra></extra>\",\"legendgroup\":\"Refresco Coca-Cola Zero az\\u00facar\",\"line\":{\"color\":\"#ab63fa\",\"dash\":\"solid\"},\"marker\":{\"symbol\":\"circle\"},\"mode\":\"lines\",\"name\":\"Refresco Coca-Cola Zero az\\u00facar\",\"orientation\":\"v\",\"showlegend\":true,\"x\":[\"2021-03-31T00:00:00\",\"2021-04-30T00:00:00\",\"2021-05-31T00:00:00\",\"2021-06-30T00:00:00\",\"2021-07-31T00:00:00\",\"2021-08-31T00:00:00\",\"2021-09-30T00:00:00\",\"2021-10-31T00:00:00\",\"2021-11-30T00:00:00\",\"2021-12-31T00:00:00\",\"2022-01-31T00:00:00\",\"2022-02-28T00:00:00\",\"2022-03-31T00:00:00\",\"2022-04-30T00:00:00\",\"2022-05-31T00:00:00\",\"2022-06-30T00:00:00\",\"2022-07-31T00:00:00\",\"2022-08-31T00:00:00\",\"2022-09-30T00:00:00\",\"2022-10-31T00:00:00\",\"2022-11-30T00:00:00\"],\"xaxis\":\"x\",\"y\":[503.28,559.2,578.12,586.64,589.84,628.06,620.76,637.7,618.81,623.9399999999999,651.83,596.78,676.11,637.3,670.37,630.15,649.38,669.54,655.68,689.47,349.3],\"yaxis\":\"y\",\"type\":\"scatter\"},{\"hovertemplate\":\"color=Refresco cola Hacendado<br>x=%{x}<br>sales=%{y}<extra></extra>\",\"legendgroup\":\"Refresco cola Hacendado\",\"line\":{\"color\":\"#FFA15A\",\"dash\":\"solid\"},\"marker\":{\"symbol\":\"circle\"},\"mode\":\"lines\",\"name\":\"Refresco cola Hacendado\",\"orientation\":\"v\",\"showlegend\":true,\"x\":[\"2021-03-31T00:00:00\",\"2021-04-30T00:00:00\",\"2021-05-31T00:00:00\",\"2021-06-30T00:00:00\",\"2021-07-31T00:00:00\",\"2021-08-31T00:00:00\",\"2021-09-30T00:00:00\",\"2021-10-31T00:00:00\",\"2021-11-30T00:00:00\",\"2021-12-31T00:00:00\",\"2022-01-31T00:00:00\",\"2022-02-28T00:00:00\",\"2022-03-31T00:00:00\",\"2022-04-30T00:00:00\",\"2022-05-31T00:00:00\",\"2022-06-30T00:00:00\",\"2022-07-31T00:00:00\",\"2022-08-31T00:00:00\",\"2022-09-30T00:00:00\",\"2022-10-31T00:00:00\",\"2022-11-30T00:00:00\"],\"xaxis\":\"x\",\"y\":[139.05,154.5,159.65,154.16,159.03,159.03,153.9,159.03,153.9,159.03,159.03,143.64,159.03,153.9,175.13,173.70000000000002,179.43,177.63,171.9,180.88,99.18],\"yaxis\":\"y\",\"type\":\"scatter\"}],                        {\"template\":{\"data\":{\"histogram2dcontour\":[{\"type\":\"histogram2dcontour\",\"colorbar\":{\"outlinewidth\":0,\"ticks\":\"\"},\"colorscale\":[[0.0,\"#0d0887\"],[0.1111111111111111,\"#46039f\"],[0.2222222222222222,\"#7201a8\"],[0.3333333333333333,\"#9c179e\"],[0.4444444444444444,\"#bd3786\"],[0.5555555555555556,\"#d8576b\"],[0.6666666666666666,\"#ed7953\"],[0.7777777777777778,\"#fb9f3a\"],[0.8888888888888888,\"#fdca26\"],[1.0,\"#f0f921\"]]}],\"choropleth\":[{\"type\":\"choropleth\",\"colorbar\":{\"outlinewidth\":0,\"ticks\":\"\"}}],\"histogram2d\":[{\"type\":\"histogram2d\",\"colorbar\":{\"outlinewidth\":0,\"ticks\":\"\"},\"colorscale\":[[0.0,\"#0d0887\"],[0.1111111111111111,\"#46039f\"],[0.2222222222222222,\"#7201a8\"],[0.3333333333333333,\"#9c179e\"],[0.4444444444444444,\"#bd3786\"],[0.5555555555555556,\"#d8576b\"],[0.6666666666666666,\"#ed7953\"],[0.7777777777777778,\"#fb9f3a\"],[0.8888888888888888,\"#fdca26\"],[1.0,\"#f0f921\"]]}],\"heatmap\":[{\"type\":\"heatmap\",\"colorbar\":{\"outlinewidth\":0,\"ticks\":\"\"},\"colorscale\":[[0.0,\"#0d0887\"],[0.1111111111111111,\"#46039f\"],[0.2222222222222222,\"#7201a8\"],[0.3333333333333333,\"#9c179e\"],[0.4444444444444444,\"#bd3786\"],[0.5555555555555556,\"#d8576b\"],[0.6666666666666666,\"#ed7953\"],[0.7777777777777778,\"#fb9f3a\"],[0.8888888888888888,\"#fdca26\"],[1.0,\"#f0f921\"]]}],\"heatmapgl\":[{\"type\":\"heatmapgl\",\"colorbar\":{\"outlinewidth\":0,\"ticks\":\"\"},\"colorscale\":[[0.0,\"#0d0887\"],[0.1111111111111111,\"#46039f\"],[0.2222222222222222,\"#7201a8\"],[0.3333333333333333,\"#9c179e\"],[0.4444444444444444,\"#bd3786\"],[0.5555555555555556,\"#d8576b\"],[0.6666666666666666,\"#ed7953\"],[0.7777777777777778,\"#fb9f3a\"],[0.8888888888888888,\"#fdca26\"],[1.0,\"#f0f921\"]]}],\"contourcarpet\":[{\"type\":\"contourcarpet\",\"colorbar\":{\"outlinewidth\":0,\"ticks\":\"\"}}],\"contour\":[{\"type\":\"contour\",\"colorbar\":{\"outlinewidth\":0,\"ticks\":\"\"},\"colorscale\":[[0.0,\"#0d0887\"],[0.1111111111111111,\"#46039f\"],[0.2222222222222222,\"#7201a8\"],[0.3333333333333333,\"#9c179e\"],[0.4444444444444444,\"#bd3786\"],[0.5555555555555556,\"#d8576b\"],[0.6666666666666666,\"#ed7953\"],[0.7777777777777778,\"#fb9f3a\"],[0.8888888888888888,\"#fdca26\"],[1.0,\"#f0f921\"]]}],\"surface\":[{\"type\":\"surface\",\"colorbar\":{\"outlinewidth\":0,\"ticks\":\"\"},\"colorscale\":[[0.0,\"#0d0887\"],[0.1111111111111111,\"#46039f\"],[0.2222222222222222,\"#7201a8\"],[0.3333333333333333,\"#9c179e\"],[0.4444444444444444,\"#bd3786\"],[0.5555555555555556,\"#d8576b\"],[0.6666666666666666,\"#ed7953\"],[0.7777777777777778,\"#fb9f3a\"],[0.8888888888888888,\"#fdca26\"],[1.0,\"#f0f921\"]]}],\"mesh3d\":[{\"type\":\"mesh3d\",\"colorbar\":{\"outlinewidth\":0,\"ticks\":\"\"}}],\"scatter\":[{\"marker\":{\"line\":{\"color\":\"#283442\"}},\"type\":\"scatter\"}],\"parcoords\":[{\"type\":\"parcoords\",\"line\":{\"colorbar\":{\"outlinewidth\":0,\"ticks\":\"\"}}}],\"scatterpolargl\":[{\"type\":\"scatterpolargl\",\"marker\":{\"colorbar\":{\"outlinewidth\":0,\"ticks\":\"\"}}}],\"bar\":[{\"error_x\":{\"color\":\"#f2f5fa\"},\"error_y\":{\"color\":\"#f2f5fa\"},\"marker\":{\"line\":{\"color\":\"rgb(17,17,17)\",\"width\":0.5},\"pattern\":{\"fillmode\":\"overlay\",\"size\":10,\"solidity\":0.2}},\"type\":\"bar\"}],\"scattergeo\":[{\"type\":\"scattergeo\",\"marker\":{\"colorbar\":{\"outlinewidth\":0,\"ticks\":\"\"}}}],\"scatterpolar\":[{\"type\":\"scatterpolar\",\"marker\":{\"colorbar\":{\"outlinewidth\":0,\"ticks\":\"\"}}}],\"histogram\":[{\"marker\":{\"pattern\":{\"fillmode\":\"overlay\",\"size\":10,\"solidity\":0.2}},\"type\":\"histogram\"}],\"scattergl\":[{\"marker\":{\"line\":{\"color\":\"#283442\"}},\"type\":\"scattergl\"}],\"scatter3d\":[{\"type\":\"scatter3d\",\"line\":{\"colorbar\":{\"outlinewidth\":0,\"ticks\":\"\"}},\"marker\":{\"colorbar\":{\"outlinewidth\":0,\"ticks\":\"\"}}}],\"scattermapbox\":[{\"type\":\"scattermapbox\",\"marker\":{\"colorbar\":{\"outlinewidth\":0,\"ticks\":\"\"}}}],\"scatterternary\":[{\"type\":\"scatterternary\",\"marker\":{\"colorbar\":{\"outlinewidth\":0,\"ticks\":\"\"}}}],\"scattercarpet\":[{\"type\":\"scattercarpet\",\"marker\":{\"colorbar\":{\"outlinewidth\":0,\"ticks\":\"\"}}}],\"carpet\":[{\"aaxis\":{\"endlinecolor\":\"#A2B1C6\",\"gridcolor\":\"#506784\",\"linecolor\":\"#506784\",\"minorgridcolor\":\"#506784\",\"startlinecolor\":\"#A2B1C6\"},\"baxis\":{\"endlinecolor\":\"#A2B1C6\",\"gridcolor\":\"#506784\",\"linecolor\":\"#506784\",\"minorgridcolor\":\"#506784\",\"startlinecolor\":\"#A2B1C6\"},\"type\":\"carpet\"}],\"table\":[{\"cells\":{\"fill\":{\"color\":\"#506784\"},\"line\":{\"color\":\"rgb(17,17,17)\"}},\"header\":{\"fill\":{\"color\":\"#2a3f5f\"},\"line\":{\"color\":\"rgb(17,17,17)\"}},\"type\":\"table\"}],\"barpolar\":[{\"marker\":{\"line\":{\"color\":\"rgb(17,17,17)\",\"width\":0.5},\"pattern\":{\"fillmode\":\"overlay\",\"size\":10,\"solidity\":0.2}},\"type\":\"barpolar\"}],\"pie\":[{\"automargin\":true,\"type\":\"pie\"}]},\"layout\":{\"autotypenumbers\":\"strict\",\"colorway\":[\"#636efa\",\"#EF553B\",\"#00cc96\",\"#ab63fa\",\"#FFA15A\",\"#19d3f3\",\"#FF6692\",\"#B6E880\",\"#FF97FF\",\"#FECB52\"],\"font\":{\"color\":\"#f2f5fa\"},\"hovermode\":\"closest\",\"hoverlabel\":{\"align\":\"left\"},\"paper_bgcolor\":\"rgb(17,17,17)\",\"plot_bgcolor\":\"rgb(17,17,17)\",\"polar\":{\"bgcolor\":\"rgb(17,17,17)\",\"angularaxis\":{\"gridcolor\":\"#506784\",\"linecolor\":\"#506784\",\"ticks\":\"\"},\"radialaxis\":{\"gridcolor\":\"#506784\",\"linecolor\":\"#506784\",\"ticks\":\"\"}},\"ternary\":{\"bgcolor\":\"rgb(17,17,17)\",\"aaxis\":{\"gridcolor\":\"#506784\",\"linecolor\":\"#506784\",\"ticks\":\"\"},\"baxis\":{\"gridcolor\":\"#506784\",\"linecolor\":\"#506784\",\"ticks\":\"\"},\"caxis\":{\"gridcolor\":\"#506784\",\"linecolor\":\"#506784\",\"ticks\":\"\"}},\"coloraxis\":{\"colorbar\":{\"outlinewidth\":0,\"ticks\":\"\"}},\"colorscale\":{\"sequential\":[[0.0,\"#0d0887\"],[0.1111111111111111,\"#46039f\"],[0.2222222222222222,\"#7201a8\"],[0.3333333333333333,\"#9c179e\"],[0.4444444444444444,\"#bd3786\"],[0.5555555555555556,\"#d8576b\"],[0.6666666666666666,\"#ed7953\"],[0.7777777777777778,\"#fb9f3a\"],[0.8888888888888888,\"#fdca26\"],[1.0,\"#f0f921\"]],\"sequentialminus\":[[0.0,\"#0d0887\"],[0.1111111111111111,\"#46039f\"],[0.2222222222222222,\"#7201a8\"],[0.3333333333333333,\"#9c179e\"],[0.4444444444444444,\"#bd3786\"],[0.5555555555555556,\"#d8576b\"],[0.6666666666666666,\"#ed7953\"],[0.7777777777777778,\"#fb9f3a\"],[0.8888888888888888,\"#fdca26\"],[1.0,\"#f0f921\"]],\"diverging\":[[0,\"#8e0152\"],[0.1,\"#c51b7d\"],[0.2,\"#de77ae\"],[0.3,\"#f1b6da\"],[0.4,\"#fde0ef\"],[0.5,\"#f7f7f7\"],[0.6,\"#e6f5d0\"],[0.7,\"#b8e186\"],[0.8,\"#7fbc41\"],[0.9,\"#4d9221\"],[1,\"#276419\"]]},\"xaxis\":{\"gridcolor\":\"#283442\",\"linecolor\":\"#506784\",\"ticks\":\"\",\"title\":{\"standoff\":15},\"zerolinecolor\":\"#283442\",\"automargin\":true,\"zerolinewidth\":2},\"yaxis\":{\"gridcolor\":\"#283442\",\"linecolor\":\"#506784\",\"ticks\":\"\",\"title\":{\"standoff\":15},\"zerolinecolor\":\"#283442\",\"automargin\":true,\"zerolinewidth\":2},\"scene\":{\"xaxis\":{\"backgroundcolor\":\"rgb(17,17,17)\",\"gridcolor\":\"#506784\",\"linecolor\":\"#506784\",\"showbackground\":true,\"ticks\":\"\",\"zerolinecolor\":\"#C8D4E3\",\"gridwidth\":2},\"yaxis\":{\"backgroundcolor\":\"rgb(17,17,17)\",\"gridcolor\":\"#506784\",\"linecolor\":\"#506784\",\"showbackground\":true,\"ticks\":\"\",\"zerolinecolor\":\"#C8D4E3\",\"gridwidth\":2},\"zaxis\":{\"backgroundcolor\":\"rgb(17,17,17)\",\"gridcolor\":\"#506784\",\"linecolor\":\"#506784\",\"showbackground\":true,\"ticks\":\"\",\"zerolinecolor\":\"#C8D4E3\",\"gridwidth\":2}},\"shapedefaults\":{\"line\":{\"color\":\"#f2f5fa\"}},\"annotationdefaults\":{\"arrowcolor\":\"#f2f5fa\",\"arrowhead\":0,\"arrowwidth\":1},\"geo\":{\"bgcolor\":\"rgb(17,17,17)\",\"landcolor\":\"rgb(17,17,17)\",\"subunitcolor\":\"#506784\",\"showland\":true,\"showlakes\":true,\"lakecolor\":\"rgb(17,17,17)\"},\"title\":{\"x\":0.05},\"updatemenudefaults\":{\"bgcolor\":\"#506784\",\"borderwidth\":0},\"sliderdefaults\":{\"bgcolor\":\"#C8D4E3\",\"borderwidth\":1,\"bordercolor\":\"rgb(17,17,17)\",\"tickwidth\":0},\"mapbox\":{\"style\":\"dark\"}}},\"xaxis\":{\"anchor\":\"y\",\"domain\":[0.0,1.0],\"title\":{},\"dtick\":\"M1\",\"tickformat\":\"%b\\n%Y\"},\"yaxis\":{\"anchor\":\"x\",\"domain\":[0.0,1.0],\"title\":{\"text\":\"Sales (\\u20ac)\"}},\"legend\":{\"title\":{\"text\":\"Items\"},\"tracegroupgap\":0,\"font\":{\"size\":8},\"yanchor\":\"top\",\"y\":1.55,\"xanchor\":\"left\",\"x\":0.01},\"margin\":{\"t\":60},\"title\":{\"text\":\"Mercadona monthly sales\",\"y\":0.95,\"x\":0.53,\"xanchor\":\"center\",\"yanchor\":\"top\"},\"showlegend\":true},                        {\"responsive\": true}                    ).then(function(){\n                            \nvar gd = document.getElementById('4fb5c5f2-9453-4bdc-a4e8-f307940d035c');\nvar x = new MutationObserver(function (mutations, observer) {{\n        var display = window.getComputedStyle(gd).display;\n        if (!display || display === 'none') {{\n            console.log([gd, 'removed!']);\n            Plotly.purge(gd);\n            observer.disconnect();\n        }}\n}});\n\n// Listen for the removal of the full notebook cells\nvar notebookContainer = gd.closest('#notebook-container');\nif (notebookContainer) {{\n    x.observe(notebookContainer, {childList: true});\n}}\n\n// Listen for the clearing of the current output cell\nvar outputEl = gd.closest('.output');\nif (outputEl) {{\n    x.observe(outputEl, {childList: true});\n}}\n\n                        })                };                });            </script>        </div>"
     },
     "metadata": {},
     "output_type": "display_data"
    }
   ],
   "source": [
    "df = px.data.stocks()\n",
    "fig= px.line(Merca5_oct1, x=Merca5_oct1.index.get_level_values(0), y='sales', color=Merca5_oct1.index.get_level_values(1))\n",
    "fig.update_xaxes(dtick='M1', tickformat = '%b\\n%Y')\n",
    "fig.update_layout(showlegend= True,\n",
    "                  xaxis_title= None, yaxis_title=\"Sales (€)\",\n",
    "                  title={\n",
    "        'text': 'Mercadona monthly sales',\n",
    "        'y':0.95,\n",
    "        'x':0.53,\n",
    "        'xanchor': 'center',\n",
    "        'yanchor': 'top'},\n",
    "    legend=dict(\n",
    "    yanchor=\"top\", y=1.55,\n",
    "    xanchor=\"left\", x=0.01,\n",
    "    title = 'Items',\n",
    "    font=dict(size=8)\n",
    "))\n",
    "fig.show()\n",
    "#fig.write_html(\"data/Mercadona_month_sales.html\")"
   ],
   "metadata": {
    "collapsed": false
   }
  },
  {
   "cell_type": "markdown",
   "source": [
    "## 4. Compare daily, weekly and monthly sales among supermarkets"
   ],
   "metadata": {
    "collapsed": false
   }
  },
  {
   "cell_type": "markdown",
   "source": [
    "daily sales"
   ],
   "metadata": {
    "collapsed": false
   }
  },
  {
   "cell_type": "code",
   "execution_count": 86,
   "outputs": [],
   "source": [
    "raw_data_carre.set_index('daily_sales', inplace=True)\n",
    "raw_data_dia.set_index('daily_sales', inplace=True)\n",
    "raw_data_merca.set_index('daily_sales', inplace=True)"
   ],
   "metadata": {
    "collapsed": false
   }
  },
  {
   "cell_type": "code",
   "execution_count": 87,
   "outputs": [],
   "source": [
    "dailyCarre = raw_data_carre['price'].resample('D').sum()\n",
    "dailyDia = raw_data_dia['price'].resample('D').sum()\n",
    "dailyMerca = raw_data_merca['price'].resample('D').sum()"
   ],
   "metadata": {
    "collapsed": false
   }
  },
  {
   "cell_type": "code",
   "execution_count": 88,
   "outputs": [
    {
     "data": {
      "text/plain": "             Carrefour sales  Dia sales  Mercadona sales\ndaily_sales                                             \n2021-03-05          34665.54   24797.77         19608.53\n2021-03-06          34649.46   24950.92         19543.77\n2021-03-07          34805.02   24715.95         19576.10\n2021-03-08          34751.49   24866.39         19592.61\n2021-03-09          33989.38   24701.35         19393.84\n...                      ...        ...              ...\n2022-11-12          17048.31   18433.28         18758.75\n2022-11-13          16949.82   18378.29         18756.34\n2022-11-14          17566.90   18449.29         18869.38\n2022-11-15          17263.17   18260.09         18869.08\n2022-11-16          17034.04   18265.58         18858.08\n\n[622 rows x 3 columns]",
      "text/html": "<div>\n<style scoped>\n    .dataframe tbody tr th:only-of-type {\n        vertical-align: middle;\n    }\n\n    .dataframe tbody tr th {\n        vertical-align: top;\n    }\n\n    .dataframe thead th {\n        text-align: right;\n    }\n</style>\n<table border=\"1\" class=\"dataframe\">\n  <thead>\n    <tr style=\"text-align: right;\">\n      <th></th>\n      <th>Carrefour sales</th>\n      <th>Dia sales</th>\n      <th>Mercadona sales</th>\n    </tr>\n    <tr>\n      <th>daily_sales</th>\n      <th></th>\n      <th></th>\n      <th></th>\n    </tr>\n  </thead>\n  <tbody>\n    <tr>\n      <th>2021-03-05</th>\n      <td>34665.54</td>\n      <td>24797.77</td>\n      <td>19608.53</td>\n    </tr>\n    <tr>\n      <th>2021-03-06</th>\n      <td>34649.46</td>\n      <td>24950.92</td>\n      <td>19543.77</td>\n    </tr>\n    <tr>\n      <th>2021-03-07</th>\n      <td>34805.02</td>\n      <td>24715.95</td>\n      <td>19576.10</td>\n    </tr>\n    <tr>\n      <th>2021-03-08</th>\n      <td>34751.49</td>\n      <td>24866.39</td>\n      <td>19592.61</td>\n    </tr>\n    <tr>\n      <th>2021-03-09</th>\n      <td>33989.38</td>\n      <td>24701.35</td>\n      <td>19393.84</td>\n    </tr>\n    <tr>\n      <th>...</th>\n      <td>...</td>\n      <td>...</td>\n      <td>...</td>\n    </tr>\n    <tr>\n      <th>2022-11-12</th>\n      <td>17048.31</td>\n      <td>18433.28</td>\n      <td>18758.75</td>\n    </tr>\n    <tr>\n      <th>2022-11-13</th>\n      <td>16949.82</td>\n      <td>18378.29</td>\n      <td>18756.34</td>\n    </tr>\n    <tr>\n      <th>2022-11-14</th>\n      <td>17566.90</td>\n      <td>18449.29</td>\n      <td>18869.38</td>\n    </tr>\n    <tr>\n      <th>2022-11-15</th>\n      <td>17263.17</td>\n      <td>18260.09</td>\n      <td>18869.08</td>\n    </tr>\n    <tr>\n      <th>2022-11-16</th>\n      <td>17034.04</td>\n      <td>18265.58</td>\n      <td>18858.08</td>\n    </tr>\n  </tbody>\n</table>\n<p>622 rows × 3 columns</p>\n</div>"
     },
     "execution_count": 88,
     "metadata": {},
     "output_type": "execute_result"
    }
   ],
   "source": [
    "dailyComparatives = pd.concat([dailyCarre,dailyDia,dailyMerca], join='inner', axis=1)\n",
    "dailyComparatives.columns =['Carrefour sales', 'Dia sales', 'Mercadona sales']\n",
    "dailyComparatives = dailyComparatives.rename_axis('daily_sales')\n",
    "dailyComparatives"
   ],
   "metadata": {
    "collapsed": false
   }
  },
  {
   "cell_type": "markdown",
   "source": [
    "weekly sales"
   ],
   "metadata": {
    "collapsed": false
   }
  },
  {
   "cell_type": "code",
   "execution_count": 89,
   "outputs": [
    {
     "name": "stdout",
     "output_type": "stream",
     "text": [
      "       Carrefour sales   Dia sales  Mercadona sales\n",
      "Mon         1372001.67  1714852.75       1703861.81\n",
      "Tues        1345505.84  1729391.12       1702967.30\n",
      "Wed         1348448.74  1724968.46       1702079.42\n",
      "Thurs       1322035.80  1712927.78       1683145.44\n",
      "Fri         1374363.97  1717602.13       1702921.62\n",
      "Sat         1365634.77  1708067.61       1703494.39\n",
      "Sun         1337640.52  1725315.71       1701756.86\n"
     ]
    }
   ],
   "source": [
    "by_weekday = dailyComparatives.groupby(dailyComparatives.index.dayofweek).sum()\n",
    "by_weekday.index = ['Mon', 'Tues', \"Wed\", \"Thurs\", \"Fri\", \"Sat\", \"Sun\"]\n",
    "print(by_weekday)"
   ],
   "metadata": {
    "collapsed": false
   }
  },
  {
   "cell_type": "code",
   "execution_count": 90,
   "outputs": [
    {
     "data": {
      "text/plain": "<Figure size 640x480 with 3 Axes>",
      "image/png": "[encoded data removed]"
     },
     "metadata": {},
     "output_type": "display_data"
    }
   ],
   "source": [
    "fig, axs= plt.subplots(3, sharex=True)\n",
    "fig.suptitle('Weekday Sales')\n",
    "x = by_weekday.index\n",
    "axs[0].plot(x, by_weekday['Carrefour sales'], 'tab:orange')\n",
    "axs[0].set_title('Carrefour')\n",
    "axs[1].plot(x, by_weekday['Dia sales'],'tab:green')\n",
    "axs[1].set_title('Dia')\n",
    "axs[2].plot(x, by_weekday['Mercadona sales'])\n",
    "axs[2].set_title('Mercadona')\n",
    "fig.tight_layout();"
   ],
   "metadata": {
    "collapsed": false
   }
  },
  {
   "cell_type": "markdown",
   "source": [
    "monthly sales"
   ],
   "metadata": {
    "collapsed": false
   }
  },
  {
   "cell_type": "code",
   "execution_count": 91,
   "outputs": [
    {
     "data": {
      "text/plain": "daily_sales\n2021-03-31    962430.48\n2021-04-30    432966.71\n2021-05-31    367525.73\n2021-06-30    364404.03\n2021-07-31    381906.89\n2021-08-31    366186.24\n2021-09-30    365166.30\n2021-10-31    399537.17\n2021-11-30    460273.76\n2021-12-31    469766.81\n2022-01-31    479942.78\n2022-02-28    446416.91\n2022-03-31    443549.21\n2022-04-30    440755.48\n2022-05-31    460335.95\n2022-06-30    475760.20\n2022-07-31    488832.13\n2022-08-31    476266.42\n2022-09-30    469919.77\n2022-10-31    458035.06\n2022-11-30    255653.28\nFreq: M, Name: price, dtype: float64"
     },
     "execution_count": 91,
     "metadata": {},
     "output_type": "execute_result"
    }
   ],
   "source": [
    "monthlyCarre = raw_data_carre['price'].resample('M').sum()\n",
    "monthlyDia = raw_data_dia['price'].resample('M').sum()\n",
    "monthlyMerca = raw_data_merca['price'].resample('M').sum()\n",
    "monthlyCarre"
   ],
   "metadata": {
    "collapsed": false
   }
  },
  {
   "cell_type": "code",
   "execution_count": 92,
   "outputs": [
    {
     "data": {
      "text/plain": "               Carrefour sales  Dia sales  Mercadona sales\nmonthly_sales                                             \n2021-03-31           962430.48  673134.65        524837.24\n2021-04-30           432966.71  615512.44        579816.26\n2021-05-31           367525.73  617279.81        603101.06\n2021-06-30           364404.03  590204.90        585391.99\n2021-07-31           381906.89  599631.72        604384.10\n2021-08-31           366186.24  519391.37        598523.70\n2021-09-30           365166.30  455585.41        569412.06\n2021-10-31           399537.17  485402.51        585276.54\n2021-11-30           460273.76  589922.41        581745.56\n2021-12-31           469766.81  625564.29        623125.01\n2022-01-31           479942.78  603755.95        596551.16\n2022-02-28           446416.91  580798.61        536457.22\n2022-03-31           443549.21  637430.55        590486.51\n2022-04-30           440755.48  624705.64        580965.90\n2022-05-31           460335.95  651633.04        602811.76\n2022-06-30           475760.20  584915.77        574104.17\n2022-07-31           488832.13  626872.53        590363.79\n2022-08-31           476266.42  590058.39        575495.39\n2022-09-30           469919.77  517200.35        541070.68\n2022-10-31           458035.06  552473.88        558655.03\n2022-11-30           255653.28  291651.34        297651.71",
      "text/html": "<div>\n<style scoped>\n    .dataframe tbody tr th:only-of-type {\n        vertical-align: middle;\n    }\n\n    .dataframe tbody tr th {\n        vertical-align: top;\n    }\n\n    .dataframe thead th {\n        text-align: right;\n    }\n</style>\n<table border=\"1\" class=\"dataframe\">\n  <thead>\n    <tr style=\"text-align: right;\">\n      <th></th>\n      <th>Carrefour sales</th>\n      <th>Dia sales</th>\n      <th>Mercadona sales</th>\n    </tr>\n    <tr>\n      <th>monthly_sales</th>\n      <th></th>\n      <th></th>\n      <th></th>\n    </tr>\n  </thead>\n  <tbody>\n    <tr>\n      <th>2021-03-31</th>\n      <td>962430.48</td>\n      <td>673134.65</td>\n      <td>524837.24</td>\n    </tr>\n    <tr>\n      <th>2021-04-30</th>\n      <td>432966.71</td>\n      <td>615512.44</td>\n      <td>579816.26</td>\n    </tr>\n    <tr>\n      <th>2021-05-31</th>\n      <td>367525.73</td>\n      <td>617279.81</td>\n      <td>603101.06</td>\n    </tr>\n    <tr>\n      <th>2021-06-30</th>\n      <td>364404.03</td>\n      <td>590204.90</td>\n      <td>585391.99</td>\n    </tr>\n    <tr>\n      <th>2021-07-31</th>\n      <td>381906.89</td>\n      <td>599631.72</td>\n      <td>604384.10</td>\n    </tr>\n    <tr>\n      <th>2021-08-31</th>\n      <td>366186.24</td>\n      <td>519391.37</td>\n      <td>598523.70</td>\n    </tr>\n    <tr>\n      <th>2021-09-30</th>\n      <td>365166.30</td>\n      <td>455585.41</td>\n      <td>569412.06</td>\n    </tr>\n    <tr>\n      <th>2021-10-31</th>\n      <td>399537.17</td>\n      <td>485402.51</td>\n      <td>585276.54</td>\n    </tr>\n    <tr>\n      <th>2021-11-30</th>\n      <td>460273.76</td>\n      <td>589922.41</td>\n      <td>581745.56</td>\n    </tr>\n    <tr>\n      <th>2021-12-31</th>\n      <td>469766.81</td>\n      <td>625564.29</td>\n      <td>623125.01</td>\n    </tr>\n    <tr>\n      <th>2022-01-31</th>\n      <td>479942.78</td>\n      <td>603755.95</td>\n      <td>596551.16</td>\n    </tr>\n    <tr>\n      <th>2022-02-28</th>\n      <td>446416.91</td>\n      <td>580798.61</td>\n      <td>536457.22</td>\n    </tr>\n    <tr>\n      <th>2022-03-31</th>\n      <td>443549.21</td>\n      <td>637430.55</td>\n      <td>590486.51</td>\n    </tr>\n    <tr>\n      <th>2022-04-30</th>\n      <td>440755.48</td>\n      <td>624705.64</td>\n      <td>580965.90</td>\n    </tr>\n    <tr>\n      <th>2022-05-31</th>\n      <td>460335.95</td>\n      <td>651633.04</td>\n      <td>602811.76</td>\n    </tr>\n    <tr>\n      <th>2022-06-30</th>\n      <td>475760.20</td>\n      <td>584915.77</td>\n      <td>574104.17</td>\n    </tr>\n    <tr>\n      <th>2022-07-31</th>\n      <td>488832.13</td>\n      <td>626872.53</td>\n      <td>590363.79</td>\n    </tr>\n    <tr>\n      <th>2022-08-31</th>\n      <td>476266.42</td>\n      <td>590058.39</td>\n      <td>575495.39</td>\n    </tr>\n    <tr>\n      <th>2022-09-30</th>\n      <td>469919.77</td>\n      <td>517200.35</td>\n      <td>541070.68</td>\n    </tr>\n    <tr>\n      <th>2022-10-31</th>\n      <td>458035.06</td>\n      <td>552473.88</td>\n      <td>558655.03</td>\n    </tr>\n    <tr>\n      <th>2022-11-30</th>\n      <td>255653.28</td>\n      <td>291651.34</td>\n      <td>297651.71</td>\n    </tr>\n  </tbody>\n</table>\n</div>"
     },
     "execution_count": 92,
     "metadata": {},
     "output_type": "execute_result"
    }
   ],
   "source": [
    "monthlyComparatives = pd.concat([monthlyCarre,monthlyDia,monthlyMerca], join='inner', axis=1)\n",
    "monthlyComparatives.columns =['Carrefour sales', 'Dia sales', 'Mercadona sales']\n",
    "monthlyComparatives = monthlyComparatives.rename_axis('monthly_sales')\n",
    "monthlyComparatives"
   ],
   "metadata": {
    "collapsed": false
   }
  },
  {
   "cell_type": "code",
   "execution_count": 93,
   "outputs": [
    {
     "data": {
      "text/plain": "<Figure size 5000x1000 with 0 Axes>"
     },
     "metadata": {},
     "output_type": "display_data"
    },
    {
     "data": {
      "text/plain": "<Figure size 640x480 with 1 Axes>",
      "image/png": "[encoded data removed]"
     },
     "metadata": {},
     "output_type": "display_data"
    }
   ],
   "source": [
    "plt.figure(figsize=(50,10))\n",
    "monthlyComparatives.plot(style=[\"-\", '--', '-'])\n",
    "plt.title(\"Monthly sales\")\n",
    "plt.legend(fontsize = '9')\n",
    "plt.xlabel(\" Month\")\n",
    "plt.ylabel(\"Monthly sales €\");"
   ],
   "metadata": {
    "collapsed": false
   }
  },
  {
   "cell_type": "markdown",
   "source": [
    "## 5. Modeling:\n",
    "Mercadona's sales volume model. The model would require more data, nevertheless, Let's try!"
   ],
   "metadata": {
    "collapsed": false
   }
  },
  {
   "cell_type": "code",
   "execution_count": 94,
   "outputs": [
    {
     "data": {
      "text/plain": "                                                 name  price daily_sales  unit\n9841  Bebida para deportistas sabor cítrico Hacendado   0.85  2021-03-05     1\n9842  Bebida para deportistas sabor cítrico Hacendado   1.92  2021-03-05     1\n9843  Bebida para deportistas sabor cítrico Hacendado   0.32  2021-03-05     1\n9844                Bebida isotónica naranja Aquarius   1.55  2021-03-05     1\n9845                Bebida isotónica naranja Aquarius   5.92  2021-03-05     1",
      "text/html": "<div>\n<style scoped>\n    .dataframe tbody tr th:only-of-type {\n        vertical-align: middle;\n    }\n\n    .dataframe tbody tr th {\n        vertical-align: top;\n    }\n\n    .dataframe thead th {\n        text-align: right;\n    }\n</style>\n<table border=\"1\" class=\"dataframe\">\n  <thead>\n    <tr style=\"text-align: right;\">\n      <th></th>\n      <th>name</th>\n      <th>price</th>\n      <th>daily_sales</th>\n      <th>unit</th>\n    </tr>\n  </thead>\n  <tbody>\n    <tr>\n      <th>9841</th>\n      <td>Bebida para deportistas sabor cítrico Hacendado</td>\n      <td>0.85</td>\n      <td>2021-03-05</td>\n      <td>1</td>\n    </tr>\n    <tr>\n      <th>9842</th>\n      <td>Bebida para deportistas sabor cítrico Hacendado</td>\n      <td>1.92</td>\n      <td>2021-03-05</td>\n      <td>1</td>\n    </tr>\n    <tr>\n      <th>9843</th>\n      <td>Bebida para deportistas sabor cítrico Hacendado</td>\n      <td>0.32</td>\n      <td>2021-03-05</td>\n      <td>1</td>\n    </tr>\n    <tr>\n      <th>9844</th>\n      <td>Bebida isotónica naranja Aquarius</td>\n      <td>1.55</td>\n      <td>2021-03-05</td>\n      <td>1</td>\n    </tr>\n    <tr>\n      <th>9845</th>\n      <td>Bebida isotónica naranja Aquarius</td>\n      <td>5.92</td>\n      <td>2021-03-05</td>\n      <td>1</td>\n    </tr>\n  </tbody>\n</table>\n</div>"
     },
     "execution_count": 94,
     "metadata": {},
     "output_type": "execute_result"
    }
   ],
   "source": [
    "rmodelMerca.head()"
   ],
   "metadata": {
    "collapsed": false
   }
  },
  {
   "cell_type": "code",
   "execution_count": 95,
   "outputs": [
    {
     "data": {
      "text/plain": "name           0\nprice          0\ndaily_sales    0\nunit           0\ndtype: int64"
     },
     "execution_count": 95,
     "metadata": {},
     "output_type": "execute_result"
    }
   ],
   "source": [
    "#no nans\n",
    "rmodelMerca.isnull().sum()"
   ],
   "metadata": {
    "collapsed": false
   }
  },
  {
   "cell_type": "code",
   "execution_count": 96,
   "outputs": [
    {
     "data": {
      "text/plain": "<Figure size 640x480 with 2 Axes>",
      "image/png": "[encoded data removed]"
     },
     "metadata": {},
     "output_type": "display_data"
    }
   ],
   "source": [
    "#outliers?\n",
    "import matplotlib.dates as mdates\n",
    "\n",
    "ax = rmodelMerca.plot(kind='scatter', x='daily_sales', y='price', c='price')\n",
    "myFmt = mdates.DateFormatter('%m\\n/%y')\n",
    "ax.xaxis.set_major_formatter(myFmt)\n",
    "ax.set_ylabel(\"€\")\n",
    "plt.show()"
   ],
   "metadata": {
    "collapsed": false
   }
  },
  {
   "cell_type": "code",
   "execution_count": 97,
   "outputs": [],
   "source": [
    "modelMerca2 = rmodelMerca.copy()\n"
   ],
   "metadata": {
    "collapsed": false
   }
  },
  {
   "cell_type": "code",
   "execution_count": 98,
   "outputs": [
    {
     "data": {
      "text/plain": "                                                     price  unit  price*unit\ndaily_sales name                                                            \n2021-03-05  1/4 Sandía                                2.60     1        2.60\n            11 Panecillos                             1.00     1        1.00\n            2 Baguettes para hornear Hacendado        0.75     1        0.75\n            3 Baguettes masa madre                    1.15     1        1.15\n            3 Barras de pan                           1.10     1        1.10\n...                                                    ...   ...         ...\n2022-11-16  Zumo fresh jengibre & manzana Hacendado   1.60     1        1.60\n            Zumo fresh maracuyá & chía Hacendado      2.75     1        2.75\n            Zumo pura naranja Hacendado               3.05     2        6.10\n            Zumo pura naranja con pulpa Hacendado     1.05     1        1.05\n            Ñoras Hacendado                           1.40     1        1.40\n\n[3341423 rows x 3 columns]",
      "text/html": "<div>\n<style scoped>\n    .dataframe tbody tr th:only-of-type {\n        vertical-align: middle;\n    }\n\n    .dataframe tbody tr th {\n        vertical-align: top;\n    }\n\n    .dataframe thead th {\n        text-align: right;\n    }\n</style>\n<table border=\"1\" class=\"dataframe\">\n  <thead>\n    <tr style=\"text-align: right;\">\n      <th></th>\n      <th></th>\n      <th>price</th>\n      <th>unit</th>\n      <th>price*unit</th>\n    </tr>\n    <tr>\n      <th>daily_sales</th>\n      <th>name</th>\n      <th></th>\n      <th></th>\n      <th></th>\n    </tr>\n  </thead>\n  <tbody>\n    <tr>\n      <th rowspan=\"5\" valign=\"top\">2021-03-05</th>\n      <th>1/4 Sandía</th>\n      <td>2.60</td>\n      <td>1</td>\n      <td>2.60</td>\n    </tr>\n    <tr>\n      <th>11 Panecillos</th>\n      <td>1.00</td>\n      <td>1</td>\n      <td>1.00</td>\n    </tr>\n    <tr>\n      <th>2 Baguettes para hornear Hacendado</th>\n      <td>0.75</td>\n      <td>1</td>\n      <td>0.75</td>\n    </tr>\n    <tr>\n      <th>3 Baguettes masa madre</th>\n      <td>1.15</td>\n      <td>1</td>\n      <td>1.15</td>\n    </tr>\n    <tr>\n      <th>3 Barras de pan</th>\n      <td>1.10</td>\n      <td>1</td>\n      <td>1.10</td>\n    </tr>\n    <tr>\n      <th>...</th>\n      <th>...</th>\n      <td>...</td>\n      <td>...</td>\n      <td>...</td>\n    </tr>\n    <tr>\n      <th rowspan=\"5\" valign=\"top\">2022-11-16</th>\n      <th>Zumo fresh jengibre &amp; manzana Hacendado</th>\n      <td>1.60</td>\n      <td>1</td>\n      <td>1.60</td>\n    </tr>\n    <tr>\n      <th>Zumo fresh maracuyá &amp; chía Hacendado</th>\n      <td>2.75</td>\n      <td>1</td>\n      <td>2.75</td>\n    </tr>\n    <tr>\n      <th>Zumo pura naranja Hacendado</th>\n      <td>3.05</td>\n      <td>2</td>\n      <td>6.10</td>\n    </tr>\n    <tr>\n      <th>Zumo pura naranja con pulpa Hacendado</th>\n      <td>1.05</td>\n      <td>1</td>\n      <td>1.05</td>\n    </tr>\n    <tr>\n      <th>Ñoras Hacendado</th>\n      <td>1.40</td>\n      <td>1</td>\n      <td>1.40</td>\n    </tr>\n  </tbody>\n</table>\n<p>3341423 rows × 3 columns</p>\n</div>"
     },
     "execution_count": 98,
     "metadata": {},
     "output_type": "execute_result"
    }
   ],
   "source": [
    "modelMerca2 = modelMerca2.groupby(['daily_sales','name']).sum()\n",
    "modelMerca2['price*unit'] = modelMerca2['price']*modelMerca2['unit']\n",
    "modelMerca2"
   ],
   "metadata": {
    "collapsed": false
   }
  },
  {
   "cell_type": "code",
   "execution_count": 99,
   "outputs": [],
   "source": [
    "modelMerca2 = modelMerca2.groupby(['daily_sales']).sum()"
   ],
   "metadata": {
    "collapsed": false
   }
  },
  {
   "cell_type": "code",
   "execution_count": 100,
   "outputs": [],
   "source": [
    "modelMerca2 = modelMerca2.drop(['price','unit'], axis=1)"
   ],
   "metadata": {
    "collapsed": false
   }
  },
  {
   "cell_type": "code",
   "execution_count": 101,
   "outputs": [],
   "source": [
    "modelMerca2.columns = ['Sales_volume']"
   ],
   "metadata": {
    "collapsed": false
   }
  },
  {
   "cell_type": "code",
   "execution_count": 102,
   "outputs": [],
   "source": [
    "trainMerca = modelMerca2.copy()\n",
    "trainMerca.to_excel('./data/processed_data.xlsx')"
   ],
   "metadata": {
    "collapsed": false
   }
  }
 ],
 "metadata": {
  "kernelspec": {
   "display_name": "Python 3",
   "language": "python",
   "name": "python3"
  },
  "language_info": {
   "codemirror_mode": {
    "name": "ipython",
    "version": 2
   },
   "file_extension": ".py",
   "mimetype": "text/x-python",
   "name": "python",
   "nbconvert_exporter": "python",
   "pygments_lexer": "ipython2",
   "version": "2.7.6"
  }
 },
 "nbformat": 4,
 "nbformat_minor": 0
}
